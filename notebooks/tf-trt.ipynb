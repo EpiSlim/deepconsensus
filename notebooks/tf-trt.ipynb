{
 "cells": [
  {
   "cell_type": "markdown",
   "id": "b30971cc",
   "metadata": {},
   "source": [
    "# Running DeepConsensus in TensorRT"
   ]
  },
  {
   "cell_type": "markdown",
   "id": "ef224e9b",
   "metadata": {},
   "source": [
    "## Imports"
   ]
  },
  {
   "cell_type": "code",
   "execution_count": 1,
   "id": "f194b3f1",
   "metadata": {},
   "outputs": [
    {
     "name": "stderr",
     "output_type": "stream",
     "text": [
      "2023-02-06 22:27:28.323235: I tensorflow/core/platform/cpu_feature_guard.cc:194] This TensorFlow binary is optimized with oneAPI Deep Neural Network Library (oneDNN) to use the following CPU instructions in performance-critical operations:  SSE3 SSE4.1 SSE4.2 AVX\n",
      "To enable them in other operations, rebuild TensorFlow with the appropriate compiler flags.\n"
     ]
    }
   ],
   "source": [
    "import tensorflow as tf\n",
    "import numpy as np\n",
    "import random\n",
    "import PIL\n",
    "from IPython.display import display\n",
    "from deepconsensus.models import model_utils\n",
    "from deepconsensus.models import data_providers"
   ]
  },
  {
   "cell_type": "markdown",
   "id": "71dcb273",
   "metadata": {},
   "source": [
    "## Load the examples"
   ]
  },
  {
   "cell_type": "code",
   "execution_count": 2,
   "id": "276b3cc0",
   "metadata": {},
   "outputs": [],
   "source": [
    "%%script false --no-raise-error\n",
    "%%bash\n",
    "# Download Model\n",
    "mkdir -p deepconsensus_model\n",
    "gsutil cp -r gs://brain-genomics-public/research/deepconsensus/models/v1.1/model_checkpoint/* deepconsensus_model/\n",
    "# Download test data\n",
    "gsutil cp gs://brain-genomics-public/research/deepconsensus/training-tutorial/v1.1/test/tf-test-00000-of-00500.tfrecord.gz ./tf-test.tfrecord.gz"
   ]
  },
  {
   "cell_type": "code",
   "execution_count": 3,
   "id": "37dd22e5",
   "metadata": {},
   "outputs": [
    {
     "name": "stderr",
     "output_type": "stream",
     "text": [
      "2023-02-06 22:27:31.041007: I tensorflow/core/platform/cpu_feature_guard.cc:194] This TensorFlow binary is optimized with oneAPI Deep Neural Network Library (oneDNN) to use the following CPU instructions in performance-critical operations:  SSE3 SSE4.1 SSE4.2 AVX\n",
      "To enable them in other operations, rebuild TensorFlow with the appropriate compiler flags.\n",
      "2023-02-06 22:27:31.399962: I tensorflow/core/common_runtime/gpu/gpu_device.cc:1637] Created device /job:localhost/replica:0/task:0/device:GPU:0 with 31119 MB memory:  -> device: 0, name: Tesla V100-DGXS-32GB, pci bus id: 0000:08:00.0, compute capability: 7.0\n",
      "2023-02-06 22:27:31.400630: I tensorflow/core/common_runtime/gpu/gpu_device.cc:1637] Created device /job:localhost/replica:0/task:0/device:GPU:1 with 31119 MB memory:  -> device: 1, name: Tesla V100-DGXS-32GB, pci bus id: 0000:0e:00.0, compute capability: 7.0\n"
     ]
    },
    {
     "name": "stdout",
     "output_type": "stream",
     "text": [
      "name.shape: (1024, 1)\n",
      "label.shape: (1024, 100)\n",
      "rows.shape: (1024, 85, 100, 1)\n",
      "num_passes.shape: (1024, 1)\n",
      "window_pos.shape: (1024, 1)\n"
     ]
    }
   ],
   "source": [
    "checkpoint_path = 'deepconsensus_model/checkpoint'\n",
    "params = model_utils.read_params_from_json(checkpoint_path=checkpoint_path)\n",
    "\n",
    "tfrecord_path = 'tf-test.tfrecord.gz'\n",
    "\n",
    "batch_size = 1024\n",
    "\n",
    "ds = data_providers.get_dataset(tfrecord_path,\n",
    "                                num_epochs=None,\n",
    "                                batch_size=batch_size,\n",
    "                                params=params,\n",
    "                                inference=False)\n",
    "\n",
    "# Just get one batch to inspect:\n",
    "for batch in ds.take(1):\n",
    "  break\n",
    "\n",
    "keys = ['name', 'label', 'rows', 'num_passes', 'window_pos']\n",
    "for key in keys:\n",
    "  print(f'{key}.shape: {batch[key].shape}')"
   ]
  },
  {
   "cell_type": "markdown",
   "id": "d975e7e7",
   "metadata": {},
   "source": [
    "## Load the model"
   ]
  },
  {
   "cell_type": "code",
   "execution_count": 4,
   "id": "7debf0c5",
   "metadata": {
    "scrolled": true
   },
   "outputs": [
    {
     "name": "stdout",
     "output_type": "stream",
     "text": [
      "Model: \"encoder_only_learned_values_transformer\"\n",
      "_________________________________________________________________\n",
      " Layer (type)                Output Shape              Param #   \n",
      "=================================================================\n",
      " relative_position_embedding  multiple                 0         \n",
      "  (RelativePositionEmbedding                                     \n",
      " )                                                               \n",
      "                                                                 \n",
      " encoder_stack (EncoderStack  multiple                 7320200   \n",
      " )                                                               \n",
      "                                                                 \n",
      " dense (Dense)               multiple                  1405      \n",
      "                                                                 \n",
      " softmax (Softmax)           multiple                  0         \n",
      "                                                                 \n",
      " bases_embedding (ModifiedOn  multiple                 40        \n",
      " DeviceEmbedding)                                                \n",
      "                                                                 \n",
      " pw_embedding (ModifiedOnDev  multiple                 2048      \n",
      " iceEmbedding)                                                   \n",
      "                                                                 \n",
      " ip_embedding (ModifiedOnDev  multiple                 2048      \n",
      " iceEmbedding)                                                   \n",
      "                                                                 \n",
      " sn_embedding (ModifiedOnDev  multiple                 4008      \n",
      " iceEmbedding)                                                   \n",
      "                                                                 \n",
      " strand_embedding (ModifiedO  multiple                 6         \n",
      " nDeviceEmbedding)                                               \n",
      "                                                                 \n",
      " dense_1 (Dense)             multiple                  156800    \n",
      "                                                                 \n",
      "=================================================================\n",
      "Total params: 7,486,555\n",
      "Trainable params: 7,486,555\n",
      "Non-trainable params: 0\n",
      "_________________________________________________________________\n"
     ]
    }
   ],
   "source": [
    "loss = model_utils.get_deepconsensus_loss(params)\n",
    "\n",
    "model = model_utils.get_model(params)\n",
    "checkpoint = tf.train.Checkpoint(model=model)\n",
    "\n",
    "row_size = data_providers.get_total_rows(params.max_passes)\n",
    "input_shape = (1, row_size, params.max_length, params.num_channels)\n",
    "model_utils.print_model_summary(model, input_shape)\n",
    "checkpoint.restore(\n",
    "    checkpoint_path).expect_partial().assert_existing_objects_matched()\n",
    "\n",
    "model_utils.modify_params(\n",
    "  params=params,\n",
    "  speedy=True,\n",
    "  max_length=100,\n",
    "  is_training=False)"
   ]
  },
  {
   "cell_type": "code",
   "execution_count": 5,
   "id": "cf01ae7a",
   "metadata": {
    "scrolled": true
   },
   "outputs": [
    {
     "name": "stdout",
     "output_type": "stream",
     "text": [
      "Model: \"encoder_only_learned_values_transformer\"\n",
      "_________________________________________________________________\n",
      " Layer (type)                Output Shape              Param #   \n",
      "=================================================================\n",
      " relative_position_embedding  (100, 280)               0         \n",
      "  (RelativePositionEmbedding                                     \n",
      " )                                                               \n",
      "                                                                 \n",
      " encoder_stack (EncoderStack  {'self_attention_layer_0  7320200  \n",
      " )                           ': (None, 100, 280),                \n",
      "                              'attention_scores_0': (            \n",
      "                             None, 2, 100, 100),                 \n",
      "                              'ffn_layer_0': (None, 1            \n",
      "                             00, 280),                           \n",
      "                              'self_attention_layer_1            \n",
      "                             ': (None, 100, 280),                \n",
      "                              'attention_scores_1': (            \n",
      "                             None, 2, 100, 100),                 \n",
      "                              'ffn_layer_1': (None, 1            \n",
      "                             00, 280),                           \n",
      "                              'self_attention_layer_2            \n",
      "                             ': (None, 100, 280),                \n",
      "                              'attention_scores_2': (            \n",
      "                             None, 2, 100, 100),                 \n",
      "                              'ffn_layer_2': (None, 1            \n",
      "                             00, 280),                           \n",
      "                              'self_attention_layer_3            \n",
      "                             ': (None, 100, 280),                \n",
      "                              'attention_scores_3': (            \n",
      "                             None, 2, 100, 100),                 \n",
      "                              'ffn_layer_3': (None, 1            \n",
      "                             00, 280),                           \n",
      "                              'self_attention_layer_4            \n",
      "                             ': (None, 100, 280),                \n",
      "                              'attention_scores_4': (            \n",
      "                             None, 2, 100, 100),                 \n",
      "                              'ffn_layer_4': (None, 1            \n",
      "                             00, 280),                           \n",
      "                              'final_output': (None,             \n",
      "                             100, 280)}                          \n",
      "                                                                 \n",
      " dense (Dense)               (None, 100, 5)            1405      \n",
      "                                                                 \n",
      " softmax (Softmax)           (None, 100, 5)            0         \n",
      "                                                                 \n",
      " bases_embedding (ModifiedOn  (None, 100, 8)           40        \n",
      " DeviceEmbedding)                                                \n",
      "                                                                 \n",
      " pw_embedding (ModifiedOnDev  (None, 100, 8)           2048      \n",
      " iceEmbedding)                                                   \n",
      "                                                                 \n",
      " ip_embedding (ModifiedOnDev  (None, 100, 8)           2048      \n",
      " iceEmbedding)                                                   \n",
      "                                                                 \n",
      " sn_embedding (ModifiedOnDev  (None, 100, 8)           4008      \n",
      " iceEmbedding)                                                   \n",
      "                                                                 \n",
      " strand_embedding (ModifiedO  (None, 100, 2)           6         \n",
      " nDeviceEmbedding)                                               \n",
      "                                                                 \n",
      " dense_1 (Dense)             (None, 100, 280)          156800    \n",
      "                                                                 \n",
      "=================================================================\n",
      "Total params: 7,486,555\n",
      "Trainable params: 7,486,555\n",
      "Non-trainable params: 0\n",
      "_________________________________________________________________\n"
     ]
    }
   ],
   "source": [
    "from keras.layers import Input\n",
    "\n",
    "inputs = Input(shape=input_shape[1:])\n",
    "outputs = model.call(inputs, training=False)\n",
    "model.summary()"
   ]
  },
  {
   "cell_type": "code",
   "execution_count": 6,
   "id": "75ea05a3",
   "metadata": {},
   "outputs": [],
   "source": [
    "softmax_output = model.predict(batch['rows'])"
   ]
  },
  {
   "cell_type": "code",
   "execution_count": 7,
   "id": "5f0d931e",
   "metadata": {},
   "outputs": [],
   "source": [
    "tf_preds = np.argmax(softmax_output, -1)"
   ]
  },
  {
   "cell_type": "code",
   "execution_count": 8,
   "id": "c4942181",
   "metadata": {},
   "outputs": [
    {
     "name": "stderr",
     "output_type": "stream",
     "text": [
      "WARNING:absl:Found untraced functions such as layer_normalization_layer_call_fn, layer_normalization_layer_call_and_return_conditional_losses, pre_post_processing_wrapper_layer_call_fn, pre_post_processing_wrapper_layer_call_and_return_conditional_losses, pre_post_processing_wrapper_1_layer_call_fn while saving (showing 5 of 122). These functions will not be directly callable after loading.\n"
     ]
    },
    {
     "name": "stdout",
     "output_type": "stream",
     "text": [
      "INFO:tensorflow:Assets written to: deepconsensus_model/SavedModel/assets\n"
     ]
    },
    {
     "name": "stderr",
     "output_type": "stream",
     "text": [
      "INFO:tensorflow:Assets written to: deepconsensus_model/SavedModel/assets\n"
     ]
    }
   ],
   "source": [
    "tf.saved_model.save(model, 'deepconsensus_model/SavedModel')"
   ]
  },
  {
   "cell_type": "markdown",
   "id": "2dc6f53b",
   "metadata": {},
   "source": [
    "## Assessing DeepConsensus accuracy"
   ]
  },
  {
   "cell_type": "code",
   "execution_count": 9,
   "id": "eeda4eb8",
   "metadata": {},
   "outputs": [],
   "source": [
    "inference_batch_size = 4096\n",
    "\n",
    "dataset_path = './train/tf-train-00001-of-00500.tfrecord.gz'\n",
    "\n",
    "dsi = data_providers.get_dataset(dataset_path,\n",
    "                                 num_epochs=None,\n",
    "                                 batch_size=inference_batch_size,\n",
    "                                 params=params,\n",
    "                                 inference=False)"
   ]
  },
  {
   "cell_type": "code",
   "execution_count": 10,
   "id": "cb5484f2",
   "metadata": {},
   "outputs": [
    {
     "name": "stderr",
     "output_type": "stream",
     "text": [
      "2023-02-06 22:28:09.769882: I tensorflow/core/kernels/data/shuffle_dataset_op.cc:390] Filling up shuffle buffer (this may take a while): 75998 of 1000000\n",
      "2023-02-06 22:28:19.769274: I tensorflow/core/kernels/data/shuffle_dataset_op.cc:390] Filling up shuffle buffer (this may take a while): 151821 of 1000000\n",
      "2023-02-06 22:28:29.769689: I tensorflow/core/kernels/data/shuffle_dataset_op.cc:390] Filling up shuffle buffer (this may take a while): 228286 of 1000000\n",
      "2023-02-06 22:28:39.770146: I tensorflow/core/kernels/data/shuffle_dataset_op.cc:390] Filling up shuffle buffer (this may take a while): 304818 of 1000000\n",
      "2023-02-06 22:28:49.770101: I tensorflow/core/kernels/data/shuffle_dataset_op.cc:390] Filling up shuffle buffer (this may take a while): 381296 of 1000000\n",
      "2023-02-06 22:28:59.769564: I tensorflow/core/kernels/data/shuffle_dataset_op.cc:390] Filling up shuffle buffer (this may take a while): 457637 of 1000000\n",
      "2023-02-06 22:29:09.769417: I tensorflow/core/kernels/data/shuffle_dataset_op.cc:390] Filling up shuffle buffer (this may take a while): 534260 of 1000000\n",
      "2023-02-06 22:29:19.769773: I tensorflow/core/kernels/data/shuffle_dataset_op.cc:390] Filling up shuffle buffer (this may take a while): 610871 of 1000000\n",
      "2023-02-06 22:29:29.769298: I tensorflow/core/kernels/data/shuffle_dataset_op.cc:390] Filling up shuffle buffer (this may take a while): 686947 of 1000000\n",
      "2023-02-06 22:29:39.770014: I tensorflow/core/kernels/data/shuffle_dataset_op.cc:390] Filling up shuffle buffer (this may take a while): 763216 of 1000000\n",
      "2023-02-06 22:29:49.769736: I tensorflow/core/kernels/data/shuffle_dataset_op.cc:390] Filling up shuffle buffer (this may take a while): 839753 of 1000000\n",
      "2023-02-06 22:29:49.936105: I tensorflow/core/kernels/data/shuffle_dataset_op.cc:415] Shuffle buffer filled.\n"
     ]
    }
   ],
   "source": [
    "predictions_tf = [(batch[\"label\"], model.predict(batch[\"rows\"])) for batch in dsi.take(count=-1)]"
   ]
  },
  {
   "cell_type": "code",
   "execution_count": 11,
   "id": "901c5ef6",
   "metadata": {},
   "outputs": [
    {
     "name": "stdout",
     "output_type": "stream",
     "text": [
      "Dataset average accuracy: 0.956\n"
     ]
    }
   ],
   "source": [
    "batch_loss_tf = [loss.eval(label, pred).numpy().mean() for label, pred in predictions_tf]\n",
    "\n",
    "print(\"Dataset average accuracy: {:.3f}\".format(np.array(batch_loss_tf).mean()))"
   ]
  },
  {
   "cell_type": "markdown",
   "id": "bc8d876e",
   "metadata": {},
   "source": [
    "## Testing TF-TRT INT8 Quantization"
   ]
  },
  {
   "cell_type": "markdown",
   "id": "8ca494c9",
   "metadata": {},
   "source": [
    "Based on this user guide https://docs.nvidia.com/deeplearning/frameworks/tf-trt-user-guide/index.html#post-train "
   ]
  },
  {
   "cell_type": "code",
   "execution_count": 14,
   "id": "2d6476da",
   "metadata": {},
   "outputs": [],
   "source": [
    "calibration_dataset_path = './train/tf-train-00001-of-00500.tfrecord.gz'\n",
    "\n",
    "calibration_batch_size = 1024\n",
    "\n",
    "ds = data_providers.get_dataset(calibration_dataset_path,\n",
    "                                num_epochs=None,\n",
    "                                batch_size=calibration_batch_size,\n",
    "                                params=params,\n",
    "                                inference=False)\n"
   ]
  },
  {
   "cell_type": "code",
   "execution_count": 15,
   "id": "aa4f7bda",
   "metadata": {},
   "outputs": [
    {
     "name": "stdout",
     "output_type": "stream",
     "text": [
      "INFO:tensorflow:Linked TensorRT version: (8, 5, 1)\n"
     ]
    },
    {
     "name": "stderr",
     "output_type": "stream",
     "text": [
      "INFO:tensorflow:Linked TensorRT version: (8, 5, 1)\n"
     ]
    },
    {
     "name": "stdout",
     "output_type": "stream",
     "text": [
      "INFO:tensorflow:Loaded TensorRT version: (8, 5, 1)\n"
     ]
    },
    {
     "name": "stderr",
     "output_type": "stream",
     "text": [
      "INFO:tensorflow:Loaded TensorRT version: (8, 5, 1)\n"
     ]
    }
   ],
   "source": [
    "from tensorflow.python.compiler.tensorrt import trt_convert as trt\n",
    "\n",
    "\n",
    "converter = trt.TrtGraphConverterV2(\n",
    "   input_saved_model_dir='deepconsensus_model/SavedModel',\n",
    "   precision_mode=trt.TrtPrecisionMode.INT8,\n",
    "   use_calibration=True\n",
    ")"
   ]
  },
  {
   "cell_type": "code",
   "execution_count": 16,
   "id": "5d6131bc",
   "metadata": {},
   "outputs": [],
   "source": [
    "n_batches_calibration=25\n",
    "\n",
    "def row_generator():\n",
    "    for batch in ds.take(count=n_batches_calibration):\n",
    "        yield batch['rows']"
   ]
  },
  {
   "cell_type": "code",
   "execution_count": 17,
   "id": "d260be81",
   "metadata": {},
   "outputs": [
    {
     "name": "stderr",
     "output_type": "stream",
     "text": [
      "2023-02-06 21:51:51.211903: I tensorflow/core/grappler/devices.cc:66] Number of eligible GPUs (core count >= 8, compute capability >= 0.0): 2\n",
      "2023-02-06 21:51:51.212013: I tensorflow/core/grappler/clusters/single_machine.cc:358] Starting new session\n",
      "2023-02-06 21:51:51.214995: I tensorflow/core/common_runtime/gpu/gpu_device.cc:1637] Created device /job:localhost/replica:0/task:0/device:GPU:0 with 31119 MB memory:  -> device: 0, name: Tesla V100-DGXS-32GB, pci bus id: 0000:08:00.0, compute capability: 7.0\n",
      "2023-02-06 21:51:51.215316: I tensorflow/core/common_runtime/gpu/gpu_device.cc:1637] Created device /job:localhost/replica:0/task:0/device:GPU:1 with 31119 MB memory:  -> device: 1, name: Tesla V100-DGXS-32GB, pci bus id: 0000:0e:00.0, compute capability: 7.0\n"
     ]
    },
    {
     "name": "stdout",
     "output_type": "stream",
     "text": [
      "INFO:tensorflow:Clearing prior device assignments in loaded saved model\n"
     ]
    },
    {
     "name": "stderr",
     "output_type": "stream",
     "text": [
      "INFO:tensorflow:Clearing prior device assignments in loaded saved model\n"
     ]
    },
    {
     "name": "stdout",
     "output_type": "stream",
     "text": [
      "INFO:tensorflow:Automatic mixed precision will be used on the whole TensorFlow Graph. This behavior can be deactivated using the environment variable: TF_TRT_EXPERIMENTAL_FEATURES=deactivate_mixed_precision.\n",
      "More information can be found on: https://www.tensorflow.org/guide/mixed_precision.\n"
     ]
    },
    {
     "name": "stderr",
     "output_type": "stream",
     "text": [
      "INFO:tensorflow:Automatic mixed precision will be used on the whole TensorFlow Graph. This behavior can be deactivated using the environment variable: TF_TRT_EXPERIMENTAL_FEATURES=deactivate_mixed_precision.\n",
      "More information can be found on: https://www.tensorflow.org/guide/mixed_precision.\n",
      "2023-02-06 21:51:54.894523: I tensorflow/core/grappler/devices.cc:66] Number of eligible GPUs (core count >= 8, compute capability >= 0.0): 2\n",
      "2023-02-06 21:51:54.894628: I tensorflow/core/grappler/clusters/single_machine.cc:358] Starting new session\n",
      "2023-02-06 21:51:54.897473: I tensorflow/core/common_runtime/gpu/gpu_device.cc:1637] Created device /job:localhost/replica:0/task:0/device:GPU:0 with 31119 MB memory:  -> device: 0, name: Tesla V100-DGXS-32GB, pci bus id: 0000:08:00.0, compute capability: 7.0\n",
      "2023-02-06 21:51:54.897792: I tensorflow/core/common_runtime/gpu/gpu_device.cc:1637] Created device /job:localhost/replica:0/task:0/device:GPU:1 with 31119 MB memory:  -> device: 1, name: Tesla V100-DGXS-32GB, pci bus id: 0000:0e:00.0, compute capability: 7.0\n",
      "2023-02-06 21:51:55.074303: I tensorflow/core/grappler/optimizers/auto_mixed_precision.cc:2359] Running auto_mixed_precision graph optimizer\n",
      "2023-02-06 21:51:55.093072: I tensorflow/core/grappler/optimizers/auto_mixed_precision.cc:1195] Automatic Mixed Precision Grappler Pass Summary:\n",
      "\n",
      "Total processable nodes: 3653\n",
      "Recognized nodes available for conversion: 2187\n",
      "Total nodes converted: 137\n",
      "Total FP16 Cast ops used (excluding Const and Variable casts): 101\n",
      "Allowlisted nodes converted: 42\n",
      "Denylisted nodes blocking conversion: 47\n",
      "Nodes blocked from conversion by denylisted nodes: 64\n",
      "\n",
      "For more information regarding mixed precision training, including how to make automatic mixed precision aware of a custom op type, please see the documentation available here:\n",
      "https://docs.nvidia.com/deeplearning/frameworks/tensorflow-user-guide/index.html#tfamp\n",
      "\n",
      "\n",
      "2023-02-06 21:51:55.457825: W tensorflow/compiler/tf2tensorrt/segment/segment.cc:952] \n",
      "\n",
      "################################################################################\n",
      "TensorRT unsupported/non-converted OP Report:\n",
      "\t- Reshape -> 194x\n",
      "\t- Cast -> 170x\n",
      "\t- ConcatV2 -> 97x\n",
      "\t- Shape -> 97x\n",
      "\t- NotEqual -> 85x\n",
      "\t- StridedSlice -> 85x\n",
      "\t- Einsum -> 30x\n",
      "\t- GatherV2 -> 24x\n",
      "\t- Prod -> 24x\n",
      "\t- Pack -> 12x\n",
      "\t- AddV2 -> 6x\n",
      "\t- SelectV2 -> 5x\n",
      "\t- NoOp -> 2x\n",
      "\t- Identity -> 1x\n",
      "\t- Placeholder -> 1x\n",
      "\t- ZerosLike -> 1x\n",
      "--------------------------------------------------------------------------------\n",
      "\t- Total nonconverted OPs: 834\n",
      "\t- Total nonconverted OP Types: 16\n",
      "For more information see https://docs.nvidia.com/deeplearning/frameworks/tf-trt-user-guide/index.html#supported-ops.\n",
      "################################################################################\n",
      "\n",
      "2023-02-06 21:51:55.629748: W tensorflow/compiler/tf2tensorrt/segment/segment.cc:1229] A total of 30 segments with at least minimum_segment_size=3 nodes have been found. TF-TRT will only convert the 20 largest segments. You can change this behavior by modifying the environment variable TF_TRT_MAX_ALLOWED_ENGINES=20\n",
      "2023-02-06 21:51:55.632260: I tensorflow/compiler/tf2tensorrt/convert/convert_graph.cc:799] Number of TensorRT candidate segments: 20\n",
      "2023-02-06 21:51:55.655299: I tensorflow/compiler/tf2tensorrt/convert/convert_graph.cc:916] Replaced segment 0 consisting of 5 nodes by TRTEngineOp_000_000.\n",
      "2023-02-06 21:51:55.655976: I tensorflow/compiler/tf2tensorrt/convert/convert_graph.cc:916] Replaced segment 1 consisting of 344 nodes by TRTEngineOp_000_001.\n",
      "2023-02-06 21:51:55.656449: I tensorflow/compiler/tf2tensorrt/convert/convert_graph.cc:916] Replaced segment 2 consisting of 5 nodes by TRTEngineOp_000_002.\n",
      "2023-02-06 21:51:55.656540: I tensorflow/compiler/tf2tensorrt/convert/convert_graph.cc:916] Replaced segment 3 consisting of 13 nodes by TRTEngineOp_000_003.\n",
      "2023-02-06 21:51:55.656743: I tensorflow/compiler/tf2tensorrt/convert/convert_graph.cc:916] Replaced segment 4 consisting of 3 nodes by TRTEngineOp_000_004.\n",
      "2023-02-06 21:51:55.656959: I tensorflow/compiler/tf2tensorrt/convert/convert_graph.cc:916] Replaced segment 5 consisting of 22 nodes by TRTEngineOp_000_005.\n",
      "2023-02-06 21:51:55.657210: I tensorflow/compiler/tf2tensorrt/convert/convert_graph.cc:916] Replaced segment 6 consisting of 21 nodes by TRTEngineOp_000_006.\n",
      "2023-02-06 21:51:55.657454: I tensorflow/compiler/tf2tensorrt/convert/convert_graph.cc:916] Replaced segment 7 consisting of 21 nodes by TRTEngineOp_000_007.\n",
      "2023-02-06 21:51:55.657566: I tensorflow/compiler/tf2tensorrt/convert/convert_graph.cc:916] Replaced segment 8 consisting of 14 nodes by TRTEngineOp_000_008.\n",
      "2023-02-06 21:51:55.657667: I tensorflow/compiler/tf2tensorrt/convert/convert_graph.cc:916] Replaced segment 9 consisting of 13 nodes by TRTEngineOp_000_009.\n",
      "2023-02-06 21:51:55.657912: I tensorflow/compiler/tf2tensorrt/convert/convert_graph.cc:916] Replaced segment 10 consisting of 21 nodes by TRTEngineOp_000_010.\n",
      "2023-02-06 21:51:55.658020: I tensorflow/compiler/tf2tensorrt/convert/convert_graph.cc:916] Replaced segment 11 consisting of 14 nodes by TRTEngineOp_000_011.\n",
      "2023-02-06 21:51:55.658118: I tensorflow/compiler/tf2tensorrt/convert/convert_graph.cc:916] Replaced segment 12 consisting of 13 nodes by TRTEngineOp_000_012.\n",
      "2023-02-06 21:51:55.658212: I tensorflow/compiler/tf2tensorrt/convert/convert_graph.cc:916] Replaced segment 13 consisting of 14 nodes by TRTEngineOp_000_013.\n",
      "2023-02-06 21:51:55.658304: I tensorflow/compiler/tf2tensorrt/convert/convert_graph.cc:916] Replaced segment 14 consisting of 13 nodes by TRTEngineOp_000_014.\n",
      "2023-02-06 21:51:55.658451: I tensorflow/compiler/tf2tensorrt/convert/convert_graph.cc:916] Replaced segment 15 consisting of 14 nodes by TRTEngineOp_000_015.\n",
      "2023-02-06 21:51:55.658569: I tensorflow/compiler/tf2tensorrt/convert/convert_graph.cc:916] Replaced segment 16 consisting of 13 nodes by TRTEngineOp_000_016.\n",
      "2023-02-06 21:51:55.658664: I tensorflow/compiler/tf2tensorrt/convert/convert_graph.cc:916] Replaced segment 17 consisting of 14 nodes by TRTEngineOp_000_017.\n",
      "2023-02-06 21:51:55.658747: I tensorflow/compiler/tf2tensorrt/convert/convert_graph.cc:916] Replaced segment 18 consisting of 14 nodes by TRTEngineOp_000_018.\n",
      "2023-02-06 21:51:55.658822: I tensorflow/compiler/tf2tensorrt/convert/convert_graph.cc:916] Replaced segment 19 consisting of 4 nodes by TRTEngineOp_000_019.\n",
      "2023-02-06 21:51:55.737071: I tensorflow/core/grappler/optimizers/auto_mixed_precision.cc:1533] No allowlist ops found, nothing to do\n",
      "2023-02-06 21:51:55.745515: I tensorflow/core/grappler/optimizers/auto_mixed_precision.cc:1533] No allowlist ops found, nothing to do\n",
      "2023-02-06 21:51:55.752916: I tensorflow/core/grappler/optimizers/auto_mixed_precision.cc:1533] No allowlist ops found, nothing to do\n",
      "2023-02-06 21:51:55.757834: I tensorflow/core/grappler/optimizers/auto_mixed_precision.cc:1533] No allowlist ops found, nothing to do\n",
      "2023-02-06 21:51:55.765067: I tensorflow/core/grappler/optimizers/auto_mixed_precision.cc:1533] No allowlist ops found, nothing to do\n",
      "2023-02-06 21:51:55.768301: I tensorflow/core/grappler/optimizers/auto_mixed_precision.cc:1533] No allowlist ops found, nothing to do\n",
      "2023-02-06 21:51:55.771888: I tensorflow/core/grappler/optimizers/auto_mixed_precision.cc:1533] No allowlist ops found, nothing to do\n",
      "2023-02-06 21:51:55.775450: I tensorflow/core/grappler/optimizers/auto_mixed_precision.cc:1533] No allowlist ops found, nothing to do\n",
      "2023-02-06 21:51:55.779102: I tensorflow/core/grappler/optimizers/auto_mixed_precision.cc:1533] No allowlist ops found, nothing to do\n",
      "2023-02-06 21:51:55.782445: I tensorflow/core/grappler/optimizers/auto_mixed_precision.cc:1533] No allowlist ops found, nothing to do\n",
      "2023-02-06 21:51:55.785196: I tensorflow/core/grappler/optimizers/auto_mixed_precision.cc:1533] No allowlist ops found, nothing to do\n",
      "2023-02-06 21:51:55.788861: I tensorflow/core/grappler/optimizers/auto_mixed_precision.cc:1533] No allowlist ops found, nothing to do\n",
      "2023-02-06 21:51:55.792484: I tensorflow/core/grappler/optimizers/auto_mixed_precision.cc:1533] No allowlist ops found, nothing to do\n",
      "2023-02-06 21:51:55.812122: I tensorflow/core/grappler/optimizers/auto_mixed_precision.cc:1533] No allowlist ops found, nothing to do\n",
      "2023-02-06 21:51:55.859125: I tensorflow/core/grappler/optimizers/auto_mixed_precision.cc:1533] No allowlist ops found, nothing to do\n"
     ]
    },
    {
     "name": "stderr",
     "output_type": "stream",
     "text": [
      "2023-02-06 21:51:55.862953: I tensorflow/core/grappler/optimizers/auto_mixed_precision.cc:1533] No allowlist ops found, nothing to do\n",
      "2023-02-06 21:51:55.870709: I tensorflow/core/grappler/optimizers/auto_mixed_precision.cc:1533] No allowlist ops found, nothing to do\n",
      "2023-02-06 21:51:55.874485: I tensorflow/core/grappler/optimizers/auto_mixed_precision.cc:1533] No allowlist ops found, nothing to do\n",
      "2023-02-06 21:51:55.878244: I tensorflow/core/grappler/optimizers/auto_mixed_precision.cc:1533] No allowlist ops found, nothing to do\n",
      "2023-02-06 21:51:55.881460: I tensorflow/core/grappler/optimizers/auto_mixed_precision.cc:1533] No allowlist ops found, nothing to do\n",
      "2023-02-06 21:52:09.847922: I tensorflow/core/kernels/data/shuffle_dataset_op.cc:390] Filling up shuffle buffer (this may take a while): 74977 of 1000000\n",
      "2023-02-06 21:52:19.847282: I tensorflow/core/kernels/data/shuffle_dataset_op.cc:390] Filling up shuffle buffer (this may take a while): 151238 of 1000000\n",
      "2023-02-06 21:52:29.847607: I tensorflow/core/kernels/data/shuffle_dataset_op.cc:390] Filling up shuffle buffer (this may take a while): 227517 of 1000000\n",
      "2023-02-06 21:52:39.847608: I tensorflow/core/kernels/data/shuffle_dataset_op.cc:390] Filling up shuffle buffer (this may take a while): 303973 of 1000000\n",
      "2023-02-06 21:52:49.847228: I tensorflow/core/kernels/data/shuffle_dataset_op.cc:390] Filling up shuffle buffer (this may take a while): 378927 of 1000000\n",
      "2023-02-06 21:52:59.847597: I tensorflow/core/kernels/data/shuffle_dataset_op.cc:390] Filling up shuffle buffer (this may take a while): 454212 of 1000000\n",
      "2023-02-06 21:53:09.847402: I tensorflow/core/kernels/data/shuffle_dataset_op.cc:390] Filling up shuffle buffer (this may take a while): 529761 of 1000000\n",
      "2023-02-06 21:53:19.847853: I tensorflow/core/kernels/data/shuffle_dataset_op.cc:390] Filling up shuffle buffer (this may take a while): 606268 of 1000000\n",
      "2023-02-06 21:53:29.847709: I tensorflow/core/kernels/data/shuffle_dataset_op.cc:390] Filling up shuffle buffer (this may take a while): 682250 of 1000000\n",
      "2023-02-06 21:53:39.847632: I tensorflow/core/kernels/data/shuffle_dataset_op.cc:390] Filling up shuffle buffer (this may take a while): 758515 of 1000000\n",
      "2023-02-06 21:53:49.847489: I tensorflow/core/kernels/data/shuffle_dataset_op.cc:390] Filling up shuffle buffer (this may take a while): 834786 of 1000000\n",
      "2023-02-06 21:53:50.662646: I tensorflow/core/kernels/data/shuffle_dataset_op.cc:415] Shuffle buffer filled.\n",
      "2023-02-06 21:53:52.496322: I tensorflow/compiler/tf2tensorrt/common/utils.cc:104] Linked TensorRT version: 8.5.1\n",
      "2023-02-06 21:53:52.496457: I tensorflow/compiler/tf2tensorrt/common/utils.cc:106] Loaded TensorRT version: 8.5.1\n",
      "2023-02-06 21:53:57.386940: I tensorflow/compiler/tf2tensorrt/convert/convert_nodes.cc:1343] [TF-TRT] Sparse compute capability is enabled.\n",
      "2023-02-06 22:04:08.973538: W tensorflow/compiler/tf2tensorrt/utils/trt_logger.cc:83] TF-TRT Warning: DefaultLogger TensorRT encountered issues when converting weights between types and that could affect accuracy.\n",
      "2023-02-06 22:04:08.973577: W tensorflow/compiler/tf2tensorrt/utils/trt_logger.cc:83] TF-TRT Warning: DefaultLogger Check verbose logs for the list of affected weights.\n",
      "2023-02-06 22:04:08.973591: W tensorflow/compiler/tf2tensorrt/utils/trt_logger.cc:83] TF-TRT Warning: DefaultLogger - 2 weights are affected by this issue: Detected subnormal FP16 values.\n",
      "2023-02-06 22:05:19.384518: W tensorflow/compiler/tf2tensorrt/utils/trt_logger.cc:83] TF-TRT Warning: DefaultLogger TensorRT encountered issues when converting weights between types and that could affect accuracy.\n",
      "2023-02-06 22:05:19.384565: W tensorflow/compiler/tf2tensorrt/utils/trt_logger.cc:83] TF-TRT Warning: DefaultLogger Check verbose logs for the list of affected weights.\n",
      "2023-02-06 22:05:19.384582: W tensorflow/compiler/tf2tensorrt/utils/trt_logger.cc:83] TF-TRT Warning: DefaultLogger - 1 weights are affected by this issue: Detected subnormal FP16 values.\n"
     ]
    }
   ],
   "source": [
    "do_inference = converter.convert(calibration_input_fn=row_generator)"
   ]
  },
  {
   "cell_type": "code",
   "execution_count": 18,
   "id": "ea8e905f",
   "metadata": {},
   "outputs": [],
   "source": [
    "inference_batch_size = 8192\n",
    "\n",
    "inference_dataset_path = './train/tf-train-00001-of-00500.tfrecord.gz'\n",
    "\n",
    "ds = data_providers.get_dataset(dataset_path,\n",
    "                                num_epochs=None,\n",
    "                                batch_size=inference_batch_size,\n",
    "                                params=params,\n",
    "                                inference=False)"
   ]
  },
  {
   "cell_type": "code",
   "execution_count": 19,
   "id": "555d1629",
   "metadata": {},
   "outputs": [],
   "source": [
    "def sample():\n",
    "    for batch in ds.take(count=1):\n",
    "        yield [batch['rows']]"
   ]
  },
  {
   "cell_type": "code",
   "execution_count": 20,
   "id": "9213eb5a",
   "metadata": {
    "scrolled": true
   },
   "outputs": [
    {
     "name": "stderr",
     "output_type": "stream",
     "text": [
      "2023-02-06 22:06:07.670464: I tensorflow/core/kernels/data/shuffle_dataset_op.cc:390] Filling up shuffle buffer (this may take a while): 75833 of 1000000\n",
      "2023-02-06 22:06:17.670868: I tensorflow/core/kernels/data/shuffle_dataset_op.cc:390] Filling up shuffle buffer (this may take a while): 151997 of 1000000\n",
      "2023-02-06 22:06:27.670187: I tensorflow/core/kernels/data/shuffle_dataset_op.cc:390] Filling up shuffle buffer (this may take a while): 228274 of 1000000\n",
      "2023-02-06 22:06:37.670723: I tensorflow/core/kernels/data/shuffle_dataset_op.cc:390] Filling up shuffle buffer (this may take a while): 303751 of 1000000\n",
      "2023-02-06 22:06:47.670689: I tensorflow/core/kernels/data/shuffle_dataset_op.cc:390] Filling up shuffle buffer (this may take a while): 379050 of 1000000\n",
      "2023-02-06 22:06:57.670281: I tensorflow/core/kernels/data/shuffle_dataset_op.cc:390] Filling up shuffle buffer (this may take a while): 454351 of 1000000\n",
      "2023-02-06 22:07:07.670575: I tensorflow/core/kernels/data/shuffle_dataset_op.cc:390] Filling up shuffle buffer (this may take a while): 529909 of 1000000\n",
      "2023-02-06 22:07:17.670344: I tensorflow/core/kernels/data/shuffle_dataset_op.cc:390] Filling up shuffle buffer (this may take a while): 606327 of 1000000\n",
      "2023-02-06 22:07:27.670171: I tensorflow/core/kernels/data/shuffle_dataset_op.cc:390] Filling up shuffle buffer (this may take a while): 681422 of 1000000\n",
      "2023-02-06 22:07:37.670713: I tensorflow/core/kernels/data/shuffle_dataset_op.cc:390] Filling up shuffle buffer (this may take a while): 757591 of 1000000\n",
      "2023-02-06 22:07:47.670158: I tensorflow/core/kernels/data/shuffle_dataset_op.cc:390] Filling up shuffle buffer (this may take a while): 833753 of 1000000\n",
      "2023-02-06 22:07:48.622528: I tensorflow/core/kernels/data/shuffle_dataset_op.cc:415] Shuffle buffer filled.\n",
      "2023-02-06 22:08:45.152970: W tensorflow/compiler/tf2tensorrt/utils/trt_logger.cc:83] TF-TRT Warning: DefaultLogger TensorRT encountered issues when converting weights between types and that could affect accuracy.\n",
      "2023-02-06 22:08:45.153009: W tensorflow/compiler/tf2tensorrt/utils/trt_logger.cc:83] TF-TRT Warning: DefaultLogger Check verbose logs for the list of affected weights.\n",
      "2023-02-06 22:08:45.153023: W tensorflow/compiler/tf2tensorrt/utils/trt_logger.cc:83] TF-TRT Warning: DefaultLogger - 4 weights are affected by this issue: Detected values less than smallest positive FP16 subnormal value and converted them to the FP16 minimum subnormalized value.\n",
      "2023-02-06 22:08:48.109633: W tensorflow/compiler/tf2tensorrt/utils/trt_logger.cc:83] TF-TRT Warning: DefaultLogger TensorRT encountered issues when converting weights between types and that could affect accuracy.\n",
      "2023-02-06 22:08:48.109668: W tensorflow/compiler/tf2tensorrt/utils/trt_logger.cc:83] TF-TRT Warning: DefaultLogger Check verbose logs for the list of affected weights.\n",
      "2023-02-06 22:08:48.109681: W tensorflow/compiler/tf2tensorrt/utils/trt_logger.cc:83] TF-TRT Warning: DefaultLogger - 1 weights are affected by this issue: Detected subnormal FP16 values.\n",
      "2023-02-06 22:08:48.330802: W tensorflow/compiler/tf2tensorrt/utils/trt_logger.cc:83] TF-TRT Warning: DefaultLogger TensorRT encountered issues when converting weights between types and that could affect accuracy.\n",
      "2023-02-06 22:08:48.330834: W tensorflow/compiler/tf2tensorrt/utils/trt_logger.cc:83] TF-TRT Warning: DefaultLogger Check verbose logs for the list of affected weights.\n",
      "2023-02-06 22:08:48.330847: W tensorflow/compiler/tf2tensorrt/utils/trt_logger.cc:83] TF-TRT Warning: DefaultLogger - 2 weights are affected by this issue: Detected subnormal FP16 values.\n",
      "2023-02-06 22:09:13.688246: W tensorflow/compiler/tf2tensorrt/utils/trt_logger.cc:83] TF-TRT Warning: DefaultLogger TensorRT encountered issues when converting weights between types and that could affect accuracy.\n",
      "2023-02-06 22:09:13.688294: W tensorflow/compiler/tf2tensorrt/utils/trt_logger.cc:83] TF-TRT Warning: DefaultLogger Check verbose logs for the list of affected weights.\n",
      "2023-02-06 22:09:13.688311: W tensorflow/compiler/tf2tensorrt/utils/trt_logger.cc:83] TF-TRT Warning: DefaultLogger - 2 weights are affected by this issue: Detected subnormal FP16 values.\n",
      "2023-02-06 22:09:55.446675: W tensorflow/compiler/tf2tensorrt/utils/trt_logger.cc:83] TF-TRT Warning: DefaultLogger TensorRT encountered issues when converting weights between types and that could affect accuracy.\n",
      "2023-02-06 22:09:55.446726: W tensorflow/compiler/tf2tensorrt/utils/trt_logger.cc:83] TF-TRT Warning: DefaultLogger Check verbose logs for the list of affected weights.\n",
      "2023-02-06 22:09:55.446742: W tensorflow/compiler/tf2tensorrt/utils/trt_logger.cc:83] TF-TRT Warning: DefaultLogger - 1 weights are affected by this issue: Detected subnormal FP16 values.\n"
     ]
    }
   ],
   "source": [
    "converter.build(input_fn=sample)"
   ]
  },
  {
   "cell_type": "code",
   "execution_count": 21,
   "id": "b608920f",
   "metadata": {},
   "outputs": [
    {
     "name": "stderr",
     "output_type": "stream",
     "text": [
      "WARNING:absl:Found untraced functions such as restored_function_body, restored_function_body, restored_function_body, restored_function_body, restored_function_body while saving (showing 5 of 122). These functions will not be directly callable after loading.\n"
     ]
    },
    {
     "name": "stdout",
     "output_type": "stream",
     "text": [
      "INFO:tensorflow:Assets written to: deepconsensus_model/SavedModel-TRT/assets\n"
     ]
    },
    {
     "name": "stderr",
     "output_type": "stream",
     "text": [
      "INFO:tensorflow:Assets written to: deepconsensus_model/SavedModel-TRT/assets\n"
     ]
    }
   ],
   "source": [
    "converter.save(output_saved_model_dir=\"deepconsensus_model/SavedModel-TMP\") # To get around onnx bugs\n",
    "model_tmp = tf.saved_model.load(\"deepconsensus_model/SavedModel-TMP/\")\n",
    "tf.saved_model.save(model, \"deepconsensus_model/SavedModel-TRT\")\n",
    "\n",
    "!rm -rf deepconsensus_model/SavedModel-TMP"
   ]
  },
  {
   "cell_type": "code",
   "execution_count": 22,
   "id": "536b82e5",
   "metadata": {
    "scrolled": true
   },
   "outputs": [
    {
     "name": "stdout",
     "output_type": "stream",
     "text": [
      "TRTEngineOP Name                 Device        # Nodes # Inputs      # Outputs     Input DTypes       Output Dtypes      Input Shapes       Output Shapes     \n",
      "================================================================================================================================================================\n",
      "\n",
      "----------------------------------------\n",
      "\n",
      "TRTEngineOp_000_000              device:GPU:0  6       2             2             ['float32', 'f ... ['float32', 'f ... [[-1, 100, 85] ... [[-1, 1, 1, 10 ...\n",
      "\n",
      "\t- AddV2: 1x\n",
      "\t- Const: 2x\n",
      "\t- ExpandDims: 2x\n",
      "\t- Sum: 1x\n",
      "\n",
      "----------------------------------------\n",
      "\n",
      "TRTEngineOp_000_001              device:GPU:0  344     170           2             ['float32', 'f ... ['float16', 'f ... [[-1, 100], [- ... [[-1, 100, 560 ...\n",
      "\n",
      "\t- Cast: 85x\n",
      "\t- ConcatV2: 1x\n",
      "\t- Const: 3x\n",
      "\t- ExpandDims: 85x\n",
      "\t- Mul: 170x\n",
      "\n",
      "----------------------------------------\n",
      "\n",
      "TRTEngineOp_000_002              device:GPU:0  6       4             4             ['int32', 'int ... ['float32', 'f ... [[-1], [-1], [ ... [[-1, 8], [-1, ...\n",
      "\n",
      "\t- Const: 2x\n",
      "\t- GatherV2: 4x\n",
      "\n",
      "----------------------------------------\n",
      "\n",
      "TRTEngineOp_000_003              device:GPU:0  15      1             1             ['float32']        ['float16']        [[-1, 100, 280]]   [[-1, 100, 280]]  \n",
      "\n",
      "\t- AddV2: 2x\n",
      "\t- Cast: 1x\n",
      "\t- Const: 4x\n",
      "\t- Mean: 2x\n",
      "\t- Mul: 3x\n",
      "\t- Rsqrt: 1x\n",
      "\t- SquaredDifference: 1x\n",
      "\t- Sub: 1x\n",
      "\n",
      "----------------------------------------\n",
      "\n",
      "TRTEngineOp_000_004              device:GPU:0  3       1             1             ['float32']        ['float32']        [[-1, 85, 100, 1]] [[-1, 100, 85]]   \n",
      "\n",
      "\t- Const: 1x\n",
      "\t- Squeeze: 1x\n",
      "\t- Transpose: 1x\n",
      "\n",
      "----------------------------------------\n",
      "\n",
      "TRTEngineOp_000_005              device:GPU:0  23      21            21            ['int32', 'int ... ['float32', 'f ... [[-1], [-1], [ ... [[-1, 8], [-1, ...\n",
      "\n",
      "\t- Const: 2x\n",
      "\t- GatherV2: 21x\n",
      "\n",
      "----------------------------------------\n",
      "\n",
      "TRTEngineOp_000_006              device:GPU:0  22      20            20            ['int32', 'int ... ['float32', 'f ... [[-1], [-1], [ ... [[-1, 8], [-1, ...\n",
      "\n",
      "\t- Const: 2x\n",
      "\t- GatherV2: 20x\n",
      "\n",
      "----------------------------------------\n",
      "\n",
      "TRTEngineOp_000_007              device:GPU:0  22      20            20            ['int32', 'int ... ['float32', 'f ... [[-1], [-1], [ ... [[-1, 8], [-1, ...\n",
      "\n",
      "\t- Const: 2x\n",
      "\t- GatherV2: 20x\n",
      "\n",
      "----------------------------------------\n",
      "\n",
      "TRTEngineOp_000_008              device:GPU:0  15      1             2             ['float32']        ['float32', 'f ... [[-1, 100, 280]]   [[-1, 100, 280 ...\n",
      "\n",
      "\t- AddV2: 2x\n",
      "\t- Cast: 1x\n",
      "\t- Const: 4x\n",
      "\t- Mean: 2x\n",
      "\t- Mul: 3x\n",
      "\t- Rsqrt: 1x\n",
      "\t- SquaredDifference: 1x\n",
      "\t- Sub: 1x\n",
      "\n",
      "----------------------------------------\n",
      "\n",
      "TRTEngineOp_000_009              device:GPU:0  15      1             1             ['float32']        ['float16']        [[-1, 100, 280]]   [[-1, 100, 280]]  \n",
      "\n",
      "\t- AddV2: 2x\n",
      "\t- Cast: 1x\n",
      "\t- Const: 4x\n",
      "\t- Mean: 2x\n",
      "\t- Mul: 3x\n",
      "\t- Rsqrt: 1x\n",
      "\t- SquaredDifference: 1x\n",
      "\t- Sub: 1x\n",
      "\n",
      "----------------------------------------\n",
      "\n",
      "TRTEngineOp_000_010              device:GPU:0  22      20            20            ['int32', 'int ... ['float32', 'f ... [[-1], [-1], [ ... [[-1, 2], [-1, ...\n",
      "\n",
      "\t- Const: 2x\n",
      "\t- GatherV2: 20x\n",
      "\n",
      "----------------------------------------\n",
      "\n",
      "TRTEngineOp_000_011              device:GPU:0  15      1             2             ['float32']        ['float32', 'f ... [[-1, 100, 280]]   [[-1, 100, 280 ...\n",
      "\n",
      "\t- AddV2: 2x\n",
      "\t- Cast: 1x\n",
      "\t- Const: 4x\n",
      "\t- Mean: 2x\n",
      "\t- Mul: 3x\n",
      "\t- Rsqrt: 1x\n",
      "\t- SquaredDifference: 1x\n",
      "\t- Sub: 1x\n",
      "\n",
      "----------------------------------------\n",
      "\n",
      "TRTEngineOp_000_012              device:GPU:0  15      1             1             ['float32']        ['float16']        [[-1, 100, 280]]   [[-1, 100, 280]]  \n",
      "\n",
      "\t- AddV2: 2x\n",
      "\t- Cast: 1x\n",
      "\t- Const: 4x\n",
      "\t- Mean: 2x\n",
      "\t- Mul: 3x\n",
      "\t- Rsqrt: 1x\n",
      "\t- SquaredDifference: 1x\n",
      "\t- Sub: 1x\n",
      "\n",
      "----------------------------------------\n",
      "\n",
      "TRTEngineOp_000_013              device:GPU:0  15      1             2             ['float32']        ['float32', 'f ... [[-1, 100, 280]]   [[-1, 100, 280 ...\n",
      "\n",
      "\t- AddV2: 2x\n",
      "\t- Cast: 1x\n",
      "\t- Const: 4x\n",
      "\t- Mean: 2x\n",
      "\t- Mul: 3x\n",
      "\t- Rsqrt: 1x\n",
      "\t- SquaredDifference: 1x\n",
      "\t- Sub: 1x\n",
      "\n",
      "----------------------------------------\n",
      "\n",
      "TRTEngineOp_000_014              device:GPU:0  15      1             1             ['float32']        ['float16']        [[-1, 100, 280]]   [[-1, 100, 280]]  \n",
      "\n",
      "\t- AddV2: 2x\n",
      "\t- Cast: 1x\n",
      "\t- Const: 4x\n",
      "\t- Mean: 2x\n",
      "\t- Mul: 3x\n",
      "\t- Rsqrt: 1x\n",
      "\t- SquaredDifference: 1x\n",
      "\t- Sub: 1x\n",
      "\n",
      "----------------------------------------\n",
      "\n",
      "TRTEngineOp_000_015              device:GPU:0  15      1             2             ['float32']        ['float32', 'f ... [[-1, 100, 280]]   [[-1, 100, 280 ...\n",
      "\n",
      "\t- AddV2: 2x\n",
      "\t- Cast: 1x\n",
      "\t- Const: 4x\n",
      "\t- Mean: 2x\n",
      "\t- Mul: 3x\n",
      "\t- Rsqrt: 1x\n",
      "\t- SquaredDifference: 1x\n",
      "\t- Sub: 1x\n",
      "\n",
      "----------------------------------------\n",
      "\n",
      "TRTEngineOp_000_016              device:GPU:0  15      1             1             ['float32']        ['float16']        [[-1, 100, 280]]   [[-1, 100, 280]]  \n",
      "\n",
      "\t- AddV2: 2x\n",
      "\t- Cast: 1x\n",
      "\t- Const: 4x\n",
      "\t- Mean: 2x\n",
      "\t- Mul: 3x\n",
      "\t- Rsqrt: 1x\n",
      "\t- SquaredDifference: 1x\n",
      "\t- Sub: 1x\n",
      "\n",
      "----------------------------------------\n",
      "\n",
      "TRTEngineOp_000_017              device:GPU:0  15      1             2             ['float32']        ['float32', 'f ... [[-1, 100, 280]]   [[-1, 100, 280 ...\n",
      "\n",
      "\t- AddV2: 2x\n",
      "\t- Cast: 1x\n",
      "\t- Const: 4x\n",
      "\t- Mean: 2x\n",
      "\t- Mul: 3x\n",
      "\t- Rsqrt: 1x\n",
      "\t- SquaredDifference: 1x\n",
      "\t- Sub: 1x\n",
      "\n",
      "----------------------------------------\n",
      "\n",
      "TRTEngineOp_000_018              device:GPU:0  15      1             2             ['float32']        ['float32', 'f ... [[-1, 100, 280]]   [[-1, 100, 280 ...\n",
      "\n",
      "\t- AddV2: 2x\n",
      "\t- Cast: 1x\n",
      "\t- Const: 4x\n",
      "\t- Mean: 2x\n",
      "\t- Mul: 3x\n",
      "\t- Rsqrt: 1x\n",
      "\t- SquaredDifference: 1x\n",
      "\t- Sub: 1x\n",
      "\n",
      "----------------------------------------\n",
      "\n",
      "TRTEngineOp_000_019              device:GPU:0  4       1             1             ['float16']        ['float32']        [[-1, -1, 5]]      [[-1, -1, 5]]     \n",
      "\n",
      "\t- BiasAdd: 1x\n",
      "\t- Cast: 1x\n",
      "\t- Const: 1x\n",
      "\t- Softmax: 1x\n",
      "\n",
      "================================================================================================================================================================\n",
      "[*] Total number of TensorRT engines: 20\n",
      "[*] % of OPs Converted: 37.08% [617/1664]\n",
      "\n"
     ]
    }
   ],
   "source": [
    "converter.summary()"
   ]
  },
  {
   "cell_type": "code",
   "execution_count": 23,
   "id": "1d002fbc",
   "metadata": {},
   "outputs": [],
   "source": [
    "%%script false --no-raise-error\n",
    "%%bash\n",
    "\n",
    "python -m tf2onnx.convert --saved-model deepconsensus_model/SavedModel-TRT/ --output deepconsensus_model/pbdc_i8.onnx"
   ]
  },
  {
   "cell_type": "code",
   "execution_count": 24,
   "id": "d45c484d",
   "metadata": {},
   "outputs": [
    {
     "name": "stderr",
     "output_type": "stream",
     "text": [
      "2023-02-06 22:11:08.107125: I tensorflow/core/kernels/data/shuffle_dataset_op.cc:390] Filling up shuffle buffer (this may take a while): 75990 of 1000000\n",
      "2023-02-06 22:11:18.107396: I tensorflow/core/kernels/data/shuffle_dataset_op.cc:390] Filling up shuffle buffer (this may take a while): 151741 of 1000000\n",
      "2023-02-06 22:11:28.106815: I tensorflow/core/kernels/data/shuffle_dataset_op.cc:390] Filling up shuffle buffer (this may take a while): 228145 of 1000000\n",
      "2023-02-06 22:11:38.107700: I tensorflow/core/kernels/data/shuffle_dataset_op.cc:390] Filling up shuffle buffer (this may take a while): 304582 of 1000000\n",
      "2023-02-06 22:11:48.107305: I tensorflow/core/kernels/data/shuffle_dataset_op.cc:390] Filling up shuffle buffer (this may take a while): 381036 of 1000000\n",
      "2023-02-06 22:11:58.106823: I tensorflow/core/kernels/data/shuffle_dataset_op.cc:390] Filling up shuffle buffer (this may take a while): 456266 of 1000000\n",
      "2023-02-06 22:12:08.106912: I tensorflow/core/kernels/data/shuffle_dataset_op.cc:390] Filling up shuffle buffer (this may take a while): 531350 of 1000000\n",
      "2023-02-06 22:12:18.107523: I tensorflow/core/kernels/data/shuffle_dataset_op.cc:390] Filling up shuffle buffer (this may take a while): 607105 of 1000000\n",
      "2023-02-06 22:12:28.106900: I tensorflow/core/kernels/data/shuffle_dataset_op.cc:390] Filling up shuffle buffer (this may take a while): 683097 of 1000000\n",
      "2023-02-06 22:12:38.107276: I tensorflow/core/kernels/data/shuffle_dataset_op.cc:390] Filling up shuffle buffer (this may take a while): 759150 of 1000000\n",
      "2023-02-06 22:12:48.106963: I tensorflow/core/kernels/data/shuffle_dataset_op.cc:390] Filling up shuffle buffer (this may take a while): 834017 of 1000000\n",
      "2023-02-06 22:12:49.024702: I tensorflow/core/kernels/data/shuffle_dataset_op.cc:415] Shuffle buffer filled.\n",
      "2023-02-06 22:13:43.626641: W tensorflow/compiler/tf2tensorrt/utils/trt_logger.cc:83] TF-TRT Warning: DefaultLogger TensorRT encountered issues when converting weights between types and that could affect accuracy.\n",
      "2023-02-06 22:13:43.626689: W tensorflow/compiler/tf2tensorrt/utils/trt_logger.cc:83] TF-TRT Warning: DefaultLogger Check verbose logs for the list of affected weights.\n",
      "2023-02-06 22:13:43.626708: W tensorflow/compiler/tf2tensorrt/utils/trt_logger.cc:83] TF-TRT Warning: DefaultLogger - 1 weights are affected by this issue: Detected values less than smallest positive FP16 subnormal value and converted them to the FP16 minimum subnormalized value.\n",
      "2023-02-06 22:13:44.012171: W tensorflow/compiler/tf2tensorrt/utils/trt_logger.cc:83] TF-TRT Warning: DefaultLogger TensorRT encountered issues when converting weights between types and that could affect accuracy.\n",
      "2023-02-06 22:13:44.012210: W tensorflow/compiler/tf2tensorrt/utils/trt_logger.cc:83] TF-TRT Warning: DefaultLogger Check verbose logs for the list of affected weights.\n",
      "2023-02-06 22:13:44.012226: W tensorflow/compiler/tf2tensorrt/utils/trt_logger.cc:83] TF-TRT Warning: DefaultLogger - 3 weights are affected by this issue: Detected subnormal FP16 values.\n",
      "2023-02-06 22:13:45.379409: W tensorflow/compiler/tf2tensorrt/utils/trt_logger.cc:83] TF-TRT Warning: DefaultLogger TensorRT encountered issues when converting weights between types and that could affect accuracy.\n",
      "2023-02-06 22:13:45.379452: W tensorflow/compiler/tf2tensorrt/utils/trt_logger.cc:83] TF-TRT Warning: DefaultLogger Check verbose logs for the list of affected weights.\n",
      "2023-02-06 22:13:45.379470: W tensorflow/compiler/tf2tensorrt/utils/trt_logger.cc:83] TF-TRT Warning: DefaultLogger - 2 weights are affected by this issue: Detected subnormal FP16 values.\n",
      "2023-02-06 22:13:45.705521: W tensorflow/compiler/tf2tensorrt/utils/trt_logger.cc:83] TF-TRT Warning: DefaultLogger TensorRT encountered issues when converting weights between types and that could affect accuracy.\n",
      "2023-02-06 22:13:45.705553: W tensorflow/compiler/tf2tensorrt/utils/trt_logger.cc:83] TF-TRT Warning: DefaultLogger Check verbose logs for the list of affected weights.\n",
      "2023-02-06 22:13:45.705566: W tensorflow/compiler/tf2tensorrt/utils/trt_logger.cc:83] TF-TRT Warning: DefaultLogger - 1 weights are affected by this issue: Detected subnormal FP16 values.\n",
      "2023-02-06 22:14:03.262709: W tensorflow/compiler/tf2tensorrt/utils/trt_logger.cc:83] TF-TRT Warning: DefaultLogger TensorRT encountered issues when converting weights between types and that could affect accuracy.\n",
      "2023-02-06 22:14:03.262769: W tensorflow/compiler/tf2tensorrt/utils/trt_logger.cc:83] TF-TRT Warning: DefaultLogger Check verbose logs for the list of affected weights.\n",
      "2023-02-06 22:14:03.262791: W tensorflow/compiler/tf2tensorrt/utils/trt_logger.cc:83] TF-TRT Warning: DefaultLogger - 2 weights are affected by this issue: Detected subnormal FP16 values.\n",
      "2023-02-06 22:14:39.326214: W tensorflow/compiler/tf2tensorrt/utils/trt_logger.cc:83] TF-TRT Warning: DefaultLogger TensorRT encountered issues when converting weights between types and that could affect accuracy.\n",
      "2023-02-06 22:14:39.326266: W tensorflow/compiler/tf2tensorrt/utils/trt_logger.cc:83] TF-TRT Warning: DefaultLogger Check verbose logs for the list of affected weights.\n",
      "2023-02-06 22:14:39.326283: W tensorflow/compiler/tf2tensorrt/utils/trt_logger.cc:83] TF-TRT Warning: DefaultLogger - 1 weights are affected by this issue: Detected subnormal FP16 values.\n"
     ]
    }
   ],
   "source": [
    "predictions_trt = [(batch[\"label\"], do_inference(batch[\"rows\"])) for batch in ds.take(count=-1)]"
   ]
  },
  {
   "cell_type": "code",
   "execution_count": 26,
   "id": "a8ed8b92",
   "metadata": {},
   "outputs": [
    {
     "name": "stdout",
     "output_type": "stream",
     "text": [
      "Dataset average accuracy: 1.275\n"
     ]
    }
   ],
   "source": [
    "batch_loss = [loss.eval(label, pred['output_1']).numpy().mean() for label, pred in predictions_trt]\n",
    "\n",
    "print(\"Dataset average accuracy: {:.3f}\".format(np.array(batch_loss).mean()))"
   ]
  }
 ],
 "metadata": {
  "kernelspec": {
   "display_name": "Python 3 (ipykernel)",
   "language": "python",
   "name": "python3"
  },
  "language_info": {
   "codemirror_mode": {
    "name": "ipython",
    "version": 3
   },
   "file_extension": ".py",
   "mimetype": "text/x-python",
   "name": "python",
   "nbconvert_exporter": "python",
   "pygments_lexer": "ipython3",
   "version": "3.8.10"
  }
 },
 "nbformat": 4,
 "nbformat_minor": 5
}
