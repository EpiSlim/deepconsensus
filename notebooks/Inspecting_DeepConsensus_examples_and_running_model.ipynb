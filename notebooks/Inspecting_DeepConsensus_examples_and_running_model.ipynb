{
  "cells": [
    {
      "cell_type": "markdown",
      "metadata": {
        "id": "QPm4rl4u-kHD"
      },
      "source": [
        "# Inspecting DeepConsensus examples and running model"
      ]
    },
    {
      "cell_type": "markdown",
      "metadata": {
        "id": "UyUxIkM832Mf"
      },
      "source": [
        "## Imports\n",
        "\n"
      ]
    },
    {
      "cell_type": "markdown",
      "metadata": {
        "id": "hAGpwYlc-wSb"
      },
      "source": [
        "Run these in order. These libraries are finicky about which order they're installed and loaded in."
      ]
    },
    {
      "cell_type": "code",
      "execution_count": null,
      "metadata": {
        "colab": {
          "base_uri": "https://localhost:8080/",
          "height": 1000
        },
        "executionInfo": {
          "elapsed": 122512,
          "status": "ok",
          "timestamp": 1665071857882,
          "user": {
            "displayName": "Daniel Cook",
            "userId": "04506954740237116110"
          },
          "user_tz": 420
        },
        "id": "rxPOVn8fZz08",
        "outputId": "a9995098-19fd-4f8c-dfa0-c063f7cac159"
      },
      "outputs": [
        {
          "name": "stdout",
          "output_type": "stream",
          "text": [
            "Looking in indexes: https://pypi.org/simple, https://us-python.pkg.dev/colab-wheels/public/simple/\n",
            "Requirement already satisfied: pip in /usr/local/lib/python3.7/dist-packages (21.1.3)\n",
            "Collecting pip\n",
            "  Downloading pip-22.2.2-py3-none-any.whl (2.0 MB)\n",
            "\u001b[K     |████████████████████████████████| 2.0 MB 7.3 MB/s \n",
            "\u001b[?25hRequirement already satisfied: setuptools in /usr/local/lib/python3.7/dist-packages (57.4.0)\n",
            "Collecting setuptools\n",
            "  Downloading setuptools-65.4.1-py3-none-any.whl (1.2 MB)\n",
            "\u001b[K     |████████████████████████████████| 1.2 MB 49.3 MB/s \n",
            "\u001b[?25hRequirement already satisfied: wheel in /usr/local/lib/python3.7/dist-packages (0.37.1)\n",
            "Installing collected packages: setuptools, pip\n",
            "  Attempting uninstall: setuptools\n",
            "    Found existing installation: setuptools 57.4.0\n",
            "    Uninstalling setuptools-57.4.0:\n",
            "      Successfully uninstalled setuptools-57.4.0\n",
            "  Attempting uninstall: pip\n",
            "    Found existing installation: pip 21.1.3\n",
            "    Uninstalling pip-21.1.3:\n",
            "      Successfully uninstalled pip-21.1.3\n",
            "\u001b[31mERROR: pip's dependency resolver does not currently take into account all the packages that are installed. This behaviour is the source of the following dependency conflicts.\n",
            "ipython 7.9.0 requires jedi\u003e=0.10, which is not installed.\n",
            "numba 0.56.2 requires setuptools\u003c60, but you have setuptools 65.4.1 which is incompatible.\u001b[0m\n",
            "Successfully installed pip-22.2.2 setuptools-65.4.1\n"
          ]
        },
        {
          "data": {
            "application/vnd.colab-display-data+json": {
              "pip_warning": {
                "packages": [
                  "pkg_resources"
                ]
              }
            }
          },
          "metadata": {},
          "output_type": "display_data"
        },
        {
          "name": "stdout",
          "output_type": "stream",
          "text": [
            "Looking in indexes: https://test.pypi.org/simple/, https://us-python.pkg.dev/colab-wheels/public/simple/, https://pypi.org/simple\n",
            "Collecting deepconsensus==1.0.0\n",
            "  Downloading https://test-files.pythonhosted.org/packages/5e/3c/6a7293ebf446a38aae6c8f0797225fe68d17c7d8e1cfde1ade32b736769d/deepconsensus-1.0.0-py3-none-any.whl (154 kB)\n",
            "\u001b[2K     \u001b[90m━━━━━━━━━━━━━━━━━━━━━━━━━━━━━━━━━━━━━━━\u001b[0m \u001b[32m154.9/154.9 kB\u001b[0m \u001b[31m6.1 MB/s\u001b[0m eta \u001b[36m0:00:00\u001b[0m\n",
            "\u001b[?25hCollecting ml-collections\u003e=0.1.0\n",
            "  Downloading ml_collections-0.1.1.tar.gz (77 kB)\n",
            "\u001b[2K     \u001b[90m━━━━━━━━━━━━━━━━━━━━━━━━━━━━━━━━━━━━━━━━\u001b[0m \u001b[32m77.9/77.9 kB\u001b[0m \u001b[31m6.5 MB/s\u001b[0m eta \u001b[36m0:00:00\u001b[0m\n",
            "\u001b[?25h  Preparing metadata (setup.py) ... \u001b[?25l\u001b[?25hdone\n",
            "Collecting pysam\u003e=0.19.0\n",
            "  Downloading pysam-0.19.1-cp37-cp37m-manylinux_2_24_x86_64.whl (15.1 MB)\n",
            "\u001b[2K     \u001b[90m━━━━━━━━━━━━━━━━━━━━━━━━━━━━━━━━━━━━━━━━\u001b[0m \u001b[32m15.1/15.1 MB\u001b[0m \u001b[31m56.9 MB/s\u001b[0m eta \u001b[36m0:00:00\u001b[0m\n",
            "\u001b[?25hRequirement already satisfied: absl-py\u003e=0.13.0 in /usr/local/lib/python3.7/dist-packages (from deepconsensus==1.0.0) (1.2.0)\n",
            "Requirement already satisfied: pandas\u003e=1.1 in /usr/local/lib/python3.7/dist-packages (from deepconsensus==1.0.0) (1.3.5)\n",
            "Collecting keras\u003e=2.9\n",
            "  Downloading keras-2.10.0-py2.py3-none-any.whl (1.7 MB)\n",
            "\u001b[2K     \u001b[90m━━━━━━━━━━━━━━━━━━━━━━━━━━━━━━━━━━━━━━━━\u001b[0m \u001b[32m1.7/1.7 MB\u001b[0m \u001b[31m61.0 MB/s\u001b[0m eta \u001b[36m0:00:00\u001b[0m\n",
            "\u001b[?25hRequirement already satisfied: numpy\u003e=1.19 in /usr/local/lib/python3.7/dist-packages (from deepconsensus==1.0.0) (1.21.6)\n",
            "Collecting tf-models-official\u003e=2.9.2\n",
            "  Downloading tf_models_official-2.10.0-py2.py3-none-any.whl (2.2 MB)\n",
            "\u001b[2K     \u001b[90m━━━━━━━━━━━━━━━━━━━━━━━━━━━━━━━━━━━━━━━━\u001b[0m \u001b[32m2.2/2.2 MB\u001b[0m \u001b[31m58.5 MB/s\u001b[0m eta \u001b[36m0:00:00\u001b[0m\n",
            "\u001b[?25hRequirement already satisfied: PyYAML in /usr/local/lib/python3.7/dist-packages (from ml-collections\u003e=0.1.0-\u003edeepconsensus==1.0.0) (6.0)\n",
            "Requirement already satisfied: six in /usr/local/lib/python3.7/dist-packages (from ml-collections\u003e=0.1.0-\u003edeepconsensus==1.0.0) (1.15.0)\n",
            "Requirement already satisfied: contextlib2 in /usr/local/lib/python3.7/dist-packages (from ml-collections\u003e=0.1.0-\u003edeepconsensus==1.0.0) (0.5.5)\n",
            "Requirement already satisfied: pytz\u003e=2017.3 in /usr/local/lib/python3.7/dist-packages (from pandas\u003e=1.1-\u003edeepconsensus==1.0.0) (2022.4)\n",
            "Requirement already satisfied: python-dateutil\u003e=2.7.3 in /usr/local/lib/python3.7/dist-packages (from pandas\u003e=1.1-\u003edeepconsensus==1.0.0) (2.8.2)\n",
            "Requirement already satisfied: oauth2client in /usr/local/lib/python3.7/dist-packages (from tf-models-official\u003e=2.9.2-\u003edeepconsensus==1.0.0) (4.1.3)\n",
            "Requirement already satisfied: kaggle\u003e=1.3.9 in /usr/local/lib/python3.7/dist-packages (from tf-models-official\u003e=2.9.2-\u003edeepconsensus==1.0.0) (1.5.12)\n",
            "Collecting py-cpuinfo\u003e=3.3.0\n",
            "  Downloading py-cpuinfo-8.0.0.tar.gz (99 kB)\n",
            "\u001b[2K     \u001b[90m━━━━━━━━━━━━━━━━━━━━━━━━━━━━━━━━━━━━━━━━\u001b[0m \u001b[32m99.8/99.8 kB\u001b[0m \u001b[31m8.2 MB/s\u001b[0m eta \u001b[36m0:00:00\u001b[0m\n",
            "\u001b[?25h  Preparing metadata (setup.py) ... \u001b[?25l\u001b[?25hdone\n",
            "Collecting sentencepiece\n",
            "  Downloading sentencepiece-0.1.97-cp37-cp37m-manylinux_2_17_x86_64.manylinux2014_x86_64.whl (1.3 MB)\n",
            "\u001b[2K     \u001b[90m━━━━━━━━━━━━━━━━━━━━━━━━━━━━━━━━━━━━━━━━\u001b[0m \u001b[32m1.3/1.3 MB\u001b[0m \u001b[31m50.6 MB/s\u001b[0m eta \u001b[36m0:00:00\u001b[0m\n",
            "\u001b[?25hCollecting tensorflow~=2.10.0\n",
            "  Downloading tensorflow-2.10.0-cp37-cp37m-manylinux_2_17_x86_64.manylinux2014_x86_64.whl (578.0 MB)\n",
            "\u001b[2K     \u001b[90m━━━━━━━━━━━━━━━━━━━━━━━━━━━━━━━━━━━━━\u001b[0m \u001b[32m578.0/578.0 MB\u001b[0m \u001b[31m881.8 kB/s\u001b[0m eta \u001b[36m0:00:00\u001b[0m\n",
            "\u001b[?25hRequirement already satisfied: gin-config in /usr/local/lib/python3.7/dist-packages (from tf-models-official\u003e=2.9.2-\u003edeepconsensus==1.0.0) (0.5.0)\n",
            "Collecting seqeval\n",
            "  Downloading seqeval-1.2.2.tar.gz (43 kB)\n",
            "\u001b[2K     \u001b[90m━━━━━━━━━━━━━━━━━━━━━━━━━━━━━━━━━━━━━━━━\u001b[0m \u001b[32m43.6/43.6 kB\u001b[0m \u001b[31m4.2 MB/s\u001b[0m eta \u001b[36m0:00:00\u001b[0m\n",
            "\u001b[?25h  Preparing metadata (setup.py) ... \u001b[?25l\u001b[?25hdone\n",
            "Collecting tensorflow-model-optimization\u003e=0.4.1\n",
            "  Downloading tensorflow_model_optimization-0.7.3-py2.py3-none-any.whl (238 kB)\n",
            "\u001b[2K     \u001b[90m━━━━━━━━━━━━━━━━━━━━━━━━━━━━━━━━━━━━━━\u001b[0m \u001b[32m238.9/238.9 kB\u001b[0m \u001b[31m18.3 MB/s\u001b[0m eta \u001b[36m0:00:00\u001b[0m\n",
            "\u001b[?25hRequirement already satisfied: Pillow in /usr/local/lib/python3.7/dist-packages (from tf-models-official\u003e=2.9.2-\u003edeepconsensus==1.0.0) (7.1.2)\n",
            "Requirement already satisfied: pycocotools in /usr/local/lib/python3.7/dist-packages (from tf-models-official\u003e=2.9.2-\u003edeepconsensus==1.0.0) (2.0.5)\n",
            "Requirement already satisfied: matplotlib in /usr/local/lib/python3.7/dist-packages (from tf-models-official\u003e=2.9.2-\u003edeepconsensus==1.0.0) (3.2.2)\n",
            "Collecting tf-slim\u003e=1.1.0\n",
            "  Downloading tf_slim-1.1.0-py2.py3-none-any.whl (352 kB)\n",
            "\u001b[2K     \u001b[90m━━━━━━━━━━━━━━━━━━━━━━━━━━━━━━━━━━━━━━\u001b[0m \u001b[32m352.1/352.1 kB\u001b[0m \u001b[31m26.1 MB/s\u001b[0m eta \u001b[36m0:00:00\u001b[0m\n",
            "\u001b[?25hRequirement already satisfied: psutil\u003e=5.4.3 in /usr/local/lib/python3.7/dist-packages (from tf-models-official\u003e=2.9.2-\u003edeepconsensus==1.0.0) (5.4.8)\n",
            "Collecting sacrebleu==2.2.0\n",
            "  Downloading sacrebleu-2.2.0-py3-none-any.whl (116 kB)\n",
            "\u001b[2K     \u001b[90m━━━━━━━━━━━━━━━━━━━━━━━━━━━━━━━━━━━━━━\u001b[0m \u001b[32m116.6/116.6 kB\u001b[0m \u001b[31m10.5 MB/s\u001b[0m eta \u001b[36m0:00:00\u001b[0m\n",
            "\u001b[?25hCollecting tensorflow-addons\n",
            "  Downloading tensorflow_addons-0.18.0-cp37-cp37m-manylinux_2_17_x86_64.manylinux2014_x86_64.whl (1.1 MB)\n",
            "\u001b[2K     \u001b[90m━━━━━━━━━━━━━━━━━━━━━━━━━━━━━━━━━━━━━━━━\u001b[0m \u001b[32m1.1/1.1 MB\u001b[0m \u001b[31m46.8 MB/s\u001b[0m eta \u001b[36m0:00:00\u001b[0m\n",
            "\u001b[?25hCollecting tensorflow-text~=2.10.0\n",
            "  Downloading tensorflow_text-2.10.0-cp37-cp37m-manylinux_2_17_x86_64.manylinux2014_x86_64.whl (5.9 MB)\n",
            "\u001b[2K     \u001b[90m━━━━━━━━━━━━━━━━━━━━━━━━━━━━━━━━━━━━━━━━\u001b[0m \u001b[32m5.9/5.9 MB\u001b[0m \u001b[31m47.3 MB/s\u001b[0m eta \u001b[36m0:00:00\u001b[0m\n",
            "\u001b[?25hRequirement already satisfied: google-api-python-client\u003e=1.6.7 in /usr/local/lib/python3.7/dist-packages (from tf-models-official\u003e=2.9.2-\u003edeepconsensus==1.0.0) (1.12.11)\n",
            "Requirement already satisfied: tensorflow-hub\u003e=0.6.0 in /usr/local/lib/python3.7/dist-packages (from tf-models-official\u003e=2.9.2-\u003edeepconsensus==1.0.0) (0.12.0)\n",
            "Collecting immutabledict\n",
            "  Downloading immutabledict-2.2.1-py3-none-any.whl (4.0 kB)\n",
            "Requirement already satisfied: Cython in /usr/local/lib/python3.7/dist-packages (from tf-models-official\u003e=2.9.2-\u003edeepconsensus==1.0.0) (0.29.32)\n",
            "Collecting opencv-python-headless==4.5.2.52\n",
            "  Downloading opencv_python_headless-4.5.2.52-cp37-cp37m-manylinux2014_x86_64.whl (38.2 MB)\n",
            "\u001b[2K     \u001b[90m━━━━━━━━━━━━━━━━━━━━━━━━━━━━━━━━━━━━━━━━\u001b[0m \u001b[32m38.2/38.2 MB\u001b[0m \u001b[31m9.8 MB/s\u001b[0m eta \u001b[36m0:00:00\u001b[0m\n",
            "\u001b[?25hRequirement already satisfied: tensorflow-datasets in /usr/local/lib/python3.7/dist-packages (from tf-models-official\u003e=2.9.2-\u003edeepconsensus==1.0.0) (4.6.0)\n",
            "Collecting PyYAML\n",
            "  Downloading PyYAML-5.4.1-cp37-cp37m-manylinux1_x86_64.whl (636 kB)\n",
            "\u001b[2K     \u001b[90m━━━━━━━━━━━━━━━━━━━━━━━━━━━━━━━━━━━━━━\u001b[0m \u001b[32m636.6/636.6 kB\u001b[0m \u001b[31m38.2 MB/s\u001b[0m eta \u001b[36m0:00:00\u001b[0m\n",
            "\u001b[?25hRequirement already satisfied: scipy\u003e=0.19.1 in /usr/local/lib/python3.7/dist-packages (from tf-models-official\u003e=2.9.2-\u003edeepconsensus==1.0.0) (1.7.3)\n",
            "Requirement already satisfied: regex in /usr/local/lib/python3.7/dist-packages (from sacrebleu==2.2.0-\u003etf-models-official\u003e=2.9.2-\u003edeepconsensus==1.0.0) (2022.6.2)\n",
            "Collecting colorama\n",
            "  Downloading colorama-0.4.5-py2.py3-none-any.whl (16 kB)\n",
            "Requirement already satisfied: tabulate\u003e=0.8.9 in /usr/local/lib/python3.7/dist-packages (from sacrebleu==2.2.0-\u003etf-models-official\u003e=2.9.2-\u003edeepconsensus==1.0.0) (0.8.10)\n",
            "Requirement already satisfied: lxml in /usr/local/lib/python3.7/dist-packages (from sacrebleu==2.2.0-\u003etf-models-official\u003e=2.9.2-\u003edeepconsensus==1.0.0) (4.9.1)\n",
            "Collecting portalocker\n",
            "  Downloading portalocker-2.5.1-py2.py3-none-any.whl (15 kB)\n",
            "Requirement already satisfied: uritemplate\u003c4dev,\u003e=3.0.0 in /usr/local/lib/python3.7/dist-packages (from google-api-python-client\u003e=1.6.7-\u003etf-models-official\u003e=2.9.2-\u003edeepconsensus==1.0.0) (3.0.1)\n",
            "Requirement already satisfied: google-api-core\u003c3dev,\u003e=1.21.0 in /usr/local/lib/python3.7/dist-packages (from google-api-python-client\u003e=1.6.7-\u003etf-models-official\u003e=2.9.2-\u003edeepconsensus==1.0.0) (1.31.6)\n",
            "Requirement already satisfied: google-auth\u003c3dev,\u003e=1.16.0 in /usr/local/lib/python3.7/dist-packages (from google-api-python-client\u003e=1.6.7-\u003etf-models-official\u003e=2.9.2-\u003edeepconsensus==1.0.0) (1.35.0)\n",
            "Requirement already satisfied: google-auth-httplib2\u003e=0.0.3 in /usr/local/lib/python3.7/dist-packages (from google-api-python-client\u003e=1.6.7-\u003etf-models-official\u003e=2.9.2-\u003edeepconsensus==1.0.0) (0.0.4)\n",
            "Requirement already satisfied: httplib2\u003c1dev,\u003e=0.15.0 in /usr/local/lib/python3.7/dist-packages (from google-api-python-client\u003e=1.6.7-\u003etf-models-official\u003e=2.9.2-\u003edeepconsensus==1.0.0) (0.17.4)\n",
            "Requirement already satisfied: requests in /usr/local/lib/python3.7/dist-packages (from kaggle\u003e=1.3.9-\u003etf-models-official\u003e=2.9.2-\u003edeepconsensus==1.0.0) (2.23.0)\n",
            "Requirement already satisfied: certifi in /usr/local/lib/python3.7/dist-packages (from kaggle\u003e=1.3.9-\u003etf-models-official\u003e=2.9.2-\u003edeepconsensus==1.0.0) (2022.9.24)\n",
            "Requirement already satisfied: urllib3 in /usr/local/lib/python3.7/dist-packages (from kaggle\u003e=1.3.9-\u003etf-models-official\u003e=2.9.2-\u003edeepconsensus==1.0.0) (1.24.3)\n",
            "Requirement already satisfied: tqdm in /usr/local/lib/python3.7/dist-packages (from kaggle\u003e=1.3.9-\u003etf-models-official\u003e=2.9.2-\u003edeepconsensus==1.0.0) (4.64.1)\n",
            "Requirement already satisfied: python-slugify in /usr/local/lib/python3.7/dist-packages (from kaggle\u003e=1.3.9-\u003etf-models-official\u003e=2.9.2-\u003edeepconsensus==1.0.0) (6.1.2)\n",
            "Requirement already satisfied: google-pasta\u003e=0.1.1 in /usr/local/lib/python3.7/dist-packages (from tensorflow~=2.10.0-\u003etf-models-official\u003e=2.9.2-\u003edeepconsensus==1.0.0) (0.2.0)\n",
            "Requirement already satisfied: packaging in /usr/local/lib/python3.7/dist-packages (from tensorflow~=2.10.0-\u003etf-models-official\u003e=2.9.2-\u003edeepconsensus==1.0.0) (21.3)\n",
            "Collecting tensorflow-estimator\u003c2.11,\u003e=2.10.0\n",
            "  Downloading tensorflow_estimator-2.10.0-py2.py3-none-any.whl (438 kB)\n",
            "\u001b[2K     \u001b[90m━━━━━━━━━━━━━━━━━━━━━━━━━━━━━━━━━━━━━━\u001b[0m \u001b[32m438.7/438.7 kB\u001b[0m \u001b[31m34.0 MB/s\u001b[0m eta \u001b[36m0:00:00\u001b[0m\n",
            "\u001b[?25hCollecting tensorboard\u003c2.11,\u003e=2.10\n",
            "  Downloading tensorboard-2.10.1-py3-none-any.whl (5.9 MB)\n",
            "\u001b[2K     \u001b[90m━━━━━━━━━━━━━━━━━━━━━━━━━━━━━━━━━━━━━━━━\u001b[0m \u001b[32m5.9/5.9 MB\u001b[0m \u001b[31m60.7 MB/s\u001b[0m eta \u001b[36m0:00:00\u001b[0m\n",
            "\u001b[?25hRequirement already satisfied: libclang\u003e=13.0.0 in /usr/local/lib/python3.7/dist-packages (from tensorflow~=2.10.0-\u003etf-models-official\u003e=2.9.2-\u003edeepconsensus==1.0.0) (14.0.6)\n",
            "Requirement already satisfied: wrapt\u003e=1.11.0 in /usr/local/lib/python3.7/dist-packages (from tensorflow~=2.10.0-\u003etf-models-official\u003e=2.9.2-\u003edeepconsensus==1.0.0) (1.14.1)\n",
            "Collecting gast\u003c=0.4.0,\u003e=0.2.1\n",
            "  Downloading gast-0.4.0-py3-none-any.whl (9.8 kB)\n",
            "Requirement already satisfied: typing-extensions\u003e=3.6.6 in /usr/local/lib/python3.7/dist-packages (from tensorflow~=2.10.0-\u003etf-models-official\u003e=2.9.2-\u003edeepconsensus==1.0.0) (4.1.1)\n",
            "Requirement already satisfied: h5py\u003e=2.9.0 in /usr/local/lib/python3.7/dist-packages (from tensorflow~=2.10.0-\u003etf-models-official\u003e=2.9.2-\u003edeepconsensus==1.0.0) (3.1.0)\n",
            "Requirement already satisfied: opt-einsum\u003e=2.3.2 in /usr/local/lib/python3.7/dist-packages (from tensorflow~=2.10.0-\u003etf-models-official\u003e=2.9.2-\u003edeepconsensus==1.0.0) (3.3.0)\n",
            "Requirement already satisfied: termcolor\u003e=1.1.0 in /usr/local/lib/python3.7/dist-packages (from tensorflow~=2.10.0-\u003etf-models-official\u003e=2.9.2-\u003edeepconsensus==1.0.0) (2.0.1)\n",
            "Requirement already satisfied: keras-preprocessing\u003e=1.1.1 in /usr/local/lib/python3.7/dist-packages (from tensorflow~=2.10.0-\u003etf-models-official\u003e=2.9.2-\u003edeepconsensus==1.0.0) (1.1.2)\n",
            "Requirement already satisfied: protobuf\u003c3.20,\u003e=3.9.2 in /usr/local/lib/python3.7/dist-packages (from tensorflow~=2.10.0-\u003etf-models-official\u003e=2.9.2-\u003edeepconsensus==1.0.0) (3.17.3)\n",
            "Requirement already satisfied: astunparse\u003e=1.6.0 in /usr/local/lib/python3.7/dist-packages (from tensorflow~=2.10.0-\u003etf-models-official\u003e=2.9.2-\u003edeepconsensus==1.0.0) (1.6.3)\n",
            "Requirement already satisfied: flatbuffers\u003e=2.0 in /usr/local/lib/python3.7/dist-packages (from tensorflow~=2.10.0-\u003etf-models-official\u003e=2.9.2-\u003edeepconsensus==1.0.0) (22.9.24)\n",
            "Requirement already satisfied: grpcio\u003c2.0,\u003e=1.24.3 in /usr/local/lib/python3.7/dist-packages (from tensorflow~=2.10.0-\u003etf-models-official\u003e=2.9.2-\u003edeepconsensus==1.0.0) (1.49.1)\n",
            "Requirement already satisfied: setuptools in /usr/local/lib/python3.7/dist-packages (from tensorflow~=2.10.0-\u003etf-models-official\u003e=2.9.2-\u003edeepconsensus==1.0.0) (65.4.1)\n",
            "Requirement already satisfied: tensorflow-io-gcs-filesystem\u003e=0.23.1 in /usr/local/lib/python3.7/dist-packages (from tensorflow~=2.10.0-\u003etf-models-official\u003e=2.9.2-\u003edeepconsensus==1.0.0) (0.27.0)\n",
            "Requirement already satisfied: dm-tree~=0.1.1 in /usr/local/lib/python3.7/dist-packages (from tensorflow-model-optimization\u003e=0.4.1-\u003etf-models-official\u003e=2.9.2-\u003edeepconsensus==1.0.0) (0.1.7)\n",
            "Requirement already satisfied: pyparsing!=2.0.4,!=2.1.2,!=2.1.6,\u003e=2.0.1 in /usr/local/lib/python3.7/dist-packages (from matplotlib-\u003etf-models-official\u003e=2.9.2-\u003edeepconsensus==1.0.0) (3.0.9)\n",
            "Requirement already satisfied: kiwisolver\u003e=1.0.1 in /usr/local/lib/python3.7/dist-packages (from matplotlib-\u003etf-models-official\u003e=2.9.2-\u003edeepconsensus==1.0.0) (1.4.4)\n",
            "Requirement already satisfied: cycler\u003e=0.10 in /usr/local/lib/python3.7/dist-packages (from matplotlib-\u003etf-models-official\u003e=2.9.2-\u003edeepconsensus==1.0.0) (0.11.0)\n",
            "Requirement already satisfied: rsa\u003e=3.1.4 in /usr/local/lib/python3.7/dist-packages (from oauth2client-\u003etf-models-official\u003e=2.9.2-\u003edeepconsensus==1.0.0) (4.9)\n",
            "Requirement already satisfied: pyasn1\u003e=0.1.7 in /usr/local/lib/python3.7/dist-packages (from oauth2client-\u003etf-models-official\u003e=2.9.2-\u003edeepconsensus==1.0.0) (0.4.8)\n",
            "Requirement already satisfied: pyasn1-modules\u003e=0.0.5 in /usr/local/lib/python3.7/dist-packages (from oauth2client-\u003etf-models-official\u003e=2.9.2-\u003edeepconsensus==1.0.0) (0.2.8)\n",
            "Requirement already satisfied: scikit-learn\u003e=0.21.3 in /usr/local/lib/python3.7/dist-packages (from seqeval-\u003etf-models-official\u003e=2.9.2-\u003edeepconsensus==1.0.0) (1.0.2)\n",
            "Requirement already satisfied: typeguard\u003e=2.7 in /usr/local/lib/python3.7/dist-packages (from tensorflow-addons-\u003etf-models-official\u003e=2.9.2-\u003edeepconsensus==1.0.0) (2.7.1)\n",
            "Requirement already satisfied: toml in /usr/local/lib/python3.7/dist-packages (from tensorflow-datasets-\u003etf-models-official\u003e=2.9.2-\u003edeepconsensus==1.0.0) (0.10.2)\n",
            "Requirement already satisfied: etils[epath] in /usr/local/lib/python3.7/dist-packages (from tensorflow-datasets-\u003etf-models-official\u003e=2.9.2-\u003edeepconsensus==1.0.0) (0.8.0)\n",
            "Requirement already satisfied: tensorflow-metadata in /usr/local/lib/python3.7/dist-packages (from tensorflow-datasets-\u003etf-models-official\u003e=2.9.2-\u003edeepconsensus==1.0.0) (1.10.0)\n",
            "Requirement already satisfied: promise in /usr/local/lib/python3.7/dist-packages (from tensorflow-datasets-\u003etf-models-official\u003e=2.9.2-\u003edeepconsensus==1.0.0) (2.3)\n",
            "Requirement already satisfied: importlib-resources in /usr/local/lib/python3.7/dist-packages (from tensorflow-datasets-\u003etf-models-official\u003e=2.9.2-\u003edeepconsensus==1.0.0) (5.9.0)\n",
            "Requirement already satisfied: dill in /usr/local/lib/python3.7/dist-packages (from tensorflow-datasets-\u003etf-models-official\u003e=2.9.2-\u003edeepconsensus==1.0.0) (0.3.5.1)\n",
            "Requirement already satisfied: wheel\u003c1.0,\u003e=0.23.0 in /usr/local/lib/python3.7/dist-packages (from astunparse\u003e=1.6.0-\u003etensorflow~=2.10.0-\u003etf-models-official\u003e=2.9.2-\u003edeepconsensus==1.0.0) (0.37.1)\n",
            "Requirement already satisfied: googleapis-common-protos\u003c2.0dev,\u003e=1.6.0 in /usr/local/lib/python3.7/dist-packages (from google-api-core\u003c3dev,\u003e=1.21.0-\u003egoogle-api-python-client\u003e=1.6.7-\u003etf-models-official\u003e=2.9.2-\u003edeepconsensus==1.0.0) (1.56.4)\n",
            "Requirement already satisfied: cachetools\u003c5.0,\u003e=2.0.0 in /usr/local/lib/python3.7/dist-packages (from google-auth\u003c3dev,\u003e=1.16.0-\u003egoogle-api-python-client\u003e=1.6.7-\u003etf-models-official\u003e=2.9.2-\u003edeepconsensus==1.0.0) (4.2.4)\n",
            "Requirement already satisfied: cached-property in /usr/local/lib/python3.7/dist-packages (from h5py\u003e=2.9.0-\u003etensorflow~=2.10.0-\u003etf-models-official\u003e=2.9.2-\u003edeepconsensus==1.0.0) (1.5.2)\n",
            "Requirement already satisfied: chardet\u003c4,\u003e=3.0.2 in /usr/local/lib/python3.7/dist-packages (from requests-\u003ekaggle\u003e=1.3.9-\u003etf-models-official\u003e=2.9.2-\u003edeepconsensus==1.0.0) (3.0.4)\n",
            "Requirement already satisfied: idna\u003c3,\u003e=2.5 in /usr/local/lib/python3.7/dist-packages (from requests-\u003ekaggle\u003e=1.3.9-\u003etf-models-official\u003e=2.9.2-\u003edeepconsensus==1.0.0) (2.10)\n",
            "Requirement already satisfied: joblib\u003e=0.11 in /usr/local/lib/python3.7/dist-packages (from scikit-learn\u003e=0.21.3-\u003eseqeval-\u003etf-models-official\u003e=2.9.2-\u003edeepconsensus==1.0.0) (1.2.0)\n",
            "Requirement already satisfied: threadpoolctl\u003e=2.0.0 in /usr/local/lib/python3.7/dist-packages (from scikit-learn\u003e=0.21.3-\u003eseqeval-\u003etf-models-official\u003e=2.9.2-\u003edeepconsensus==1.0.0) (3.1.0)\n",
            "Requirement already satisfied: markdown\u003e=2.6.8 in /usr/local/lib/python3.7/dist-packages (from tensorboard\u003c2.11,\u003e=2.10-\u003etensorflow~=2.10.0-\u003etf-models-official\u003e=2.9.2-\u003edeepconsensus==1.0.0) (3.4.1)\n",
            "Requirement already satisfied: tensorboard-data-server\u003c0.7.0,\u003e=0.6.0 in /usr/local/lib/python3.7/dist-packages (from tensorboard\u003c2.11,\u003e=2.10-\u003etensorflow~=2.10.0-\u003etf-models-official\u003e=2.9.2-\u003edeepconsensus==1.0.0) (0.6.1)\n",
            "Requirement already satisfied: google-auth-oauthlib\u003c0.5,\u003e=0.4.1 in /usr/local/lib/python3.7/dist-packages (from tensorboard\u003c2.11,\u003e=2.10-\u003etensorflow~=2.10.0-\u003etf-models-official\u003e=2.9.2-\u003edeepconsensus==1.0.0) (0.4.6)\n",
            "Requirement already satisfied: werkzeug\u003e=1.0.1 in /usr/local/lib/python3.7/dist-packages (from tensorboard\u003c2.11,\u003e=2.10-\u003etensorflow~=2.10.0-\u003etf-models-official\u003e=2.9.2-\u003edeepconsensus==1.0.0) (1.0.1)\n",
            "Requirement already satisfied: tensorboard-plugin-wit\u003e=1.6.0 in /usr/local/lib/python3.7/dist-packages (from tensorboard\u003c2.11,\u003e=2.10-\u003etensorflow~=2.10.0-\u003etf-models-official\u003e=2.9.2-\u003edeepconsensus==1.0.0) (1.8.1)\n",
            "Requirement already satisfied: zipp in /usr/local/lib/python3.7/dist-packages (from etils[epath]-\u003etensorflow-datasets-\u003etf-models-official\u003e=2.9.2-\u003edeepconsensus==1.0.0) (3.8.1)\n",
            "Requirement already satisfied: text-unidecode\u003e=1.3 in /usr/local/lib/python3.7/dist-packages (from python-slugify-\u003ekaggle\u003e=1.3.9-\u003etf-models-official\u003e=2.9.2-\u003edeepconsensus==1.0.0) (1.3)\n",
            "Requirement already satisfied: requests-oauthlib\u003e=0.7.0 in /usr/local/lib/python3.7/dist-packages (from google-auth-oauthlib\u003c0.5,\u003e=0.4.1-\u003etensorboard\u003c2.11,\u003e=2.10-\u003etensorflow~=2.10.0-\u003etf-models-official\u003e=2.9.2-\u003edeepconsensus==1.0.0) (1.3.1)\n",
            "Requirement already satisfied: importlib-metadata\u003e=4.4 in /usr/local/lib/python3.7/dist-packages (from markdown\u003e=2.6.8-\u003etensorboard\u003c2.11,\u003e=2.10-\u003etensorflow~=2.10.0-\u003etf-models-official\u003e=2.9.2-\u003edeepconsensus==1.0.0) (5.0.0)\n",
            "Requirement already satisfied: oauthlib\u003e=3.0.0 in /usr/local/lib/python3.7/dist-packages (from requests-oauthlib\u003e=0.7.0-\u003egoogle-auth-oauthlib\u003c0.5,\u003e=0.4.1-\u003etensorboard\u003c2.11,\u003e=2.10-\u003etensorflow~=2.10.0-\u003etf-models-official\u003e=2.9.2-\u003edeepconsensus==1.0.0) (3.2.1)\n",
            "Building wheels for collected packages: ml-collections, py-cpuinfo, seqeval\n",
            "  Building wheel for ml-collections (setup.py) ... \u001b[?25l\u001b[?25hdone\n",
            "  Created wheel for ml-collections: filename=ml_collections-0.1.1-py3-none-any.whl size=94506 sha256=2cc00bc910b511b4d7e4dc7165d002c7027526cf62c1cb4673b61e9b6af05082\n",
            "  Stored in directory: /root/.cache/pip/wheels/b7/da/64/33c926a1b10ff19791081b705879561b715a8341a856a3bbd2\n",
            "  Building wheel for py-cpuinfo (setup.py) ... \u001b[?25l\u001b[?25hdone\n",
            "  Created wheel for py-cpuinfo: filename=py_cpuinfo-8.0.0-py3-none-any.whl size=22243 sha256=8cca3040b8fb4e8e828a74c54d4be6c5a3ebd5370517c36db1e4c938d743a769\n",
            "  Stored in directory: /root/.cache/pip/wheels/d2/f1/1f/041add21dc9c4220157f1bd2bd6afe1f1a49524c3396b94401\n",
            "  Building wheel for seqeval (setup.py) ... \u001b[?25l\u001b[?25hdone\n",
            "  Created wheel for seqeval: filename=seqeval-1.2.2-py3-none-any.whl size=16165 sha256=88865d36c93097a602cb9c4ece7f1e7cb764abcbf1c6fe1797ef18ae2ee0fead\n",
            "  Stored in directory: /root/.cache/pip/wheels/05/96/ee/7cac4e74f3b19e3158dce26a20a1c86b3533c43ec72a549fd7\n",
            "Successfully built ml-collections py-cpuinfo seqeval\n",
            "Installing collected packages: sentencepiece, pysam, py-cpuinfo, keras, tf-slim, tensorflow-model-optimization, tensorflow-estimator, PyYAML, portalocker, opencv-python-headless, immutabledict, gast, colorama, tensorflow-addons, sacrebleu, ml-collections, seqeval, tensorboard, tensorflow, tensorflow-text, tf-models-official, deepconsensus\n",
            "  Attempting uninstall: keras\n",
            "    Found existing installation: keras 2.8.0\n",
            "    Uninstalling keras-2.8.0:\n",
            "      Successfully uninstalled keras-2.8.0\n",
            "  Attempting uninstall: tensorflow-estimator\n",
            "    Found existing installation: tensorflow-estimator 2.8.0\n",
            "    Uninstalling tensorflow-estimator-2.8.0:\n",
            "      Successfully uninstalled tensorflow-estimator-2.8.0\n",
            "  Attempting uninstall: PyYAML\n",
            "    Found existing installation: PyYAML 6.0\n",
            "    Uninstalling PyYAML-6.0:\n",
            "      Successfully uninstalled PyYAML-6.0\n",
            "  Attempting uninstall: opencv-python-headless\n",
            "    Found existing installation: opencv-python-headless 4.6.0.66\n",
            "    Uninstalling opencv-python-headless-4.6.0.66:\n",
            "      Successfully uninstalled opencv-python-headless-4.6.0.66\n",
            "  Attempting uninstall: gast\n",
            "    Found existing installation: gast 0.5.3\n",
            "    Uninstalling gast-0.5.3:\n",
            "      Successfully uninstalled gast-0.5.3\n",
            "  Attempting uninstall: tensorboard\n",
            "    Found existing installation: tensorboard 2.8.0\n",
            "    Uninstalling tensorboard-2.8.0:\n",
            "      Successfully uninstalled tensorboard-2.8.0\n",
            "  Attempting uninstall: tensorflow\n",
            "    Found existing installation: tensorflow 2.8.2+zzzcolab20220929150707\n",
            "    Uninstalling tensorflow-2.8.2+zzzcolab20220929150707:\n",
            "      Successfully uninstalled tensorflow-2.8.2+zzzcolab20220929150707\n",
            "Successfully installed PyYAML-5.4.1 colorama-0.4.5 deepconsensus-1.0.0 gast-0.4.0 immutabledict-2.2.1 keras-2.10.0 ml-collections-0.1.1 opencv-python-headless-4.5.2.52 portalocker-2.5.1 py-cpuinfo-8.0.0 pysam-0.19.1 sacrebleu-2.2.0 sentencepiece-0.1.97 seqeval-1.2.2 tensorboard-2.10.1 tensorflow-2.10.0 tensorflow-addons-0.18.0 tensorflow-estimator-2.10.0 tensorflow-model-optimization-0.7.3 tensorflow-text-2.10.0 tf-models-official-2.10.0 tf-slim-1.1.0\n",
            "\u001b[33mWARNING: Running pip as the 'root' user can result in broken permissions and conflicting behaviour with the system package manager. It is recommended to use a virtual environment instead: https://pip.pypa.io/warnings/venv\u001b[0m\u001b[33m\n",
            "\u001b[0m"
          ]
        }
      ],
      "source": [
        "! pip install --upgrade pip setuptools wheel\n",
        "! pip install deepconsensus[cpu]==1.0.0"
      ]
    },
    {
      "cell_type": "code",
      "execution_count": null,
      "metadata": {
        "id": "-8acrGN0gO3r"
      },
      "outputs": [],
      "source": [
        "import tensorflow as tf\n",
        "import colorama\n",
        "import numpy as np\n",
        "import random\n",
        "import PIL\n",
        "from IPython.display import display\n",
        "from deepconsensus.models import model_configs\n",
        "from deepconsensus.models import model_utils\n",
        "from deepconsensus.models import data_providers\n",
        "from deepconsensus.utils import dc_constants"
      ]
    },
    {
      "cell_type": "markdown",
      "metadata": {
        "id": "JeEhJhdjz-L9"
      },
      "source": [
        "## Define some useful visualization utilities"
      ]
    },
    {
      "cell_type": "code",
      "execution_count": null,
      "metadata": {
        "id": "eaNmK2KvDQu4"
      },
      "outputs": [],
      "source": [
        "def plot_array(arr, scale = 5):\n",
        "  \"\"\"Transforms array for plotting.\"\"\"\n",
        "  arr = np.copy(arr).astype('float64')\n",
        "  arr = np.where(arr \u003e 1.0e-10, arr, -10.0)\n",
        "  arr = np.log(arr, where=arr \u003e 0.0, out=arr) * 100.0\n",
        "  arr = np.where(arr \u003e 0, arr + 25.0, 0)\n",
        "  arr = arr.astype('uint8')\n",
        "  im = PIL.Image.fromarray(arr, 'P')\n",
        "  im = im.resize((im.size[0] * scale, im.size[1] * scale))\n",
        "  display(im)\n",
        "\n",
        "def show_rows_for_one_example(rows, max_passes=20):\n",
        "  \"\"\"Break out the black/white matrix into subreads, ccs, PW, IP, etc.\n",
        "\n",
        "  For each of `max_subreads`, we have four pieces of information: bases, PW, IP,\n",
        "  and strand. We also have one row for CCS, and four rows for SN (in that\n",
        "  order).\n",
        "  The information is structured as follows:\n",
        "  Bases: rows 0 to  (params.max_passes - 1)\n",
        "  PW: rows (params.max_passes) to (params.max_passes * 2 - 1)\n",
        "  IP: rows (params.max_passes * 2) to (params.max_passes * 3 - 1)\n",
        "  Strand: rows (params.max_passes * 3) to (params.max_passes * 4 - 1)\n",
        "  CCS+SN: rows (params.max_passes * 4) to (params.max_passes * 4 + 5)\n",
        "  \"\"\"\n",
        "  print('bases:')\n",
        "  plot_array(rows[0:max_passes])\n",
        "  print('PW: pulse-width')\n",
        "  pw = rows[max_passes:max_passes*2]\n",
        "  plot_array(pw)\n",
        "  print('IP: inter-pulse duration')\n",
        "  ip = rows[max_passes*2:max_passes*3]\n",
        "  plot_array(ip)\n",
        "\n",
        "  print('Strand:')\n",
        "  plot_array(rows[max_passes*3:-5])\n",
        "\n",
        "  print('CCS:')\n",
        "  ccs = rows[-5:-4]\n",
        "  plot_array(ccs)\n",
        "  print('SN:')\n",
        "  sn = rows[-4:]\n",
        "  plot_array(sn)"
      ]
    },
    {
      "cell_type": "code",
      "execution_count": null,
      "metadata": {
        "id": "I6JvBvGDz__7"
      },
      "outputs": [],
      "source": [
        "def encoded_sequence_to_string(encoded_sequence):\n",
        "  \"\"\"Convert an encoded sequence (a series of integers) to a DNA string.\"\"\"\n",
        "  return ''.join([dc_constants.VOCAB[int(base)] for base in encoded_sequence])\n",
        "\n",
        "\n",
        "def get_ccs_matrix(rows_for_one_example):\n",
        "  \"\"\"Slice the encoded CCS out of the 2d rows matrix of one example.\"\"\"\n",
        "  return rows_for_one_example[-5, :]\n",
        "\n",
        "\n",
        "def get_ccs_seq(rows_for_one_example):\n",
        "  \"\"\"Get CCS string out of the 2d rows matrix of one example.\"\"\"\n",
        "  return encoded_sequence_to_string(get_ccs_matrix(rows_for_one_example))\n",
        "\n",
        "\n",
        "def colorful(seq):\n",
        "  \"\"\"Add colors to a sequence of DNA.\"\"\"\n",
        "  fore = colorama.Fore\n",
        "  background = colorama.Back\n",
        "  colors = {\n",
        "      'A': fore.GREEN,\n",
        "      'C': fore.BLUE,\n",
        "      'G': fore.YELLOW,\n",
        "      'T': fore.RED,\n",
        "      dc_constants.GAP: background.WHITE\n",
        "  }\n",
        "  reset = fore.BLACK + background.RESET\n",
        "  colored_seq = [f'{colors.get(base, reset)}{base}{reset}' for base in seq]\n",
        "  return ''.join(colored_seq)\n",
        "\n",
        "\n",
        "def show_example(batch, example_i, ypreds=None, max_passes=20):\n",
        "  \"\"\"Show an example with subreads, ccs, predictions, and labels.\"\"\"\n",
        "  batch_size = batch['rows'].shape[0]\n",
        "  rows = batch['rows'][example_i, :, :, 0]\n",
        "  ccs_i = get_ccs_seq(rows)\n",
        "  print(f'Example: {example_i} of {batch_size} (batch)')\n",
        "  print('How the sequences are represented for the model:')\n",
        "  subreads = rows[0:max_passes, :]\n",
        "  for subread_i in range(len(subreads)):\n",
        "    print(f'Subread {subread_i + 1}\\t',\n",
        "          colorful(encoded_sequence_to_string(subreads[subread_i, :])))\n",
        "  print('ccs:\\t\\t', colorful(ccs_i))\n",
        "  if ypreds is not None:\n",
        "    predicted_sequence = encoded_sequence_to_string(ypreds[example_i])\n",
        "    print('prediction:\\t', colorful(predicted_sequence))\n",
        "  if 'label' in batch:\n",
        "    label = encoded_sequence_to_string(batch['label'][example_i])\n",
        "    print('label:\\t\\t', colorful(label))\n",
        "  print('\\n')\n"
      ]
    },
    {
      "cell_type": "markdown",
      "metadata": {
        "id": "9ud2PAKoRkPQ"
      },
      "source": [
        "## Load the model"
      ]
    },
    {
      "cell_type": "code",
      "execution_count": null,
      "metadata": {
        "colab": {
          "base_uri": "https://localhost:8080/"
        },
        "executionInfo": {
          "elapsed": 8117,
          "status": "ok",
          "timestamp": 1665073217204,
          "user": {
            "displayName": "Daniel Cook",
            "userId": "04506954740237116110"
          },
          "user_tz": 420
        },
        "id": "qSChLKTvJbbT",
        "outputId": "e674f6f8-b963-424b-80ae-1274a61c60b2"
      },
      "outputs": [
        {
          "name": "stdout",
          "output_type": "stream",
          "text": [
            "Copying gs://brain-genomics-public/research/deepconsensus/models/v1.0/model_checkpoint/checkpoint.data-00000-of-00001...\n",
            "Copying gs://brain-genomics-public/research/deepconsensus/models/v1.0/model_checkpoint/checkpoint.index...\n",
            "Copying gs://brain-genomics-public/research/deepconsensus/models/v1.0/model_checkpoint/params.json...\n",
            "| [3 files][ 85.7 MiB/ 85.7 MiB]                                                \n",
            "Operation completed over 3 objects/85.7 MiB.                                     \n",
            "Copying gs://brain-genomics-public/research/deepconsensus/training-tutorial/v1.0/test/tf-test-00001-of-00002.tfrecord.gz...\n",
            "/ [1 files][  6.9 MiB/  6.9 MiB]                                                \n",
            "Operation completed over 1 objects/6.9 MiB.                                      \n"
          ]
        }
      ],
      "source": [
        "# Download Model\n",
        "! mkdir -p deepconsensus_model\n",
        "! gsutil cp -r gs://brain-genomics-public/research/deepconsensus/models/v1.0/model_checkpoint/* deepconsensus_model/\n",
        "# Download test data\n",
        "! gsutil cp gs://brain-genomics-public/research/deepconsensus/training-tutorial/v1.0/test/tf-test-00001-of-00002.tfrecord.gz ./tf-test.tfrecord.gz"
      ]
    },
    {
      "cell_type": "code",
      "execution_count": null,
      "metadata": {
        "colab": {
          "base_uri": "https://localhost:8080/"
        },
        "executionInfo": {
          "elapsed": 1422,
          "status": "ok",
          "timestamp": 1665071947761,
          "user": {
            "displayName": "Daniel Cook",
            "userId": "04506954740237116110"
          },
          "user_tz": 420
        },
        "id": "4j-SQrmrKOeB",
        "outputId": "b04ae942-03d2-452a-a297-9ac61061b2f0"
      },
      "outputs": [
        {
          "name": "stdout",
          "output_type": "stream",
          "text": [
            "Model: \"encoder_only_learned_values_transformer\"\n",
            "_________________________________________________________________\n",
            " Layer (type)                Output Shape              Param #   \n",
            "=================================================================\n",
            " relative_position_embedding  multiple                 0         \n",
            "  (RelativePositionEmbedding                                     \n",
            " )                                                               \n",
            "                                                                 \n",
            " encoder_stack (EncoderStack  multiple                 7320200   \n",
            " )                                                               \n",
            "                                                                 \n",
            " dense (Dense)               multiple                  1405      \n",
            "                                                                 \n",
            " softmax (Softmax)           multiple                  0         \n",
            "                                                                 \n",
            " bases_embedding (ModifiedOn  multiple                 40        \n",
            " DeviceEmbedding)                                                \n",
            "                                                                 \n",
            " pw_embedding (ModifiedOnDev  multiple                 2048      \n",
            " iceEmbedding)                                                   \n",
            "                                                                 \n",
            " ip_embedding (ModifiedOnDev  multiple                 2048      \n",
            " iceEmbedding)                                                   \n",
            "                                                                 \n",
            " sn_embedding (ModifiedOnDev  multiple                 4008      \n",
            " iceEmbedding)                                                   \n",
            "                                                                 \n",
            " strand_embedding (ModifiedO  multiple                 6         \n",
            " nDeviceEmbedding)                                               \n",
            "                                                                 \n",
            " dense_1 (Dense)             multiple                  156800    \n",
            "                                                                 \n",
            "=================================================================\n",
            "Total params: 7,486,555\n",
            "Trainable params: 7,486,555\n",
            "Non-trainable params: 0\n",
            "_________________________________________________________________\n"
          ]
        }
      ],
      "source": [
        "checkpoint_path = 'deepconsensus_model/checkpoint'\n",
        "params = model_utils.read_params_from_json(checkpoint_path=checkpoint_path)\n",
        "\n",
        "model = model_utils.get_model(params)\n",
        "checkpoint = tf.train.Checkpoint(model=model)\n",
        "\n",
        "row_size = data_providers.get_total_rows(params.max_passes)\n",
        "input_shape = (1, row_size, params.max_length, params.num_channels)\n",
        "model_utils.print_model_summary(model, input_shape)\n",
        "checkpoint.restore(\n",
        "    checkpoint_path).expect_partial().assert_existing_objects_matched()\n",
        "\n",
        "model_utils.modify_params(\n",
        "  params=params,\n",
        "  speedy=True,\n",
        "  max_length=100,\n",
        "  is_training=False)"
      ]
    },
    {
      "cell_type": "markdown",
      "metadata": {
        "id": "q9l_un5cE7la"
      },
      "source": [
        "# Load examples from tfrecords"
      ]
    },
    {
      "cell_type": "code",
      "execution_count": null,
      "metadata": {
        "colab": {
          "base_uri": "https://localhost:8080/"
        },
        "executionInfo": {
          "elapsed": 2091,
          "status": "ok",
          "timestamp": 1665071952116,
          "user": {
            "displayName": "Daniel Cook",
            "userId": "04506954740237116110"
          },
          "user_tz": 420
        },
        "id": "5LofUAISLJCk",
        "outputId": "46340b40-4ed5-42a3-e44a-5ee62ba4f2e1"
      },
      "outputs": [
        {
          "name": "stdout",
          "output_type": "stream",
          "text": [
            "name.shape: (20, 1)\n",
            "label.shape: (20, 100)\n",
            "rows.shape: (20, 85, 100, 1)\n",
            "num_passes.shape: (20, 1)\n",
            "window_pos.shape: (20, 1)\n"
          ]
        }
      ],
      "source": [
        "tfrecord_path = 'tf-test.tfrecord.gz'\n",
        "\n",
        "# Number of examples:\n",
        "batch_size = 20  #@param\n",
        "\n",
        "ds = data_providers.get_dataset(tfrecord_path,\n",
        "                                num_epochs=None,\n",
        "                                batch_size=batch_size,\n",
        "                                params=params,\n",
        "                                inference=False)\n",
        "\n",
        "# Just get one batch to inspect:\n",
        "for batch in ds.take(1):\n",
        "  break\n",
        "\n",
        "keys = ['name', 'label', 'rows', 'num_passes', 'window_pos']\n",
        "for key in keys:\n",
        "  print(f'{key}.shape: {batch[key].shape}')"
      ]
    },
    {
      "cell_type": "markdown",
      "metadata": {
        "id": "PNQh8unFFBY3"
      },
      "source": [
        "## Visualize the rows of one example. This is what the model sees.\n",
        "\n",
        "Rows is of shape `[batch_size, input_size, length, 1]`.\n",
        "\n",
        "So when we take `rows[example_i,:,:,0]`, that is one example in the batch, and we get a 2D matrix (getting rid of the last dimension that was only a placeholder for model code)."
      ]
    },
    {
      "cell_type": "code",
      "execution_count": null,
      "metadata": {
        "colab": {
          "base_uri": "https://localhost:8080/",
          "height": 529
        },
        "executionInfo": {
          "elapsed": 205,
          "status": "ok",
          "timestamp": 1665072880725,
          "user": {
            "displayName": "Daniel Cook",
            "userId": "04506954740237116110"
          },
          "user_tz": 420
        },
        "id": "z_UtiU_a3K7b",
        "outputId": "0898e245-f202-4a0e-8f73-697a9373d0fd"
      },
      "outputs": [
        {
          "name": "stdout",
          "output_type": "stream",
          "text": [
            "Example: 9 of 20 (batch)\n",
            "ZMW: b'm64014_200920_132517/51315439/ccs'\n",
            "window_pos: 813 bp (where example starts within the CCS read)\n",
            "num_passes: 10 subreads\n",
            "What the model sees:\n"
          ]
        },
        {
          "data": {
            "image/png": "[encoded data removed]",
            "text/plain": [
              "\u003cPIL.Image.Image image mode=P size=500x425 at 0x7FCE17F1C5D0\u003e"
            ]
          },
          "metadata": {},
          "output_type": "display_data"
        }
      ],
      "source": [
        "example_i = int(random.random() * batch_size)\n",
        "\n",
        "print(f'Example: {example_i} of {batch_size} (batch)')\n",
        "print('ZMW:', batch['name'][example_i].numpy()[0])\n",
        "print('window_pos:', int(batch['window_pos'][example_i].numpy()), 'bp (where example starts within the CCS read)')\n",
        "print('num_passes:', int(batch['num_passes'][example_i]), 'subreads')\n",
        "print('What the model sees:')\n",
        "\n",
        "plot_array(batch['rows'][example_i,:,:,0].numpy())\n"
      ]
    },
    {
      "cell_type": "markdown",
      "metadata": {
        "id": "vwMpZP4EFKbF"
      },
      "source": [
        "### Let's break that down\n",
        "\n",
        "Each matrix is composed of multiple data types layered in rows. The bases, pulse-width, inter-pulse duration, and strand are per-subread, up to the max number of subreads (this is in params.max_passes, which as of DeepConsensus v0.3 is 20). The input also contains a draft circular consensus sequence (CCS) from PacBio and the signal-to-noise ratio (SN)."
      ]
    },
    {
      "cell_type": "code",
      "execution_count": null,
      "metadata": {
        "colab": {
          "base_uri": "https://localhost:8080/",
          "height": 576
        },
        "executionInfo": {
          "elapsed": 220,
          "status": "ok",
          "timestamp": 1665072882855,
          "user": {
            "displayName": "Daniel Cook",
            "userId": "04506954740237116110"
          },
          "user_tz": 420
        },
        "id": "o_n_pl8N6kmL",
        "outputId": "2146e638-16de-4c84-d045-43cd16602f28"
      },
      "outputs": [
        {
          "name": "stdout",
          "output_type": "stream",
          "text": [
            "Example: 9 of 20 (batch)\n",
            "bases:\n"
          ]
        },
        {
          "data": {
            "image/png": "[encoded data removed]",
            "text/plain": [
              "\u003cPIL.Image.Image image mode=P size=500x100 at 0x7FCE19B50510\u003e"
            ]
          },
          "metadata": {},
          "output_type": "display_data"
        },
        {
          "name": "stdout",
          "output_type": "stream",
          "text": [
            "PW: pulse-width\n"
          ]
        },
        {
          "data": {
            "image/png": "[encoded data removed]",
            "text/plain": [
              "\u003cPIL.Image.Image image mode=P size=500x100 at 0x7FCE17EC21D0\u003e"
            ]
          },
          "metadata": {},
          "output_type": "display_data"
        },
        {
          "name": "stdout",
          "output_type": "stream",
          "text": [
            "IP: inter-pulse duration\n"
          ]
        },
        {
          "data": {
            "image/png": "[encoded data removed]",
            "text/plain": [
              "\u003cPIL.Image.Image image mode=P size=500x100 at 0x7FCE17FE8510\u003e"
            ]
          },
          "metadata": {},
          "output_type": "display_data"
        },
        {
          "name": "stdout",
          "output_type": "stream",
          "text": [
            "Strand:\n"
          ]
        },
        {
          "data": {
            "image/png": "[encoded data removed]",
            "text/plain": [
              "\u003cPIL.Image.Image image mode=P size=500x100 at 0x7FCE17FE83D0\u003e"
            ]
          },
          "metadata": {},
          "output_type": "display_data"
        },
        {
          "name": "stdout",
          "output_type": "stream",
          "text": [
            "CCS:\n"
          ]
        },
        {
          "data": {
            "image/png": "[encoded data removed]",
            "text/plain": [
              "\u003cPIL.Image.Image image mode=P size=500x5 at 0x7FCE17FE8290\u003e"
            ]
          },
          "metadata": {},
          "output_type": "display_data"
        },
        {
          "name": "stdout",
          "output_type": "stream",
          "text": [
            "SN:\n"
          ]
        },
        {
          "data": {
            "image/png": "[encoded data removed]",
            "text/plain": [
              "\u003cPIL.Image.Image image mode=P size=500x20 at 0x7FCE17EC2890\u003e"
            ]
          },
          "metadata": {},
          "output_type": "display_data"
        }
      ],
      "source": [
        "print(f'Example: {example_i} of {batch_size} (batch)')\n",
        "show_rows_for_one_example(rows=batch['rows'][example_i,:,:,0].numpy())"
      ]
    },
    {
      "cell_type": "markdown",
      "metadata": {
        "id": "E1bfS54qJmKS"
      },
      "source": [
        "# Run the model\n",
        "\n",
        "Run the model on `rows`, which is the input data for the model that we visualized above."
      ]
    },
    {
      "cell_type": "code",
      "execution_count": null,
      "metadata": {
        "colab": {
          "base_uri": "https://localhost:8080/"
        },
        "executionInfo": {
          "elapsed": 2823,
          "status": "ok",
          "timestamp": 1665072894719,
          "user": {
            "displayName": "Daniel Cook",
            "userId": "04506954740237116110"
          },
          "user_tz": 420
        },
        "id": "PhZ9e3c4Ev_q",
        "outputId": "fe0a2dc8-e1e9-4dd1-e0ab-a8c4eefb6314"
      },
      "outputs": [
        {
          "name": "stdout",
          "output_type": "stream",
          "text": [
            "(20, 100, 5)\n"
          ]
        }
      ],
      "source": [
        "softmax_output = model.predict(batch['rows'])\n",
        "print(softmax_output.shape)"
      ]
    },
    {
      "cell_type": "code",
      "execution_count": null,
      "metadata": {
        "colab": {
          "base_uri": "https://localhost:8080/"
        },
        "executionInfo": {
          "elapsed": 3,
          "status": "ok",
          "timestamp": 1665072894719,
          "user": {
            "displayName": "Daniel Cook",
            "userId": "04506954740237116110"
          },
          "user_tz": 420
        },
        "id": "1fUdN5Qk4BqR",
        "outputId": "a010d7e6-ef7f-4fa3-d2fc-c1a84437d0c2"
      },
      "outputs": [
        {
          "name": "stdout",
          "output_type": "stream",
          "text": [
            "(20, 100)\n"
          ]
        }
      ],
      "source": [
        "y_preds = np.argmax(softmax_output, -1)\n",
        "print(y_preds.shape)"
      ]
    },
    {
      "cell_type": "markdown",
      "metadata": {
        "id": "ubbKa3ohHnNU"
      },
      "source": [
        "### Interpreting y_preds output"
      ]
    },
    {
      "cell_type": "code",
      "execution_count": null,
      "metadata": {
        "colab": {
          "base_uri": "https://localhost:8080/"
        },
        "executionInfo": {
          "elapsed": 2,
          "status": "ok",
          "timestamp": 1665072894914,
          "user": {
            "displayName": "Daniel Cook",
            "userId": "04506954740237116110"
          },
          "user_tz": 420
        },
        "id": "Ccsv4-2tGY_B",
        "outputId": "1fd659b5-1be8-4cdc-d36b-ce61b756b6f8"
      },
      "outputs": [
        {
          "name": "stdout",
          "output_type": "stream",
          "text": [
            "Prediction for example 9:\n",
            "[2 2 2 2 4 3 2 3 2 0 2 2 2 4 0 4 0 2 2 2 4 0 0 0 2 2 2 2 2 2 1 1 0 2 2 3 3\n",
            " 0 1 0 2 3 2 3 3 2 3 2 4 4 0 2 0 4 4 3 2 1 1 1 1 4 1 2 2 1 2 2 1 1 2 1 0 2\n",
            " 1 1 0 0 2 0 2 3 0 2 2 2 2 0 2 3 0 2 2 2 0 3 0 1 3 1]\n",
            "Which translates to:\n",
            "TTTTGCTCT TTTG G TTTG   TTTTTTAA TTCC A TCTCCTCTGG T GGCTAAAAGATTATTAATA TAA  T TC TTTT TC TTT C ACA\n"
          ]
        }
      ],
      "source": [
        "prediction = y_preds[example_i]\n",
        "print(f'Prediction for example {example_i}:')\n",
        "print(prediction)\n",
        "print('Which translates to:')\n",
        "print(encoded_sequence_to_string(prediction))"
      ]
    },
    {
      "cell_type": "code",
      "execution_count": null,
      "metadata": {
        "colab": {
          "base_uri": "https://localhost:8080/"
        },
        "executionInfo": {
          "elapsed": 2,
          "status": "ok",
          "timestamp": 1665072895747,
          "user": {
            "displayName": "Daniel Cook",
            "userId": "04506954740237116110"
          },
          "user_tz": 420
        },
        "id": "aev-USdKHido",
        "outputId": "418946c0-7e77-42c8-f9bf-f9c2738ee2b9"
      },
      "outputs": [
        {
          "name": "stdout",
          "output_type": "stream",
          "text": [
            "For reference, the alphabet is:\n",
            "0 -\u003e \" \"\n",
            "1 -\u003e \"A\"\n",
            "2 -\u003e \"T\"\n",
            "3 -\u003e \"C\"\n",
            "4 -\u003e \"G\"\n"
          ]
        }
      ],
      "source": [
        "print('For reference, the alphabet is:')\n",
        "print('\\n'.join([f'{i} -\u003e \"{s}\"' for i,s in enumerate(dc_constants.VOCAB)]))"
      ]
    },
    {
      "cell_type": "markdown",
      "metadata": {
        "id": "-h8WSfZ1xNB8"
      },
      "source": [
        "# Visualize example sequences alongside prediction and label"
      ]
    },
    {
      "cell_type": "code",
      "execution_count": null,
      "metadata": {
        "colab": {
          "base_uri": "https://localhost:8080/"
        },
        "executionInfo": {
          "elapsed": 1021,
          "status": "ok",
          "timestamp": 1665072897882,
          "user": {
            "displayName": "Daniel Cook",
            "userId": "04506954740237116110"
          },
          "user_tz": 420
        },
        "id": "575Hy7n-xTZS",
        "outputId": "13423983-7488-4c16-f446-3c7b7b8dffed"
      },
      "outputs": [
        {
          "name": "stdout",
          "output_type": "stream",
          "text": [
            "Example: 9 of 20 (batch)\n",
            "How the sequences are represented for the model:\n",
            "Subread 1\t \u001b[31mT\u001b[30m\u001b[49m\u001b[31mT\u001b[30m\u001b[49m\u001b[31mT\u001b[30m\u001b[49m\u001b[31mT\u001b[30m\u001b[49m\u001b[33mG\u001b[30m\u001b[49m\u001b[34mC\u001b[30m\u001b[49m\u001b[31mT\u001b[30m\u001b[49m\u001b[34mC\u001b[30m\u001b[49m\u001b[31mT\u001b[30m\u001b[49m\u001b[47m \u001b[30m\u001b[49m\u001b[31mT\u001b[30m\u001b[49m\u001b[31mT\u001b[30m\u001b[49m\u001b[31mT\u001b[30m\u001b[49m\u001b[33mG\u001b[30m\u001b[49m\u001b[31mT\u001b[30m\u001b[49m\u001b[33mG\u001b[30m\u001b[49m\u001b[47m \u001b[30m\u001b[49m\u001b[31mT\u001b[30m\u001b[49m\u001b[31mT\u001b[30m\u001b[49m\u001b[31mT\u001b[30m\u001b[49m\u001b[33mG\u001b[30m\u001b[49m\u001b[47m \u001b[30m\u001b[49m\u001b[47m \u001b[30m\u001b[49m\u001b[47m \u001b[30m\u001b[49m\u001b[47m \u001b[30m\u001b[49m\u001b[47m \u001b[30m\u001b[49m\u001b[31mT\u001b[30m\u001b[49m\u001b[31mT\u001b[30m\u001b[49m\u001b[31mT\u001b[30m\u001b[49m\u001b[31mT\u001b[30m\u001b[49m\u001b[32mA\u001b[30m\u001b[49m\u001b[32mA\u001b[30m\u001b[49m\u001b[47m \u001b[30m\u001b[49m\u001b[31mT\u001b[30m\u001b[49m\u001b[31mT\u001b[30m\u001b[49m\u001b[34mC\u001b[30m\u001b[49m\u001b[34mC\u001b[30m\u001b[49m\u001b[32mA\u001b[30m\u001b[49m\u001b[32mA\u001b[30m\u001b[49m\u001b[47m \u001b[30m\u001b[49m\u001b[31mT\u001b[30m\u001b[49m\u001b[34mC\u001b[30m\u001b[49m\u001b[31mT\u001b[30m\u001b[49m\u001b[34mC\u001b[30m\u001b[49m\u001b[34mC\u001b[30m\u001b[49m\u001b[31mT\u001b[30m\u001b[49m\u001b[34mC\u001b[30m\u001b[49m\u001b[31mT\u001b[30m\u001b[49m\u001b[33mG\u001b[30m\u001b[49m\u001b[33mG\u001b[30m\u001b[49m\u001b[47m \u001b[30m\u001b[49m\u001b[31mT\u001b[30m\u001b[49m\u001b[47m \u001b[30m\u001b[49m\u001b[33mG\u001b[30m\u001b[49m\u001b[33mG\u001b[30m\u001b[49m\u001b[34mC\u001b[30m\u001b[49m\u001b[31mT\u001b[30m\u001b[49m\u001b[32mA\u001b[30m\u001b[49m\u001b[32mA\u001b[30m\u001b[49m\u001b[32mA\u001b[30m\u001b[49m\u001b[32mA\u001b[30m\u001b[49m\u001b[33mG\u001b[30m\u001b[49m\u001b[32mA\u001b[30m\u001b[49m\u001b[47m \u001b[30m\u001b[49m\u001b[31mT\u001b[30m\u001b[49m\u001b[32mA\u001b[30m\u001b[49m\u001b[31mT\u001b[30m\u001b[49m\u001b[31mT\u001b[30m\u001b[49m\u001b[32mA\u001b[30m\u001b[49m\u001b[32mA\u001b[30m\u001b[49m\u001b[31mT\u001b[30m\u001b[49m\u001b[47m \u001b[30m\u001b[49m\u001b[47m \u001b[30m\u001b[49m\u001b[31mT\u001b[30m\u001b[49m\u001b[32mA\u001b[30m\u001b[49m\u001b[32mA\u001b[30m\u001b[49m\u001b[47m \u001b[30m\u001b[49m\u001b[47m \u001b[30m\u001b[49m\u001b[31mT\u001b[30m\u001b[49m\u001b[47m \u001b[30m\u001b[49m\u001b[31mT\u001b[30m\u001b[49m\u001b[34mC\u001b[30m\u001b[49m\u001b[47m \u001b[30m\u001b[49m\u001b[31mT\u001b[30m\u001b[49m\u001b[31mT\u001b[30m\u001b[49m\u001b[31mT\u001b[30m\u001b[49m\u001b[31mT\u001b[30m\u001b[49m\u001b[47m \u001b[30m\u001b[49m\u001b[31mT\u001b[30m\u001b[49m\u001b[34mC\u001b[30m\u001b[49m\u001b[31mT\u001b[30m\u001b[49m\u001b[31mT\u001b[30m\u001b[49m\u001b[31mT\u001b[30m\u001b[49m\u001b[31mT\u001b[30m\u001b[49m\u001b[47m \u001b[30m\u001b[49m\u001b[34mC\u001b[30m\u001b[49m\u001b[47m \u001b[30m\u001b[49m\u001b[32mA\u001b[30m\u001b[49m\u001b[34mC\u001b[30m\u001b[49m\u001b[32mA\u001b[30m\u001b[49m\n",
            "Subread 2\t \u001b[31mT\u001b[30m\u001b[49m\u001b[31mT\u001b[30m\u001b[49m\u001b[31mT\u001b[30m\u001b[49m\u001b[31mT\u001b[30m\u001b[49m\u001b[33mG\u001b[30m\u001b[49m\u001b[34mC\u001b[30m\u001b[49m\u001b[31mT\u001b[30m\u001b[49m\u001b[34mC\u001b[30m\u001b[49m\u001b[31mT\u001b[30m\u001b[49m\u001b[33mG\u001b[30m\u001b[49m\u001b[31mT\u001b[30m\u001b[49m\u001b[31mT\u001b[30m\u001b[49m\u001b[31mT\u001b[30m\u001b[49m\u001b[33mG\u001b[30m\u001b[49m\u001b[47m \u001b[30m\u001b[49m\u001b[33mG\u001b[30m\u001b[49m\u001b[47m \u001b[30m\u001b[49m\u001b[31mT\u001b[30m\u001b[49m\u001b[31mT\u001b[30m\u001b[49m\u001b[31mT\u001b[30m\u001b[49m\u001b[33mG\u001b[30m\u001b[49m\u001b[47m \u001b[30m\u001b[49m\u001b[47m \u001b[30m\u001b[49m\u001b[47m \u001b[30m\u001b[49m\u001b[31mT\u001b[30m\u001b[49m\u001b[31mT\u001b[30m\u001b[49m\u001b[31mT\u001b[30m\u001b[49m\u001b[31mT\u001b[30m\u001b[49m\u001b[31mT\u001b[30m\u001b[49m\u001b[31mT\u001b[30m\u001b[49m\u001b[32mA\u001b[30m\u001b[49m\u001b[32mA\u001b[30m\u001b[49m\u001b[47m \u001b[30m\u001b[49m\u001b[31mT\u001b[30m\u001b[49m\u001b[31mT\u001b[30m\u001b[49m\u001b[34mC\u001b[30m\u001b[49m\u001b[34mC\u001b[30m\u001b[49m\u001b[47m \u001b[30m\u001b[49m\u001b[32mA\u001b[30m\u001b[49m\u001b[34mC\u001b[30m\u001b[49m\u001b[31mT\u001b[30m\u001b[49m\u001b[34mC\u001b[30m\u001b[49m\u001b[31mT\u001b[30m\u001b[49m\u001b[34mC\u001b[30m\u001b[49m\u001b[34mC\u001b[30m\u001b[49m\u001b[31mT\u001b[30m\u001b[49m\u001b[34mC\u001b[30m\u001b[49m\u001b[31mT\u001b[30m\u001b[49m\u001b[47m \u001b[30m\u001b[49m\u001b[33mG\u001b[30m\u001b[49m\u001b[47m \u001b[30m\u001b[49m\u001b[31mT\u001b[30m\u001b[49m\u001b[47m \u001b[30m\u001b[49m\u001b[33mG\u001b[30m\u001b[49m\u001b[33mG\u001b[30m\u001b[49m\u001b[34mC\u001b[30m\u001b[49m\u001b[31mT\u001b[30m\u001b[49m\u001b[32mA\u001b[30m\u001b[49m\u001b[32mA\u001b[30m\u001b[49m\u001b[32mA\u001b[30m\u001b[49m\u001b[32mA\u001b[30m\u001b[49m\u001b[33mG\u001b[30m\u001b[49m\u001b[32mA\u001b[30m\u001b[49m\u001b[31mT\u001b[30m\u001b[49m\u001b[31mT\u001b[30m\u001b[49m\u001b[32mA\u001b[30m\u001b[49m\u001b[47m \u001b[30m\u001b[49m\u001b[31mT\u001b[30m\u001b[49m\u001b[32mA\u001b[30m\u001b[49m\u001b[32mA\u001b[30m\u001b[49m\u001b[31mT\u001b[30m\u001b[49m\u001b[32mA\u001b[30m\u001b[49m\u001b[47m \u001b[30m\u001b[49m\u001b[31mT\u001b[30m\u001b[49m\u001b[32mA\u001b[30m\u001b[49m\u001b[32mA\u001b[30m\u001b[49m\u001b[47m \u001b[30m\u001b[49m\u001b[47m \u001b[30m\u001b[49m\u001b[31mT\u001b[30m\u001b[49m\u001b[47m \u001b[30m\u001b[49m\u001b[31mT\u001b[30m\u001b[49m\u001b[34mC\u001b[30m\u001b[49m\u001b[47m \u001b[30m\u001b[49m\u001b[47m \u001b[30m\u001b[49m\u001b[31mT\u001b[30m\u001b[49m\u001b[31mT\u001b[30m\u001b[49m\u001b[31mT\u001b[30m\u001b[49m\u001b[47m \u001b[30m\u001b[49m\u001b[31mT\u001b[30m\u001b[49m\u001b[34mC\u001b[30m\u001b[49m\u001b[47m \u001b[30m\u001b[49m\u001b[31mT\u001b[30m\u001b[49m\u001b[31mT\u001b[30m\u001b[49m\u001b[31mT\u001b[30m\u001b[49m\u001b[47m \u001b[30m\u001b[49m\u001b[34mC\u001b[30m\u001b[49m\u001b[47m \u001b[30m\u001b[49m\u001b[32mA\u001b[30m\u001b[49m\u001b[34mC\u001b[30m\u001b[49m\u001b[32mA\u001b[30m\u001b[49m\n",
            "Subread 3\t \u001b[31mT\u001b[30m\u001b[49m\u001b[31mT\u001b[30m\u001b[49m\u001b[31mT\u001b[30m\u001b[49m\u001b[31mT\u001b[30m\u001b[49m\u001b[33mG\u001b[30m\u001b[49m\u001b[34mC\u001b[30m\u001b[49m\u001b[31mT\u001b[30m\u001b[49m\u001b[34mC\u001b[30m\u001b[49m\u001b[31mT\u001b[30m\u001b[49m\u001b[47m \u001b[30m\u001b[49m\u001b[31mT\u001b[30m\u001b[49m\u001b[31mT\u001b[30m\u001b[49m\u001b[31mT\u001b[30m\u001b[49m\u001b[33mG\u001b[30m\u001b[49m\u001b[47m \u001b[30m\u001b[49m\u001b[33mG\u001b[30m\u001b[49m\u001b[31mT\u001b[30m\u001b[49m\u001b[31mT\u001b[30m\u001b[49m\u001b[31mT\u001b[30m\u001b[49m\u001b[31mT\u001b[30m\u001b[49m\u001b[33mG\u001b[30m\u001b[49m\u001b[47m \u001b[30m\u001b[49m\u001b[47m \u001b[30m\u001b[49m\u001b[47m \u001b[30m\u001b[49m\u001b[31mT\u001b[30m\u001b[49m\u001b[31mT\u001b[30m\u001b[49m\u001b[31mT\u001b[30m\u001b[49m\u001b[31mT\u001b[30m\u001b[49m\u001b[31mT\u001b[30m\u001b[49m\u001b[31mT\u001b[30m\u001b[49m\u001b[32mA\u001b[30m\u001b[49m\u001b[32mA\u001b[30m\u001b[49m\u001b[31mT\u001b[30m\u001b[49m\u001b[31mT\u001b[30m\u001b[49m\u001b[31mT\u001b[30m\u001b[49m\u001b[34mC\u001b[30m\u001b[49m\u001b[34mC\u001b[30m\u001b[49m\u001b[47m \u001b[30m\u001b[49m\u001b[32mA\u001b[30m\u001b[49m\u001b[47m \u001b[30m\u001b[49m\u001b[31mT\u001b[30m\u001b[49m\u001b[34mC\u001b[30m\u001b[49m\u001b[31mT\u001b[30m\u001b[49m\u001b[34mC\u001b[30m\u001b[49m\u001b[34mC\u001b[30m\u001b[49m\u001b[31mT\u001b[30m\u001b[49m\u001b[34mC\u001b[30m\u001b[49m\u001b[31mT\u001b[30m\u001b[49m\u001b[33mG\u001b[30m\u001b[49m\u001b[33mG\u001b[30m\u001b[49m\u001b[47m \u001b[30m\u001b[49m\u001b[31mT\u001b[30m\u001b[49m\u001b[33mG\u001b[30m\u001b[49m\u001b[33mG\u001b[30m\u001b[49m\u001b[33mG\u001b[30m\u001b[49m\u001b[34mC\u001b[30m\u001b[49m\u001b[31mT\u001b[30m\u001b[49m\u001b[32mA\u001b[30m\u001b[49m\u001b[32mA\u001b[30m\u001b[49m\u001b[32mA\u001b[30m\u001b[49m\u001b[32mA\u001b[30m\u001b[49m\u001b[33mG\u001b[30m\u001b[49m\u001b[32mA\u001b[30m\u001b[49m\u001b[31mT\u001b[30m\u001b[49m\u001b[31mT\u001b[30m\u001b[49m\u001b[32mA\u001b[30m\u001b[49m\u001b[31mT\u001b[30m\u001b[49m\u001b[31mT\u001b[30m\u001b[49m\u001b[32mA\u001b[30m\u001b[49m\u001b[32mA\u001b[30m\u001b[49m\u001b[31mT\u001b[30m\u001b[49m\u001b[32mA\u001b[30m\u001b[49m\u001b[47m \u001b[30m\u001b[49m\u001b[31mT\u001b[30m\u001b[49m\u001b[32mA\u001b[30m\u001b[49m\u001b[32mA\u001b[30m\u001b[49m\u001b[47m \u001b[30m\u001b[49m\u001b[47m \u001b[30m\u001b[49m\u001b[31mT\u001b[30m\u001b[49m\u001b[47m \u001b[30m\u001b[49m\u001b[31mT\u001b[30m\u001b[49m\u001b[34mC\u001b[30m\u001b[49m\u001b[31mT\u001b[30m\u001b[49m\u001b[31mT\u001b[30m\u001b[49m\u001b[31mT\u001b[30m\u001b[49m\u001b[31mT\u001b[30m\u001b[49m\u001b[31mT\u001b[30m\u001b[49m\u001b[47m \u001b[30m\u001b[49m\u001b[31mT\u001b[30m\u001b[49m\u001b[34mC\u001b[30m\u001b[49m\u001b[47m \u001b[30m\u001b[49m\u001b[31mT\u001b[30m\u001b[49m\u001b[31mT\u001b[30m\u001b[49m\u001b[31mT\u001b[30m\u001b[49m\u001b[34mC\u001b[30m\u001b[49m\u001b[34mC\u001b[30m\u001b[49m\u001b[47m \u001b[30m\u001b[49m\u001b[32mA\u001b[30m\u001b[49m\u001b[34mC\u001b[30m\u001b[49m\u001b[32mA\u001b[30m\u001b[49m\n",
            "Subread 4\t \u001b[31mT\u001b[30m\u001b[49m\u001b[31mT\u001b[30m\u001b[49m\u001b[31mT\u001b[30m\u001b[49m\u001b[31mT\u001b[30m\u001b[49m\u001b[33mG\u001b[30m\u001b[49m\u001b[34mC\u001b[30m\u001b[49m\u001b[31mT\u001b[30m\u001b[49m\u001b[34mC\u001b[30m\u001b[49m\u001b[47m \u001b[30m\u001b[49m\u001b[47m \u001b[30m\u001b[49m\u001b[31mT\u001b[30m\u001b[49m\u001b[31mT\u001b[30m\u001b[49m\u001b[31mT\u001b[30m\u001b[49m\u001b[32mA\u001b[30m\u001b[49m\u001b[47m \u001b[30m\u001b[49m\u001b[33mG\u001b[30m\u001b[49m\u001b[47m \u001b[30m\u001b[49m\u001b[31mT\u001b[30m\u001b[49m\u001b[31mT\u001b[30m\u001b[49m\u001b[31mT\u001b[30m\u001b[49m\u001b[33mG\u001b[30m\u001b[49m\u001b[47m \u001b[30m\u001b[49m\u001b[47m \u001b[30m\u001b[49m\u001b[47m \u001b[30m\u001b[49m\u001b[31mT\u001b[30m\u001b[49m\u001b[31mT\u001b[30m\u001b[49m\u001b[31mT\u001b[30m\u001b[49m\u001b[31mT\u001b[30m\u001b[49m\u001b[31mT\u001b[30m\u001b[49m\u001b[31mT\u001b[30m\u001b[49m\u001b[32mA\u001b[30m\u001b[49m\u001b[32mA\u001b[30m\u001b[49m\u001b[31mT\u001b[30m\u001b[49m\u001b[31mT\u001b[30m\u001b[49m\u001b[31mT\u001b[30m\u001b[49m\u001b[34mC\u001b[30m\u001b[49m\u001b[34mC\u001b[30m\u001b[49m\u001b[47m \u001b[30m\u001b[49m\u001b[32mA\u001b[30m\u001b[49m\u001b[47m \u001b[30m\u001b[49m\u001b[31mT\u001b[30m\u001b[49m\u001b[34mC\u001b[30m\u001b[49m\u001b[31mT\u001b[30m\u001b[49m\u001b[47m \u001b[30m\u001b[49m\u001b[34mC\u001b[30m\u001b[49m\u001b[31mT\u001b[30m\u001b[49m\u001b[34mC\u001b[30m\u001b[49m\u001b[47m \u001b[30m\u001b[49m\u001b[33mG\u001b[30m\u001b[49m\u001b[33mG\u001b[30m\u001b[49m\u001b[47m \u001b[30m\u001b[49m\u001b[31mT\u001b[30m\u001b[49m\u001b[47m \u001b[30m\u001b[49m\u001b[33mG\u001b[30m\u001b[49m\u001b[33mG\u001b[30m\u001b[49m\u001b[34mC\u001b[30m\u001b[49m\u001b[31mT\u001b[30m\u001b[49m\u001b[32mA\u001b[30m\u001b[49m\u001b[32mA\u001b[30m\u001b[49m\u001b[32mA\u001b[30m\u001b[49m\u001b[32mA\u001b[30m\u001b[49m\u001b[33mG\u001b[30m\u001b[49m\u001b[32mA\u001b[30m\u001b[49m\u001b[31mT\u001b[30m\u001b[49m\u001b[31mT\u001b[30m\u001b[49m\u001b[32mA\u001b[30m\u001b[49m\u001b[31mT\u001b[30m\u001b[49m\u001b[31mT\u001b[30m\u001b[49m\u001b[32mA\u001b[30m\u001b[49m\u001b[47m \u001b[30m\u001b[49m\u001b[47m \u001b[30m\u001b[49m\u001b[32mA\u001b[30m\u001b[49m\u001b[47m \u001b[30m\u001b[49m\u001b[31mT\u001b[30m\u001b[49m\u001b[32mA\u001b[30m\u001b[49m\u001b[32mA\u001b[30m\u001b[49m\u001b[31mT\u001b[30m\u001b[49m\u001b[47m \u001b[30m\u001b[49m\u001b[31mT\u001b[30m\u001b[49m\u001b[47m \u001b[30m\u001b[49m\u001b[31mT\u001b[30m\u001b[49m\u001b[34mC\u001b[30m\u001b[49m\u001b[47m \u001b[30m\u001b[49m\u001b[31mT\u001b[30m\u001b[49m\u001b[31mT\u001b[30m\u001b[49m\u001b[31mT\u001b[30m\u001b[49m\u001b[31mT\u001b[30m\u001b[49m\u001b[47m \u001b[30m\u001b[49m\u001b[31mT\u001b[30m\u001b[49m\u001b[34mC\u001b[30m\u001b[49m\u001b[47m \u001b[30m\u001b[49m\u001b[47m \u001b[30m\u001b[49m\u001b[31mT\u001b[30m\u001b[49m\u001b[31mT\u001b[30m\u001b[49m\u001b[47m \u001b[30m\u001b[49m\u001b[34mC\u001b[30m\u001b[49m\u001b[47m \u001b[30m\u001b[49m\u001b[32mA\u001b[30m\u001b[49m\u001b[34mC\u001b[30m\u001b[49m\u001b[47m \u001b[30m\u001b[49m\n",
            "Subread 5\t \u001b[31mT\u001b[30m\u001b[49m\u001b[31mT\u001b[30m\u001b[49m\u001b[31mT\u001b[30m\u001b[49m\u001b[31mT\u001b[30m\u001b[49m\u001b[33mG\u001b[30m\u001b[49m\u001b[34mC\u001b[30m\u001b[49m\u001b[31mT\u001b[30m\u001b[49m\u001b[34mC\u001b[30m\u001b[49m\u001b[34mC\u001b[30m\u001b[49m\u001b[47m \u001b[30m\u001b[49m\u001b[31mT\u001b[30m\u001b[49m\u001b[31mT\u001b[30m\u001b[49m\u001b[31mT\u001b[30m\u001b[49m\u001b[33mG\u001b[30m\u001b[49m\u001b[47m \u001b[30m\u001b[49m\u001b[33mG\u001b[30m\u001b[49m\u001b[47m \u001b[30m\u001b[49m\u001b[31mT\u001b[30m\u001b[49m\u001b[31mT\u001b[30m\u001b[49m\u001b[31mT\u001b[30m\u001b[49m\u001b[33mG\u001b[30m\u001b[49m\u001b[31mT\u001b[30m\u001b[49m\u001b[47m \u001b[30m\u001b[49m\u001b[47m \u001b[30m\u001b[49m\u001b[31mT\u001b[30m\u001b[49m\u001b[31mT\u001b[30m\u001b[49m\u001b[31mT\u001b[30m\u001b[49m\u001b[31mT\u001b[30m\u001b[49m\u001b[31mT\u001b[30m\u001b[49m\u001b[31mT\u001b[30m\u001b[49m\u001b[32mA\u001b[30m\u001b[49m\u001b[32mA\u001b[30m\u001b[49m\u001b[47m \u001b[30m\u001b[49m\u001b[31mT\u001b[30m\u001b[49m\u001b[31mT\u001b[30m\u001b[49m\u001b[34mC\u001b[30m\u001b[49m\u001b[34mC\u001b[30m\u001b[49m\u001b[47m \u001b[30m\u001b[49m\u001b[32mA\u001b[30m\u001b[49m\u001b[47m \u001b[30m\u001b[49m\u001b[31mT\u001b[30m\u001b[49m\u001b[34mC\u001b[30m\u001b[49m\u001b[31mT\u001b[30m\u001b[49m\u001b[34mC\u001b[30m\u001b[49m\u001b[34mC\u001b[30m\u001b[49m\u001b[31mT\u001b[30m\u001b[49m\u001b[34mC\u001b[30m\u001b[49m\u001b[31mT\u001b[30m\u001b[49m\u001b[33mG\u001b[30m\u001b[49m\u001b[33mG\u001b[30m\u001b[49m\u001b[31mT\u001b[30m\u001b[49m\u001b[31mT\u001b[30m\u001b[49m\u001b[47m \u001b[30m\u001b[49m\u001b[33mG\u001b[30m\u001b[49m\u001b[33mG\u001b[30m\u001b[49m\u001b[34mC\u001b[30m\u001b[49m\u001b[31mT\u001b[30m\u001b[49m\u001b[47m \u001b[30m\u001b[49m\u001b[33mG\u001b[30m\u001b[49m\u001b[32mA\u001b[30m\u001b[49m\u001b[32mA\u001b[30m\u001b[49m\u001b[33mG\u001b[30m\u001b[49m\u001b[32mA\u001b[30m\u001b[49m\u001b[31mT\u001b[30m\u001b[49m\u001b[31mT\u001b[30m\u001b[49m\u001b[32mA\u001b[30m\u001b[49m\u001b[31mT\u001b[30m\u001b[49m\u001b[31mT\u001b[30m\u001b[49m\u001b[32mA\u001b[30m\u001b[49m\u001b[34mC\u001b[30m\u001b[49m\u001b[31mT\u001b[30m\u001b[49m\u001b[32mA\u001b[30m\u001b[49m\u001b[47m \u001b[30m\u001b[49m\u001b[31mT\u001b[30m\u001b[49m\u001b[47m \u001b[30m\u001b[49m\u001b[32mA\u001b[30m\u001b[49m\u001b[47m \u001b[30m\u001b[49m\u001b[47m \u001b[30m\u001b[49m\u001b[31mT\u001b[30m\u001b[49m\u001b[47m \u001b[30m\u001b[49m\u001b[31mT\u001b[30m\u001b[49m\u001b[34mC\u001b[30m\u001b[49m\u001b[47m \u001b[30m\u001b[49m\u001b[31mT\u001b[30m\u001b[49m\u001b[31mT\u001b[30m\u001b[49m\u001b[31mT\u001b[30m\u001b[49m\u001b[31mT\u001b[30m\u001b[49m\u001b[47m \u001b[30m\u001b[49m\u001b[31mT\u001b[30m\u001b[49m\u001b[34mC\u001b[30m\u001b[49m\u001b[47m \u001b[30m\u001b[49m\u001b[31mT\u001b[30m\u001b[49m\u001b[31mT\u001b[30m\u001b[49m\u001b[31mT\u001b[30m\u001b[49m\u001b[47m \u001b[30m\u001b[49m\u001b[47m \u001b[30m\u001b[49m\u001b[47m \u001b[30m\u001b[49m\u001b[32mA\u001b[30m\u001b[49m\u001b[34mC\u001b[30m\u001b[49m\u001b[47m \u001b[30m\u001b[49m\n",
            "Subread 6\t \u001b[31mT\u001b[30m\u001b[49m\u001b[31mT\u001b[30m\u001b[49m\u001b[31mT\u001b[30m\u001b[49m\u001b[31mT\u001b[30m\u001b[49m\u001b[33mG\u001b[30m\u001b[49m\u001b[34mC\u001b[30m\u001b[49m\u001b[31mT\u001b[30m\u001b[49m\u001b[34mC\u001b[30m\u001b[49m\u001b[47m \u001b[30m\u001b[49m\u001b[47m \u001b[30m\u001b[49m\u001b[47m \u001b[30m\u001b[49m\u001b[31mT\u001b[30m\u001b[49m\u001b[31mT\u001b[30m\u001b[49m\u001b[33mG\u001b[30m\u001b[49m\u001b[47m \u001b[30m\u001b[49m\u001b[33mG\u001b[30m\u001b[49m\u001b[47m \u001b[30m\u001b[49m\u001b[31mT\u001b[30m\u001b[49m\u001b[31mT\u001b[30m\u001b[49m\u001b[31mT\u001b[30m\u001b[49m\u001b[33mG\u001b[30m\u001b[49m\u001b[47m \u001b[30m\u001b[49m\u001b[47m \u001b[30m\u001b[49m\u001b[47m \u001b[30m\u001b[49m\u001b[47m \u001b[30m\u001b[49m\u001b[31mT\u001b[30m\u001b[49m\u001b[31mT\u001b[30m\u001b[49m\u001b[32mA\u001b[30m\u001b[49m\u001b[31mT\u001b[30m\u001b[49m\u001b[31mT\u001b[30m\u001b[49m\u001b[32mA\u001b[30m\u001b[49m\u001b[32mA\u001b[30m\u001b[49m\u001b[47m \u001b[30m\u001b[49m\u001b[31mT\u001b[30m\u001b[49m\u001b[31mT\u001b[30m\u001b[49m\u001b[34mC\u001b[30m\u001b[49m\u001b[34mC\u001b[30m\u001b[49m\u001b[47m \u001b[30m\u001b[49m\u001b[32mA\u001b[30m\u001b[49m\u001b[47m \u001b[30m\u001b[49m\u001b[31mT\u001b[30m\u001b[49m\u001b[34mC\u001b[30m\u001b[49m\u001b[31mT\u001b[30m\u001b[49m\u001b[34mC\u001b[30m\u001b[49m\u001b[34mC\u001b[30m\u001b[49m\u001b[31mT\u001b[30m\u001b[49m\u001b[34mC\u001b[30m\u001b[49m\u001b[31mT\u001b[30m\u001b[49m\u001b[33mG\u001b[30m\u001b[49m\u001b[33mG\u001b[30m\u001b[49m\u001b[47m \u001b[30m\u001b[49m\u001b[31mT\u001b[30m\u001b[49m\u001b[47m \u001b[30m\u001b[49m\u001b[33mG\u001b[30m\u001b[49m\u001b[33mG\u001b[30m\u001b[49m\u001b[34mC\u001b[30m\u001b[49m\u001b[31mT\u001b[30m\u001b[49m\u001b[32mA\u001b[30m\u001b[49m\u001b[32mA\u001b[30m\u001b[49m\u001b[32mA\u001b[30m\u001b[49m\u001b[32mA\u001b[30m\u001b[49m\u001b[33mG\u001b[30m\u001b[49m\u001b[32mA\u001b[30m\u001b[49m\u001b[47m \u001b[30m\u001b[49m\u001b[31mT\u001b[30m\u001b[49m\u001b[32mA\u001b[30m\u001b[49m\u001b[31mT\u001b[30m\u001b[49m\u001b[31mT\u001b[30m\u001b[49m\u001b[32mA\u001b[30m\u001b[49m\u001b[31mT\u001b[30m\u001b[49m\u001b[31mT\u001b[30m\u001b[49m\u001b[32mA\u001b[30m\u001b[49m\u001b[47m \u001b[30m\u001b[49m\u001b[31mT\u001b[30m\u001b[49m\u001b[32mA\u001b[30m\u001b[49m\u001b[32mA\u001b[30m\u001b[49m\u001b[47m \u001b[30m\u001b[49m\u001b[47m \u001b[30m\u001b[49m\u001b[47m \u001b[30m\u001b[49m\u001b[47m \u001b[30m\u001b[49m\u001b[31mT\u001b[30m\u001b[49m\u001b[34mC\u001b[30m\u001b[49m\u001b[47m \u001b[30m\u001b[49m\u001b[31mT\u001b[30m\u001b[49m\u001b[31mT\u001b[30m\u001b[49m\u001b[31mT\u001b[30m\u001b[49m\u001b[31mT\u001b[30m\u001b[49m\u001b[47m \u001b[30m\u001b[49m\u001b[31mT\u001b[30m\u001b[49m\u001b[34mC\u001b[30m\u001b[49m\u001b[47m \u001b[30m\u001b[49m\u001b[31mT\u001b[30m\u001b[49m\u001b[31mT\u001b[30m\u001b[49m\u001b[31mT\u001b[30m\u001b[49m\u001b[47m \u001b[30m\u001b[49m\u001b[34mC\u001b[30m\u001b[49m\u001b[47m \u001b[30m\u001b[49m\u001b[32mA\u001b[30m\u001b[49m\u001b[34mC\u001b[30m\u001b[49m\u001b[32mA\u001b[30m\u001b[49m\n",
            "Subread 7\t \u001b[31mT\u001b[30m\u001b[49m\u001b[31mT\u001b[30m\u001b[49m\u001b[31mT\u001b[30m\u001b[49m\u001b[31mT\u001b[30m\u001b[49m\u001b[33mG\u001b[30m\u001b[49m\u001b[34mC\u001b[30m\u001b[49m\u001b[31mT\u001b[30m\u001b[49m\u001b[34mC\u001b[30m\u001b[49m\u001b[31mT\u001b[30m\u001b[49m\u001b[47m \u001b[30m\u001b[49m\u001b[31mT\u001b[30m\u001b[49m\u001b[31mT\u001b[30m\u001b[49m\u001b[31mT\u001b[30m\u001b[49m\u001b[33mG\u001b[30m\u001b[49m\u001b[47m \u001b[30m\u001b[49m\u001b[33mG\u001b[30m\u001b[49m\u001b[47m \u001b[30m\u001b[49m\u001b[47m \u001b[30m\u001b[49m\u001b[31mT\u001b[30m\u001b[49m\u001b[31mT\u001b[30m\u001b[49m\u001b[33mG\u001b[30m\u001b[49m\u001b[47m \u001b[30m\u001b[49m\u001b[47m \u001b[30m\u001b[49m\u001b[47m \u001b[30m\u001b[49m\u001b[31mT\u001b[30m\u001b[49m\u001b[31mT\u001b[30m\u001b[49m\u001b[31mT\u001b[30m\u001b[49m\u001b[31mT\u001b[30m\u001b[49m\u001b[31mT\u001b[30m\u001b[49m\u001b[31mT\u001b[30m\u001b[49m\u001b[31mT\u001b[30m\u001b[49m\u001b[32mA\u001b[30m\u001b[49m\u001b[47m \u001b[30m\u001b[49m\u001b[31mT\u001b[30m\u001b[49m\u001b[31mT\u001b[30m\u001b[49m\u001b[34mC\u001b[30m\u001b[49m\u001b[34mC\u001b[30m\u001b[49m\u001b[47m \u001b[30m\u001b[49m\u001b[32mA\u001b[30m\u001b[49m\u001b[47m \u001b[30m\u001b[49m\u001b[31mT\u001b[30m\u001b[49m\u001b[34mC\u001b[30m\u001b[49m\u001b[31mT\u001b[30m\u001b[49m\u001b[34mC\u001b[30m\u001b[49m\u001b[34mC\u001b[30m\u001b[49m\u001b[31mT\u001b[30m\u001b[49m\u001b[32mA\u001b[30m\u001b[49m\u001b[31mT\u001b[30m\u001b[49m\u001b[33mG\u001b[30m\u001b[49m\u001b[33mG\u001b[30m\u001b[49m\u001b[47m \u001b[30m\u001b[49m\u001b[31mT\u001b[30m\u001b[49m\u001b[47m \u001b[30m\u001b[49m\u001b[33mG\u001b[30m\u001b[49m\u001b[33mG\u001b[30m\u001b[49m\u001b[34mC\u001b[30m\u001b[49m\u001b[31mT\u001b[30m\u001b[49m\u001b[32mA\u001b[30m\u001b[49m\u001b[32mA\u001b[30m\u001b[49m\u001b[32mA\u001b[30m\u001b[49m\u001b[32mA\u001b[30m\u001b[49m\u001b[33mG\u001b[30m\u001b[49m\u001b[32mA\u001b[30m\u001b[49m\u001b[31mT\u001b[30m\u001b[49m\u001b[31mT\u001b[30m\u001b[49m\u001b[32mA\u001b[30m\u001b[49m\u001b[47m \u001b[30m\u001b[49m\u001b[31mT\u001b[30m\u001b[49m\u001b[33mG\u001b[30m\u001b[49m\u001b[32mA\u001b[30m\u001b[49m\u001b[31mT\u001b[30m\u001b[49m\u001b[32mA\u001b[30m\u001b[49m\u001b[34mC\u001b[30m\u001b[49m\u001b[31mT\u001b[30m\u001b[49m\u001b[32mA\u001b[30m\u001b[49m\u001b[32mA\u001b[30m\u001b[49m\u001b[47m \u001b[30m\u001b[49m\u001b[47m \u001b[30m\u001b[49m\u001b[31mT\u001b[30m\u001b[49m\u001b[47m \u001b[30m\u001b[49m\u001b[31mT\u001b[30m\u001b[49m\u001b[34mC\u001b[30m\u001b[49m\u001b[47m \u001b[30m\u001b[49m\u001b[31mT\u001b[30m\u001b[49m\u001b[32mA\u001b[30m\u001b[49m\u001b[31mT\u001b[30m\u001b[49m\u001b[31mT\u001b[30m\u001b[49m\u001b[47m \u001b[30m\u001b[49m\u001b[31mT\u001b[30m\u001b[49m\u001b[34mC\u001b[30m\u001b[49m\u001b[47m \u001b[30m\u001b[49m\u001b[31mT\u001b[30m\u001b[49m\u001b[31mT\u001b[30m\u001b[49m\u001b[31mT\u001b[30m\u001b[49m\u001b[47m \u001b[30m\u001b[49m\u001b[34mC\u001b[30m\u001b[49m\u001b[32mA\u001b[30m\u001b[49m\u001b[32mA\u001b[30m\u001b[49m\u001b[34mC\u001b[30m\u001b[49m\u001b[32mA\u001b[30m\u001b[49m\n",
            "Subread 8\t \u001b[31mT\u001b[30m\u001b[49m\u001b[31mT\u001b[30m\u001b[49m\u001b[31mT\u001b[30m\u001b[49m\u001b[31mT\u001b[30m\u001b[49m\u001b[33mG\u001b[30m\u001b[49m\u001b[34mC\u001b[30m\u001b[49m\u001b[31mT\u001b[30m\u001b[49m\u001b[34mC\u001b[30m\u001b[49m\u001b[31mT\u001b[30m\u001b[49m\u001b[47m \u001b[30m\u001b[49m\u001b[31mT\u001b[30m\u001b[49m\u001b[31mT\u001b[30m\u001b[49m\u001b[31mT\u001b[30m\u001b[49m\u001b[33mG\u001b[30m\u001b[49m\u001b[47m \u001b[30m\u001b[49m\u001b[33mG\u001b[30m\u001b[49m\u001b[47m \u001b[30m\u001b[49m\u001b[31mT\u001b[30m\u001b[49m\u001b[31mT\u001b[30m\u001b[49m\u001b[31mT\u001b[30m\u001b[49m\u001b[33mG\u001b[30m\u001b[49m\u001b[47m \u001b[30m\u001b[49m\u001b[47m \u001b[30m\u001b[49m\u001b[47m \u001b[30m\u001b[49m\u001b[31mT\u001b[30m\u001b[49m\u001b[31mT\u001b[30m\u001b[49m\u001b[31mT\u001b[30m\u001b[49m\u001b[31mT\u001b[30m\u001b[49m\u001b[31mT\u001b[30m\u001b[49m\u001b[31mT\u001b[30m\u001b[49m\u001b[32mA\u001b[30m\u001b[49m\u001b[32mA\u001b[30m\u001b[49m\u001b[47m \u001b[30m\u001b[49m\u001b[47m \u001b[30m\u001b[49m\u001b[31mT\u001b[30m\u001b[49m\u001b[34mC\u001b[30m\u001b[49m\u001b[34mC\u001b[30m\u001b[49m\u001b[47m \u001b[30m\u001b[49m\u001b[32mA\u001b[30m\u001b[49m\u001b[47m \u001b[30m\u001b[49m\u001b[31mT\u001b[30m\u001b[49m\u001b[34mC\u001b[30m\u001b[49m\u001b[31mT\u001b[30m\u001b[49m\u001b[34mC\u001b[30m\u001b[49m\u001b[34mC\u001b[30m\u001b[49m\u001b[31mT\u001b[30m\u001b[49m\u001b[34mC\u001b[30m\u001b[49m\u001b[31mT\u001b[30m\u001b[49m\u001b[33mG\u001b[30m\u001b[49m\u001b[33mG\u001b[30m\u001b[49m\u001b[47m \u001b[30m\u001b[49m\u001b[31mT\u001b[30m\u001b[49m\u001b[47m \u001b[30m\u001b[49m\u001b[33mG\u001b[30m\u001b[49m\u001b[33mG\u001b[30m\u001b[49m\u001b[34mC\u001b[30m\u001b[49m\u001b[31mT\u001b[30m\u001b[49m\u001b[32mA\u001b[30m\u001b[49m\u001b[32mA\u001b[30m\u001b[49m\u001b[32mA\u001b[30m\u001b[49m\u001b[32mA\u001b[30m\u001b[49m\u001b[33mG\u001b[30m\u001b[49m\u001b[32mA\u001b[30m\u001b[49m\u001b[31mT\u001b[30m\u001b[49m\u001b[31mT\u001b[30m\u001b[49m\u001b[32mA\u001b[30m\u001b[49m\u001b[31mT\u001b[30m\u001b[49m\u001b[31mT\u001b[30m\u001b[49m\u001b[32mA\u001b[30m\u001b[49m\u001b[32mA\u001b[30m\u001b[49m\u001b[31mT\u001b[30m\u001b[49m\u001b[32mA\u001b[30m\u001b[49m\u001b[47m \u001b[30m\u001b[49m\u001b[31mT\u001b[30m\u001b[49m\u001b[32mA\u001b[30m\u001b[49m\u001b[32mA\u001b[30m\u001b[49m\u001b[32mA\u001b[30m\u001b[49m\u001b[33mG\u001b[30m\u001b[49m\u001b[31mT\u001b[30m\u001b[49m\u001b[34mC\u001b[30m\u001b[49m\u001b[31mT\u001b[30m\u001b[49m\u001b[31mT\u001b[30m\u001b[49m\u001b[47m \u001b[30m\u001b[49m\u001b[31mT\u001b[30m\u001b[49m\u001b[31mT\u001b[30m\u001b[49m\u001b[31mT\u001b[30m\u001b[49m\u001b[31mT\u001b[30m\u001b[49m\u001b[47m \u001b[30m\u001b[49m\u001b[31mT\u001b[30m\u001b[49m\u001b[34mC\u001b[30m\u001b[49m\u001b[33mG\u001b[30m\u001b[49m\u001b[31mT\u001b[30m\u001b[49m\u001b[31mT\u001b[30m\u001b[49m\u001b[31mT\u001b[30m\u001b[49m\u001b[47m \u001b[30m\u001b[49m\u001b[34mC\u001b[30m\u001b[49m\u001b[32mA\u001b[30m\u001b[49m\u001b[32mA\u001b[30m\u001b[49m\u001b[34mC\u001b[30m\u001b[49m\u001b[32mA\u001b[30m\u001b[49m\n",
            "Subread 9\t \u001b[31mT\u001b[30m\u001b[49m\u001b[31mT\u001b[30m\u001b[49m\u001b[31mT\u001b[30m\u001b[49m\u001b[31mT\u001b[30m\u001b[49m\u001b[33mG\u001b[30m\u001b[49m\u001b[34mC\u001b[30m\u001b[49m\u001b[31mT\u001b[30m\u001b[49m\u001b[34mC\u001b[30m\u001b[49m\u001b[31mT\u001b[30m\u001b[49m\u001b[47m \u001b[30m\u001b[49m\u001b[31mT\u001b[30m\u001b[49m\u001b[31mT\u001b[30m\u001b[49m\u001b[31mT\u001b[30m\u001b[49m\u001b[33mG\u001b[30m\u001b[49m\u001b[47m \u001b[30m\u001b[49m\u001b[33mG\u001b[30m\u001b[49m\u001b[47m \u001b[30m\u001b[49m\u001b[31mT\u001b[30m\u001b[49m\u001b[31mT\u001b[30m\u001b[49m\u001b[31mT\u001b[30m\u001b[49m\u001b[33mG\u001b[30m\u001b[49m\u001b[31mT\u001b[30m\u001b[49m\u001b[47m \u001b[30m\u001b[49m\u001b[47m \u001b[30m\u001b[49m\u001b[31mT\u001b[30m\u001b[49m\u001b[31mT\u001b[30m\u001b[49m\u001b[31mT\u001b[30m\u001b[49m\u001b[31mT\u001b[30m\u001b[49m\u001b[31mT\u001b[30m\u001b[49m\u001b[31mT\u001b[30m\u001b[49m\u001b[32mA\u001b[30m\u001b[49m\u001b[32mA\u001b[30m\u001b[49m\u001b[47m \u001b[30m\u001b[49m\u001b[31mT\u001b[30m\u001b[49m\u001b[31mT\u001b[30m\u001b[49m\u001b[47m \u001b[30m\u001b[49m\u001b[34mC\u001b[30m\u001b[49m\u001b[47m \u001b[30m\u001b[49m\u001b[32mA\u001b[30m\u001b[49m\u001b[47m \u001b[30m\u001b[49m\u001b[31mT\u001b[30m\u001b[49m\u001b[34mC\u001b[30m\u001b[49m\u001b[31mT\u001b[30m\u001b[49m\u001b[34mC\u001b[30m\u001b[49m\u001b[34mC\u001b[30m\u001b[49m\u001b[31mT\u001b[30m\u001b[49m\u001b[34mC\u001b[30m\u001b[49m\u001b[31mT\u001b[30m\u001b[49m\u001b[33mG\u001b[30m\u001b[49m\u001b[33mG\u001b[30m\u001b[49m\u001b[47m \u001b[30m\u001b[49m\u001b[31mT\u001b[30m\u001b[49m\u001b[47m \u001b[30m\u001b[49m\u001b[33mG\u001b[30m\u001b[49m\u001b[33mG\u001b[30m\u001b[49m\u001b[34mC\u001b[30m\u001b[49m\u001b[31mT\u001b[30m\u001b[49m\u001b[32mA\u001b[30m\u001b[49m\u001b[34mC\u001b[30m\u001b[49m\u001b[32mA\u001b[30m\u001b[49m\u001b[32mA\u001b[30m\u001b[49m\u001b[33mG\u001b[30m\u001b[49m\u001b[32mA\u001b[30m\u001b[49m\u001b[31mT\u001b[30m\u001b[49m\u001b[31mT\u001b[30m\u001b[49m\u001b[32mA\u001b[30m\u001b[49m\u001b[31mT\u001b[30m\u001b[49m\u001b[31mT\u001b[30m\u001b[49m\u001b[32mA\u001b[30m\u001b[49m\u001b[32mA\u001b[30m\u001b[49m\u001b[31mT\u001b[30m\u001b[49m\u001b[32mA\u001b[30m\u001b[49m\u001b[47m \u001b[30m\u001b[49m\u001b[31mT\u001b[30m\u001b[49m\u001b[32mA\u001b[30m\u001b[49m\u001b[32mA\u001b[30m\u001b[49m\u001b[47m \u001b[30m\u001b[49m\u001b[47m \u001b[30m\u001b[49m\u001b[47m \u001b[30m\u001b[49m\u001b[47m \u001b[30m\u001b[49m\u001b[31mT\u001b[30m\u001b[49m\u001b[34mC\u001b[30m\u001b[49m\u001b[47m \u001b[30m\u001b[49m\u001b[31mT\u001b[30m\u001b[49m\u001b[31mT\u001b[30m\u001b[49m\u001b[31mT\u001b[30m\u001b[49m\u001b[31mT\u001b[30m\u001b[49m\u001b[47m \u001b[30m\u001b[49m\u001b[31mT\u001b[30m\u001b[49m\u001b[34mC\u001b[30m\u001b[49m\u001b[47m \u001b[30m\u001b[49m\u001b[31mT\u001b[30m\u001b[49m\u001b[31mT\u001b[30m\u001b[49m\u001b[31mT\u001b[30m\u001b[49m\u001b[47m \u001b[30m\u001b[49m\u001b[34mC\u001b[30m\u001b[49m\u001b[47m \u001b[30m\u001b[49m\u001b[32mA\u001b[30m\u001b[49m\u001b[34mC\u001b[30m\u001b[49m\u001b[32mA\u001b[30m\u001b[49m\n",
            "Subread 10\t \u001b[31mT\u001b[30m\u001b[49m\u001b[32mA\u001b[30m\u001b[49m\u001b[31mT\u001b[30m\u001b[49m\u001b[31mT\u001b[30m\u001b[49m\u001b[33mG\u001b[30m\u001b[49m\u001b[34mC\u001b[30m\u001b[49m\u001b[31mT\u001b[30m\u001b[49m\u001b[34mC\u001b[30m\u001b[49m\u001b[47m \u001b[30m\u001b[49m\u001b[47m \u001b[30m\u001b[49m\u001b[31mT\u001b[30m\u001b[49m\u001b[31mT\u001b[30m\u001b[49m\u001b[31mT\u001b[30m\u001b[49m\u001b[33mG\u001b[30m\u001b[49m\u001b[47m \u001b[30m\u001b[49m\u001b[33mG\u001b[30m\u001b[49m\u001b[47m \u001b[30m\u001b[49m\u001b[31mT\u001b[30m\u001b[49m\u001b[31mT\u001b[30m\u001b[49m\u001b[31mT\u001b[30m\u001b[49m\u001b[33mG\u001b[30m\u001b[49m\u001b[31mT\u001b[30m\u001b[49m\u001b[31mT\u001b[30m\u001b[49m\u001b[31mT\u001b[30m\u001b[49m\u001b[31mT\u001b[30m\u001b[49m\u001b[31mT\u001b[30m\u001b[49m\u001b[31mT\u001b[30m\u001b[49m\u001b[31mT\u001b[30m\u001b[49m\u001b[31mT\u001b[30m\u001b[49m\u001b[31mT\u001b[30m\u001b[49m\u001b[32mA\u001b[30m\u001b[49m\u001b[32mA\u001b[30m\u001b[49m\u001b[47m \u001b[30m\u001b[49m\u001b[31mT\u001b[30m\u001b[49m\u001b[31mT\u001b[30m\u001b[49m\u001b[34mC\u001b[30m\u001b[49m\u001b[34mC\u001b[30m\u001b[49m\u001b[47m \u001b[30m\u001b[49m\u001b[32mA\u001b[30m\u001b[49m\u001b[47m \u001b[30m\u001b[49m\u001b[31mT\u001b[30m\u001b[49m\u001b[34mC\u001b[30m\u001b[49m\u001b[31mT\u001b[30m\u001b[49m\u001b[34mC\u001b[30m\u001b[49m\u001b[34mC\u001b[30m\u001b[49m\u001b[31mT\u001b[30m\u001b[49m\u001b[34mC\u001b[30m\u001b[49m\u001b[31mT\u001b[30m\u001b[49m\u001b[33mG\u001b[30m\u001b[49m\u001b[33mG\u001b[30m\u001b[49m\u001b[47m \u001b[30m\u001b[49m\u001b[31mT\u001b[30m\u001b[49m\u001b[47m \u001b[30m\u001b[49m\u001b[33mG\u001b[30m\u001b[49m\u001b[33mG\u001b[30m\u001b[49m\u001b[34mC\u001b[30m\u001b[49m\u001b[47m \u001b[30m\u001b[49m\u001b[32mA\u001b[30m\u001b[49m\u001b[32mA\u001b[30m\u001b[49m\u001b[32mA\u001b[30m\u001b[49m\u001b[32mA\u001b[30m\u001b[49m\u001b[33mG\u001b[30m\u001b[49m\u001b[32mA\u001b[30m\u001b[49m\u001b[31mT\u001b[30m\u001b[49m\u001b[31mT\u001b[30m\u001b[49m\u001b[32mA\u001b[30m\u001b[49m\u001b[33mG\u001b[30m\u001b[49m\u001b[31mT\u001b[30m\u001b[49m\u001b[32mA\u001b[30m\u001b[49m\u001b[32mA\u001b[30m\u001b[49m\u001b[31mT\u001b[30m\u001b[49m\u001b[32mA\u001b[30m\u001b[49m\u001b[47m \u001b[30m\u001b[49m\u001b[31mT\u001b[30m\u001b[49m\u001b[32mA\u001b[30m\u001b[49m\u001b[32mA\u001b[30m\u001b[49m\u001b[47m \u001b[30m\u001b[49m\u001b[47m \u001b[30m\u001b[49m\u001b[31mT\u001b[30m\u001b[49m\u001b[47m \u001b[30m\u001b[49m\u001b[31mT\u001b[30m\u001b[49m\u001b[34mC\u001b[30m\u001b[49m\u001b[47m \u001b[30m\u001b[49m\u001b[31mT\u001b[30m\u001b[49m\u001b[31mT\u001b[30m\u001b[49m\u001b[31mT\u001b[30m\u001b[49m\u001b[31mT\u001b[30m\u001b[49m\u001b[32mA\u001b[30m\u001b[49m\u001b[31mT\u001b[30m\u001b[49m\u001b[34mC\u001b[30m\u001b[49m\u001b[47m \u001b[30m\u001b[49m\u001b[31mT\u001b[30m\u001b[49m\u001b[31mT\u001b[30m\u001b[49m\u001b[31mT\u001b[30m\u001b[49m\u001b[47m \u001b[30m\u001b[49m\u001b[34mC\u001b[30m\u001b[49m\u001b[47m \u001b[30m\u001b[49m\u001b[32mA\u001b[30m\u001b[49m\u001b[34mC\u001b[30m\u001b[49m\u001b[32mA\u001b[30m\u001b[49m\n",
            "Subread 11\t \u001b[47m \u001b[30m\u001b[49m\u001b[47m \u001b[30m\u001b[49m\u001b[47m \u001b[30m\u001b[49m\u001b[47m \u001b[30m\u001b[49m\u001b[47m \u001b[30m\u001b[49m\u001b[47m \u001b[30m\u001b[49m\u001b[47m \u001b[30m\u001b[49m\u001b[47m \u001b[30m\u001b[49m\u001b[47m \u001b[30m\u001b[49m\u001b[47m \u001b[30m\u001b[49m\u001b[47m \u001b[30m\u001b[49m\u001b[47m \u001b[30m\u001b[49m\u001b[47m \u001b[30m\u001b[49m\u001b[47m \u001b[30m\u001b[49m\u001b[47m \u001b[30m\u001b[49m\u001b[47m \u001b[30m\u001b[49m\u001b[47m \u001b[30m\u001b[49m\u001b[47m \u001b[30m\u001b[49m\u001b[47m \u001b[30m\u001b[49m\u001b[47m \u001b[30m\u001b[49m\u001b[47m \u001b[30m\u001b[49m\u001b[47m \u001b[30m\u001b[49m\u001b[47m \u001b[30m\u001b[49m\u001b[47m \u001b[30m\u001b[49m\u001b[47m \u001b[30m\u001b[49m\u001b[47m \u001b[30m\u001b[49m\u001b[47m \u001b[30m\u001b[49m\u001b[47m \u001b[30m\u001b[49m\u001b[47m \u001b[30m\u001b[49m\u001b[47m \u001b[30m\u001b[49m\u001b[47m \u001b[30m\u001b[49m\u001b[47m \u001b[30m\u001b[49m\u001b[47m \u001b[30m\u001b[49m\u001b[47m \u001b[30m\u001b[49m\u001b[47m \u001b[30m\u001b[49m\u001b[47m \u001b[30m\u001b[49m\u001b[47m \u001b[30m\u001b[49m\u001b[47m \u001b[30m\u001b[49m\u001b[47m \u001b[30m\u001b[49m\u001b[47m \u001b[30m\u001b[49m\u001b[47m \u001b[30m\u001b[49m\u001b[47m \u001b[30m\u001b[49m\u001b[47m \u001b[30m\u001b[49m\u001b[47m \u001b[30m\u001b[49m\u001b[47m \u001b[30m\u001b[49m\u001b[47m \u001b[30m\u001b[49m\u001b[47m \u001b[30m\u001b[49m\u001b[47m \u001b[30m\u001b[49m\u001b[47m \u001b[30m\u001b[49m\u001b[47m \u001b[30m\u001b[49m\u001b[47m \u001b[30m\u001b[49m\u001b[47m \u001b[30m\u001b[49m\u001b[47m \u001b[30m\u001b[49m\u001b[47m \u001b[30m\u001b[49m\u001b[47m \u001b[30m\u001b[49m\u001b[47m \u001b[30m\u001b[49m\u001b[47m \u001b[30m\u001b[49m\u001b[47m \u001b[30m\u001b[49m\u001b[47m \u001b[30m\u001b[49m\u001b[47m \u001b[30m\u001b[49m\u001b[47m \u001b[30m\u001b[49m\u001b[47m \u001b[30m\u001b[49m\u001b[47m \u001b[30m\u001b[49m\u001b[47m \u001b[30m\u001b[49m\u001b[47m \u001b[30m\u001b[49m\u001b[47m \u001b[30m\u001b[49m\u001b[47m \u001b[30m\u001b[49m\u001b[47m \u001b[30m\u001b[49m\u001b[47m \u001b[30m\u001b[49m\u001b[47m \u001b[30m\u001b[49m\u001b[47m \u001b[30m\u001b[49m\u001b[47m \u001b[30m\u001b[49m\u001b[47m \u001b[30m\u001b[49m\u001b[47m \u001b[30m\u001b[49m\u001b[47m \u001b[30m\u001b[49m\u001b[47m \u001b[30m\u001b[49m\u001b[47m \u001b[30m\u001b[49m\u001b[47m \u001b[30m\u001b[49m\u001b[47m \u001b[30m\u001b[49m\u001b[47m \u001b[30m\u001b[49m\u001b[47m \u001b[30m\u001b[49m\u001b[47m \u001b[30m\u001b[49m\u001b[47m \u001b[30m\u001b[49m\u001b[47m \u001b[30m\u001b[49m\u001b[47m \u001b[30m\u001b[49m\u001b[47m \u001b[30m\u001b[49m\u001b[47m \u001b[30m\u001b[49m\u001b[47m \u001b[30m\u001b[49m\u001b[47m \u001b[30m\u001b[49m\u001b[47m \u001b[30m\u001b[49m\u001b[47m \u001b[30m\u001b[49m\u001b[47m \u001b[30m\u001b[49m\u001b[47m \u001b[30m\u001b[49m\u001b[47m \u001b[30m\u001b[49m\u001b[47m \u001b[30m\u001b[49m\u001b[47m \u001b[30m\u001b[49m\u001b[47m \u001b[30m\u001b[49m\u001b[47m \u001b[30m\u001b[49m\u001b[47m \u001b[30m\u001b[49m\u001b[47m \u001b[30m\u001b[49m\n",
            "Subread 12\t \u001b[47m \u001b[30m\u001b[49m\u001b[47m \u001b[30m\u001b[49m\u001b[47m \u001b[30m\u001b[49m\u001b[47m \u001b[30m\u001b[49m\u001b[47m \u001b[30m\u001b[49m\u001b[47m \u001b[30m\u001b[49m\u001b[47m \u001b[30m\u001b[49m\u001b[47m \u001b[30m\u001b[49m\u001b[47m \u001b[30m\u001b[49m\u001b[47m \u001b[30m\u001b[49m\u001b[47m \u001b[30m\u001b[49m\u001b[47m \u001b[30m\u001b[49m\u001b[47m \u001b[30m\u001b[49m\u001b[47m \u001b[30m\u001b[49m\u001b[47m \u001b[30m\u001b[49m\u001b[47m \u001b[30m\u001b[49m\u001b[47m \u001b[30m\u001b[49m\u001b[47m \u001b[30m\u001b[49m\u001b[47m \u001b[30m\u001b[49m\u001b[47m \u001b[30m\u001b[49m\u001b[47m \u001b[30m\u001b[49m\u001b[47m \u001b[30m\u001b[49m\u001b[47m \u001b[30m\u001b[49m\u001b[47m \u001b[30m\u001b[49m\u001b[47m \u001b[30m\u001b[49m\u001b[47m \u001b[30m\u001b[49m\u001b[47m \u001b[30m\u001b[49m\u001b[47m \u001b[30m\u001b[49m\u001b[47m \u001b[30m\u001b[49m\u001b[47m \u001b[30m\u001b[49m\u001b[47m \u001b[30m\u001b[49m\u001b[47m \u001b[30m\u001b[49m\u001b[47m \u001b[30m\u001b[49m\u001b[47m \u001b[30m\u001b[49m\u001b[47m \u001b[30m\u001b[49m\u001b[47m \u001b[30m\u001b[49m\u001b[47m \u001b[30m\u001b[49m\u001b[47m \u001b[30m\u001b[49m\u001b[47m \u001b[30m\u001b[49m\u001b[47m \u001b[30m\u001b[49m\u001b[47m \u001b[30m\u001b[49m\u001b[47m \u001b[30m\u001b[49m\u001b[47m \u001b[30m\u001b[49m\u001b[47m \u001b[30m\u001b[49m\u001b[47m \u001b[30m\u001b[49m\u001b[47m \u001b[30m\u001b[49m\u001b[47m \u001b[30m\u001b[49m\u001b[47m \u001b[30m\u001b[49m\u001b[47m \u001b[30m\u001b[49m\u001b[47m \u001b[30m\u001b[49m\u001b[47m \u001b[30m\u001b[49m\u001b[47m \u001b[30m\u001b[49m\u001b[47m \u001b[30m\u001b[49m\u001b[47m \u001b[30m\u001b[49m\u001b[47m \u001b[30m\u001b[49m\u001b[47m \u001b[30m\u001b[49m\u001b[47m \u001b[30m\u001b[49m\u001b[47m \u001b[30m\u001b[49m\u001b[47m \u001b[30m\u001b[49m\u001b[47m \u001b[30m\u001b[49m\u001b[47m \u001b[30m\u001b[49m\u001b[47m \u001b[30m\u001b[49m\u001b[47m \u001b[30m\u001b[49m\u001b[47m \u001b[30m\u001b[49m\u001b[47m \u001b[30m\u001b[49m\u001b[47m \u001b[30m\u001b[49m\u001b[47m \u001b[30m\u001b[49m\u001b[47m \u001b[30m\u001b[49m\u001b[47m \u001b[30m\u001b[49m\u001b[47m \u001b[30m\u001b[49m\u001b[47m \u001b[30m\u001b[49m\u001b[47m \u001b[30m\u001b[49m\u001b[47m \u001b[30m\u001b[49m\u001b[47m \u001b[30m\u001b[49m\u001b[47m \u001b[30m\u001b[49m\u001b[47m \u001b[30m\u001b[49m\u001b[47m \u001b[30m\u001b[49m\u001b[47m \u001b[30m\u001b[49m\u001b[47m \u001b[30m\u001b[49m\u001b[47m \u001b[30m\u001b[49m\u001b[47m \u001b[30m\u001b[49m\u001b[47m \u001b[30m\u001b[49m\u001b[47m \u001b[30m\u001b[49m\u001b[47m \u001b[30m\u001b[49m\u001b[47m \u001b[30m\u001b[49m\u001b[47m \u001b[30m\u001b[49m\u001b[47m \u001b[30m\u001b[49m\u001b[47m \u001b[30m\u001b[49m\u001b[47m \u001b[30m\u001b[49m\u001b[47m \u001b[30m\u001b[49m\u001b[47m \u001b[30m\u001b[49m\u001b[47m \u001b[30m\u001b[49m\u001b[47m \u001b[30m\u001b[49m\u001b[47m \u001b[30m\u001b[49m\u001b[47m \u001b[30m\u001b[49m\u001b[47m \u001b[30m\u001b[49m\u001b[47m \u001b[30m\u001b[49m\u001b[47m \u001b[30m\u001b[49m\u001b[47m \u001b[30m\u001b[49m\u001b[47m \u001b[30m\u001b[49m\n",
            "Subread 13\t \u001b[47m \u001b[30m\u001b[49m\u001b[47m \u001b[30m\u001b[49m\u001b[47m \u001b[30m\u001b[49m\u001b[47m \u001b[30m\u001b[49m\u001b[47m \u001b[30m\u001b[49m\u001b[47m \u001b[30m\u001b[49m\u001b[47m \u001b[30m\u001b[49m\u001b[47m \u001b[30m\u001b[49m\u001b[47m \u001b[30m\u001b[49m\u001b[47m \u001b[30m\u001b[49m\u001b[47m \u001b[30m\u001b[49m\u001b[47m \u001b[30m\u001b[49m\u001b[47m \u001b[30m\u001b[49m\u001b[47m \u001b[30m\u001b[49m\u001b[47m \u001b[30m\u001b[49m\u001b[47m \u001b[30m\u001b[49m\u001b[47m \u001b[30m\u001b[49m\u001b[47m \u001b[30m\u001b[49m\u001b[47m \u001b[30m\u001b[49m\u001b[47m \u001b[30m\u001b[49m\u001b[47m \u001b[30m\u001b[49m\u001b[47m \u001b[30m\u001b[49m\u001b[47m \u001b[30m\u001b[49m\u001b[47m \u001b[30m\u001b[49m\u001b[47m \u001b[30m\u001b[49m\u001b[47m \u001b[30m\u001b[49m\u001b[47m \u001b[30m\u001b[49m\u001b[47m \u001b[30m\u001b[49m\u001b[47m \u001b[30m\u001b[49m\u001b[47m \u001b[30m\u001b[49m\u001b[47m \u001b[30m\u001b[49m\u001b[47m \u001b[30m\u001b[49m\u001b[47m \u001b[30m\u001b[49m\u001b[47m \u001b[30m\u001b[49m\u001b[47m \u001b[30m\u001b[49m\u001b[47m \u001b[30m\u001b[49m\u001b[47m \u001b[30m\u001b[49m\u001b[47m \u001b[30m\u001b[49m\u001b[47m \u001b[30m\u001b[49m\u001b[47m \u001b[30m\u001b[49m\u001b[47m \u001b[30m\u001b[49m\u001b[47m \u001b[30m\u001b[49m\u001b[47m \u001b[30m\u001b[49m\u001b[47m \u001b[30m\u001b[49m\u001b[47m \u001b[30m\u001b[49m\u001b[47m \u001b[30m\u001b[49m\u001b[47m \u001b[30m\u001b[49m\u001b[47m \u001b[30m\u001b[49m\u001b[47m \u001b[30m\u001b[49m\u001b[47m \u001b[30m\u001b[49m\u001b[47m \u001b[30m\u001b[49m\u001b[47m \u001b[30m\u001b[49m\u001b[47m \u001b[30m\u001b[49m\u001b[47m \u001b[30m\u001b[49m\u001b[47m \u001b[30m\u001b[49m\u001b[47m \u001b[30m\u001b[49m\u001b[47m \u001b[30m\u001b[49m\u001b[47m \u001b[30m\u001b[49m\u001b[47m \u001b[30m\u001b[49m\u001b[47m \u001b[30m\u001b[49m\u001b[47m \u001b[30m\u001b[49m\u001b[47m \u001b[30m\u001b[49m\u001b[47m \u001b[30m\u001b[49m\u001b[47m \u001b[30m\u001b[49m\u001b[47m \u001b[30m\u001b[49m\u001b[47m \u001b[30m\u001b[49m\u001b[47m \u001b[30m\u001b[49m\u001b[47m \u001b[30m\u001b[49m\u001b[47m \u001b[30m\u001b[49m\u001b[47m \u001b[30m\u001b[49m\u001b[47m \u001b[30m\u001b[49m\u001b[47m \u001b[30m\u001b[49m\u001b[47m \u001b[30m\u001b[49m\u001b[47m \u001b[30m\u001b[49m\u001b[47m \u001b[30m\u001b[49m\u001b[47m \u001b[30m\u001b[49m\u001b[47m \u001b[30m\u001b[49m\u001b[47m \u001b[30m\u001b[49m\u001b[47m \u001b[30m\u001b[49m\u001b[47m \u001b[30m\u001b[49m\u001b[47m \u001b[30m\u001b[49m\u001b[47m \u001b[30m\u001b[49m\u001b[47m \u001b[30m\u001b[49m\u001b[47m \u001b[30m\u001b[49m\u001b[47m \u001b[30m\u001b[49m\u001b[47m \u001b[30m\u001b[49m\u001b[47m \u001b[30m\u001b[49m\u001b[47m \u001b[30m\u001b[49m\u001b[47m \u001b[30m\u001b[49m\u001b[47m \u001b[30m\u001b[49m\u001b[47m \u001b[30m\u001b[49m\u001b[47m \u001b[30m\u001b[49m\u001b[47m \u001b[30m\u001b[49m\u001b[47m \u001b[30m\u001b[49m\u001b[47m \u001b[30m\u001b[49m\u001b[47m \u001b[30m\u001b[49m\u001b[47m \u001b[30m\u001b[49m\u001b[47m \u001b[30m\u001b[49m\u001b[47m \u001b[30m\u001b[49m\u001b[47m \u001b[30m\u001b[49m\n",
            "Subread 14\t \u001b[47m \u001b[30m\u001b[49m\u001b[47m \u001b[30m\u001b[49m\u001b[47m \u001b[30m\u001b[49m\u001b[47m \u001b[30m\u001b[49m\u001b[47m \u001b[30m\u001b[49m\u001b[47m \u001b[30m\u001b[49m\u001b[47m \u001b[30m\u001b[49m\u001b[47m \u001b[30m\u001b[49m\u001b[47m \u001b[30m\u001b[49m\u001b[47m \u001b[30m\u001b[49m\u001b[47m \u001b[30m\u001b[49m\u001b[47m \u001b[30m\u001b[49m\u001b[47m \u001b[30m\u001b[49m\u001b[47m \u001b[30m\u001b[49m\u001b[47m \u001b[30m\u001b[49m\u001b[47m \u001b[30m\u001b[49m\u001b[47m \u001b[30m\u001b[49m\u001b[47m \u001b[30m\u001b[49m\u001b[47m \u001b[30m\u001b[49m\u001b[47m \u001b[30m\u001b[49m\u001b[47m \u001b[30m\u001b[49m\u001b[47m \u001b[30m\u001b[49m\u001b[47m \u001b[30m\u001b[49m\u001b[47m \u001b[30m\u001b[49m\u001b[47m \u001b[30m\u001b[49m\u001b[47m \u001b[30m\u001b[49m\u001b[47m \u001b[30m\u001b[49m\u001b[47m \u001b[30m\u001b[49m\u001b[47m \u001b[30m\u001b[49m\u001b[47m \u001b[30m\u001b[49m\u001b[47m \u001b[30m\u001b[49m\u001b[47m \u001b[30m\u001b[49m\u001b[47m \u001b[30m\u001b[49m\u001b[47m \u001b[30m\u001b[49m\u001b[47m \u001b[30m\u001b[49m\u001b[47m \u001b[30m\u001b[49m\u001b[47m \u001b[30m\u001b[49m\u001b[47m \u001b[30m\u001b[49m\u001b[47m \u001b[30m\u001b[49m\u001b[47m \u001b[30m\u001b[49m\u001b[47m \u001b[30m\u001b[49m\u001b[47m \u001b[30m\u001b[49m\u001b[47m \u001b[30m\u001b[49m\u001b[47m \u001b[30m\u001b[49m\u001b[47m \u001b[30m\u001b[49m\u001b[47m \u001b[30m\u001b[49m\u001b[47m \u001b[30m\u001b[49m\u001b[47m \u001b[30m\u001b[49m\u001b[47m \u001b[30m\u001b[49m\u001b[47m \u001b[30m\u001b[49m\u001b[47m \u001b[30m\u001b[49m\u001b[47m \u001b[30m\u001b[49m\u001b[47m \u001b[30m\u001b[49m\u001b[47m \u001b[30m\u001b[49m\u001b[47m \u001b[30m\u001b[49m\u001b[47m \u001b[30m\u001b[49m\u001b[47m \u001b[30m\u001b[49m\u001b[47m \u001b[30m\u001b[49m\u001b[47m \u001b[30m\u001b[49m\u001b[47m \u001b[30m\u001b[49m\u001b[47m \u001b[30m\u001b[49m\u001b[47m \u001b[30m\u001b[49m\u001b[47m \u001b[30m\u001b[49m\u001b[47m \u001b[30m\u001b[49m\u001b[47m \u001b[30m\u001b[49m\u001b[47m \u001b[30m\u001b[49m\u001b[47m \u001b[30m\u001b[49m\u001b[47m \u001b[30m\u001b[49m\u001b[47m \u001b[30m\u001b[49m\u001b[47m \u001b[30m\u001b[49m\u001b[47m \u001b[30m\u001b[49m\u001b[47m \u001b[30m\u001b[49m\u001b[47m \u001b[30m\u001b[49m\u001b[47m \u001b[30m\u001b[49m\u001b[47m \u001b[30m\u001b[49m\u001b[47m \u001b[30m\u001b[49m\u001b[47m \u001b[30m\u001b[49m\u001b[47m \u001b[30m\u001b[49m\u001b[47m \u001b[30m\u001b[49m\u001b[47m \u001b[30m\u001b[49m\u001b[47m \u001b[30m\u001b[49m\u001b[47m \u001b[30m\u001b[49m\u001b[47m \u001b[30m\u001b[49m\u001b[47m \u001b[30m\u001b[49m\u001b[47m \u001b[30m\u001b[49m\u001b[47m \u001b[30m\u001b[49m\u001b[47m \u001b[30m\u001b[49m\u001b[47m \u001b[30m\u001b[49m\u001b[47m \u001b[30m\u001b[49m\u001b[47m \u001b[30m\u001b[49m\u001b[47m \u001b[30m\u001b[49m\u001b[47m \u001b[30m\u001b[49m\u001b[47m \u001b[30m\u001b[49m\u001b[47m \u001b[30m\u001b[49m\u001b[47m \u001b[30m\u001b[49m\u001b[47m \u001b[30m\u001b[49m\u001b[47m \u001b[30m\u001b[49m\u001b[47m \u001b[30m\u001b[49m\u001b[47m \u001b[30m\u001b[49m\u001b[47m \u001b[30m\u001b[49m\n",
            "Subread 15\t \u001b[47m \u001b[30m\u001b[49m\u001b[47m \u001b[30m\u001b[49m\u001b[47m \u001b[30m\u001b[49m\u001b[47m \u001b[30m\u001b[49m\u001b[47m \u001b[30m\u001b[49m\u001b[47m \u001b[30m\u001b[49m\u001b[47m \u001b[30m\u001b[49m\u001b[47m \u001b[30m\u001b[49m\u001b[47m \u001b[30m\u001b[49m\u001b[47m \u001b[30m\u001b[49m\u001b[47m \u001b[30m\u001b[49m\u001b[47m \u001b[30m\u001b[49m\u001b[47m \u001b[30m\u001b[49m\u001b[47m \u001b[30m\u001b[49m\u001b[47m \u001b[30m\u001b[49m\u001b[47m \u001b[30m\u001b[49m\u001b[47m \u001b[30m\u001b[49m\u001b[47m \u001b[30m\u001b[49m\u001b[47m \u001b[30m\u001b[49m\u001b[47m \u001b[30m\u001b[49m\u001b[47m \u001b[30m\u001b[49m\u001b[47m \u001b[30m\u001b[49m\u001b[47m \u001b[30m\u001b[49m\u001b[47m \u001b[30m\u001b[49m\u001b[47m \u001b[30m\u001b[49m\u001b[47m \u001b[30m\u001b[49m\u001b[47m \u001b[30m\u001b[49m\u001b[47m \u001b[30m\u001b[49m\u001b[47m \u001b[30m\u001b[49m\u001b[47m \u001b[30m\u001b[49m\u001b[47m \u001b[30m\u001b[49m\u001b[47m \u001b[30m\u001b[49m\u001b[47m \u001b[30m\u001b[49m\u001b[47m \u001b[30m\u001b[49m\u001b[47m \u001b[30m\u001b[49m\u001b[47m \u001b[30m\u001b[49m\u001b[47m \u001b[30m\u001b[49m\u001b[47m \u001b[30m\u001b[49m\u001b[47m \u001b[30m\u001b[49m\u001b[47m \u001b[30m\u001b[49m\u001b[47m \u001b[30m\u001b[49m\u001b[47m \u001b[30m\u001b[49m\u001b[47m \u001b[30m\u001b[49m\u001b[47m \u001b[30m\u001b[49m\u001b[47m \u001b[30m\u001b[49m\u001b[47m \u001b[30m\u001b[49m\u001b[47m \u001b[30m\u001b[49m\u001b[47m \u001b[30m\u001b[49m\u001b[47m \u001b[30m\u001b[49m\u001b[47m \u001b[30m\u001b[49m\u001b[47m \u001b[30m\u001b[49m\u001b[47m \u001b[30m\u001b[49m\u001b[47m \u001b[30m\u001b[49m\u001b[47m \u001b[30m\u001b[49m\u001b[47m \u001b[30m\u001b[49m\u001b[47m \u001b[30m\u001b[49m\u001b[47m \u001b[30m\u001b[49m\u001b[47m \u001b[30m\u001b[49m\u001b[47m \u001b[30m\u001b[49m\u001b[47m \u001b[30m\u001b[49m\u001b[47m \u001b[30m\u001b[49m\u001b[47m \u001b[30m\u001b[49m\u001b[47m \u001b[30m\u001b[49m\u001b[47m \u001b[30m\u001b[49m\u001b[47m \u001b[30m\u001b[49m\u001b[47m \u001b[30m\u001b[49m\u001b[47m \u001b[30m\u001b[49m\u001b[47m \u001b[30m\u001b[49m\u001b[47m \u001b[30m\u001b[49m\u001b[47m \u001b[30m\u001b[49m\u001b[47m \u001b[30m\u001b[49m\u001b[47m \u001b[30m\u001b[49m\u001b[47m \u001b[30m\u001b[49m\u001b[47m \u001b[30m\u001b[49m\u001b[47m \u001b[30m\u001b[49m\u001b[47m \u001b[30m\u001b[49m\u001b[47m \u001b[30m\u001b[49m\u001b[47m \u001b[30m\u001b[49m\u001b[47m \u001b[30m\u001b[49m\u001b[47m \u001b[30m\u001b[49m\u001b[47m \u001b[30m\u001b[49m\u001b[47m \u001b[30m\u001b[49m\u001b[47m \u001b[30m\u001b[49m\u001b[47m \u001b[30m\u001b[49m\u001b[47m \u001b[30m\u001b[49m\u001b[47m \u001b[30m\u001b[49m\u001b[47m \u001b[30m\u001b[49m\u001b[47m \u001b[30m\u001b[49m\u001b[47m \u001b[30m\u001b[49m\u001b[47m \u001b[30m\u001b[49m\u001b[47m \u001b[30m\u001b[49m\u001b[47m \u001b[30m\u001b[49m\u001b[47m \u001b[30m\u001b[49m\u001b[47m \u001b[30m\u001b[49m\u001b[47m \u001b[30m\u001b[49m\u001b[47m \u001b[30m\u001b[49m\u001b[47m \u001b[30m\u001b[49m\u001b[47m \u001b[30m\u001b[49m\u001b[47m \u001b[30m\u001b[49m\u001b[47m \u001b[30m\u001b[49m\n",
            "Subread 16\t \u001b[47m \u001b[30m\u001b[49m\u001b[47m \u001b[30m\u001b[49m\u001b[47m \u001b[30m\u001b[49m\u001b[47m \u001b[30m\u001b[49m\u001b[47m \u001b[30m\u001b[49m\u001b[47m \u001b[30m\u001b[49m\u001b[47m \u001b[30m\u001b[49m\u001b[47m \u001b[30m\u001b[49m\u001b[47m \u001b[30m\u001b[49m\u001b[47m \u001b[30m\u001b[49m\u001b[47m \u001b[30m\u001b[49m\u001b[47m \u001b[30m\u001b[49m\u001b[47m \u001b[30m\u001b[49m\u001b[47m \u001b[30m\u001b[49m\u001b[47m \u001b[30m\u001b[49m\u001b[47m \u001b[30m\u001b[49m\u001b[47m \u001b[30m\u001b[49m\u001b[47m \u001b[30m\u001b[49m\u001b[47m \u001b[30m\u001b[49m\u001b[47m \u001b[30m\u001b[49m\u001b[47m \u001b[30m\u001b[49m\u001b[47m \u001b[30m\u001b[49m\u001b[47m \u001b[30m\u001b[49m\u001b[47m \u001b[30m\u001b[49m\u001b[47m \u001b[30m\u001b[49m\u001b[47m \u001b[30m\u001b[49m\u001b[47m \u001b[30m\u001b[49m\u001b[47m \u001b[30m\u001b[49m\u001b[47m \u001b[30m\u001b[49m\u001b[47m \u001b[30m\u001b[49m\u001b[47m \u001b[30m\u001b[49m\u001b[47m \u001b[30m\u001b[49m\u001b[47m \u001b[30m\u001b[49m\u001b[47m \u001b[30m\u001b[49m\u001b[47m \u001b[30m\u001b[49m\u001b[47m \u001b[30m\u001b[49m\u001b[47m \u001b[30m\u001b[49m\u001b[47m \u001b[30m\u001b[49m\u001b[47m \u001b[30m\u001b[49m\u001b[47m \u001b[30m\u001b[49m\u001b[47m \u001b[30m\u001b[49m\u001b[47m \u001b[30m\u001b[49m\u001b[47m \u001b[30m\u001b[49m\u001b[47m \u001b[30m\u001b[49m\u001b[47m \u001b[30m\u001b[49m\u001b[47m \u001b[30m\u001b[49m\u001b[47m \u001b[30m\u001b[49m\u001b[47m \u001b[30m\u001b[49m\u001b[47m \u001b[30m\u001b[49m\u001b[47m \u001b[30m\u001b[49m\u001b[47m \u001b[30m\u001b[49m\u001b[47m \u001b[30m\u001b[49m\u001b[47m \u001b[30m\u001b[49m\u001b[47m \u001b[30m\u001b[49m\u001b[47m \u001b[30m\u001b[49m\u001b[47m \u001b[30m\u001b[49m\u001b[47m \u001b[30m\u001b[49m\u001b[47m \u001b[30m\u001b[49m\u001b[47m \u001b[30m\u001b[49m\u001b[47m \u001b[30m\u001b[49m\u001b[47m \u001b[30m\u001b[49m\u001b[47m \u001b[30m\u001b[49m\u001b[47m \u001b[30m\u001b[49m\u001b[47m \u001b[30m\u001b[49m\u001b[47m \u001b[30m\u001b[49m\u001b[47m \u001b[30m\u001b[49m\u001b[47m \u001b[30m\u001b[49m\u001b[47m \u001b[30m\u001b[49m\u001b[47m \u001b[30m\u001b[49m\u001b[47m \u001b[30m\u001b[49m\u001b[47m \u001b[30m\u001b[49m\u001b[47m \u001b[30m\u001b[49m\u001b[47m \u001b[30m\u001b[49m\u001b[47m \u001b[30m\u001b[49m\u001b[47m \u001b[30m\u001b[49m\u001b[47m \u001b[30m\u001b[49m\u001b[47m \u001b[30m\u001b[49m\u001b[47m \u001b[30m\u001b[49m\u001b[47m \u001b[30m\u001b[49m\u001b[47m \u001b[30m\u001b[49m\u001b[47m \u001b[30m\u001b[49m\u001b[47m \u001b[30m\u001b[49m\u001b[47m \u001b[30m\u001b[49m\u001b[47m \u001b[30m\u001b[49m\u001b[47m \u001b[30m\u001b[49m\u001b[47m \u001b[30m\u001b[49m\u001b[47m \u001b[30m\u001b[49m\u001b[47m \u001b[30m\u001b[49m\u001b[47m \u001b[30m\u001b[49m\u001b[47m \u001b[30m\u001b[49m\u001b[47m \u001b[30m\u001b[49m\u001b[47m \u001b[30m\u001b[49m\u001b[47m \u001b[30m\u001b[49m\u001b[47m \u001b[30m\u001b[49m\u001b[47m \u001b[30m\u001b[49m\u001b[47m \u001b[30m\u001b[49m\u001b[47m \u001b[30m\u001b[49m\u001b[47m \u001b[30m\u001b[49m\u001b[47m \u001b[30m\u001b[49m\u001b[47m \u001b[30m\u001b[49m\n",
            "Subread 17\t \u001b[47m \u001b[30m\u001b[49m\u001b[47m \u001b[30m\u001b[49m\u001b[47m \u001b[30m\u001b[49m\u001b[47m \u001b[30m\u001b[49m\u001b[47m \u001b[30m\u001b[49m\u001b[47m \u001b[30m\u001b[49m\u001b[47m \u001b[30m\u001b[49m\u001b[47m \u001b[30m\u001b[49m\u001b[47m \u001b[30m\u001b[49m\u001b[47m \u001b[30m\u001b[49m\u001b[47m \u001b[30m\u001b[49m\u001b[47m \u001b[30m\u001b[49m\u001b[47m \u001b[30m\u001b[49m\u001b[47m \u001b[30m\u001b[49m\u001b[47m \u001b[30m\u001b[49m\u001b[47m \u001b[30m\u001b[49m\u001b[47m \u001b[30m\u001b[49m\u001b[47m \u001b[30m\u001b[49m\u001b[47m \u001b[30m\u001b[49m\u001b[47m \u001b[30m\u001b[49m\u001b[47m \u001b[30m\u001b[49m\u001b[47m \u001b[30m\u001b[49m\u001b[47m \u001b[30m\u001b[49m\u001b[47m \u001b[30m\u001b[49m\u001b[47m \u001b[30m\u001b[49m\u001b[47m \u001b[30m\u001b[49m\u001b[47m \u001b[30m\u001b[49m\u001b[47m \u001b[30m\u001b[49m\u001b[47m \u001b[30m\u001b[49m\u001b[47m \u001b[30m\u001b[49m\u001b[47m \u001b[30m\u001b[49m\u001b[47m \u001b[30m\u001b[49m\u001b[47m \u001b[30m\u001b[49m\u001b[47m \u001b[30m\u001b[49m\u001b[47m \u001b[30m\u001b[49m\u001b[47m \u001b[30m\u001b[49m\u001b[47m \u001b[30m\u001b[49m\u001b[47m \u001b[30m\u001b[49m\u001b[47m \u001b[30m\u001b[49m\u001b[47m \u001b[30m\u001b[49m\u001b[47m \u001b[30m\u001b[49m\u001b[47m \u001b[30m\u001b[49m\u001b[47m \u001b[30m\u001b[49m\u001b[47m \u001b[30m\u001b[49m\u001b[47m \u001b[30m\u001b[49m\u001b[47m \u001b[30m\u001b[49m\u001b[47m \u001b[30m\u001b[49m\u001b[47m \u001b[30m\u001b[49m\u001b[47m \u001b[30m\u001b[49m\u001b[47m \u001b[30m\u001b[49m\u001b[47m \u001b[30m\u001b[49m\u001b[47m \u001b[30m\u001b[49m\u001b[47m \u001b[30m\u001b[49m\u001b[47m \u001b[30m\u001b[49m\u001b[47m \u001b[30m\u001b[49m\u001b[47m \u001b[30m\u001b[49m\u001b[47m \u001b[30m\u001b[49m\u001b[47m \u001b[30m\u001b[49m\u001b[47m \u001b[30m\u001b[49m\u001b[47m \u001b[30m\u001b[49m\u001b[47m \u001b[30m\u001b[49m\u001b[47m \u001b[30m\u001b[49m\u001b[47m \u001b[30m\u001b[49m\u001b[47m \u001b[30m\u001b[49m\u001b[47m \u001b[30m\u001b[49m\u001b[47m \u001b[30m\u001b[49m\u001b[47m \u001b[30m\u001b[49m\u001b[47m \u001b[30m\u001b[49m\u001b[47m \u001b[30m\u001b[49m\u001b[47m \u001b[30m\u001b[49m\u001b[47m \u001b[30m\u001b[49m\u001b[47m \u001b[30m\u001b[49m\u001b[47m \u001b[30m\u001b[49m\u001b[47m \u001b[30m\u001b[49m\u001b[47m \u001b[30m\u001b[49m\u001b[47m \u001b[30m\u001b[49m\u001b[47m \u001b[30m\u001b[49m\u001b[47m \u001b[30m\u001b[49m\u001b[47m \u001b[30m\u001b[49m\u001b[47m \u001b[30m\u001b[49m\u001b[47m \u001b[30m\u001b[49m\u001b[47m \u001b[30m\u001b[49m\u001b[47m \u001b[30m\u001b[49m\u001b[47m \u001b[30m\u001b[49m\u001b[47m \u001b[30m\u001b[49m\u001b[47m \u001b[30m\u001b[49m\u001b[47m \u001b[30m\u001b[49m\u001b[47m \u001b[30m\u001b[49m\u001b[47m \u001b[30m\u001b[49m\u001b[47m \u001b[30m\u001b[49m\u001b[47m \u001b[30m\u001b[49m\u001b[47m \u001b[30m\u001b[49m\u001b[47m \u001b[30m\u001b[49m\u001b[47m \u001b[30m\u001b[49m\u001b[47m \u001b[30m\u001b[49m\u001b[47m \u001b[30m\u001b[49m\u001b[47m \u001b[30m\u001b[49m\u001b[47m \u001b[30m\u001b[49m\u001b[47m \u001b[30m\u001b[49m\u001b[47m \u001b[30m\u001b[49m\n",
            "Subread 18\t \u001b[47m \u001b[30m\u001b[49m\u001b[47m \u001b[30m\u001b[49m\u001b[47m \u001b[30m\u001b[49m\u001b[47m \u001b[30m\u001b[49m\u001b[47m \u001b[30m\u001b[49m\u001b[47m \u001b[30m\u001b[49m\u001b[47m \u001b[30m\u001b[49m\u001b[47m \u001b[30m\u001b[49m\u001b[47m \u001b[30m\u001b[49m\u001b[47m \u001b[30m\u001b[49m\u001b[47m \u001b[30m\u001b[49m\u001b[47m \u001b[30m\u001b[49m\u001b[47m \u001b[30m\u001b[49m\u001b[47m \u001b[30m\u001b[49m\u001b[47m \u001b[30m\u001b[49m\u001b[47m \u001b[30m\u001b[49m\u001b[47m \u001b[30m\u001b[49m\u001b[47m \u001b[30m\u001b[49m\u001b[47m \u001b[30m\u001b[49m\u001b[47m \u001b[30m\u001b[49m\u001b[47m \u001b[30m\u001b[49m\u001b[47m \u001b[30m\u001b[49m\u001b[47m \u001b[30m\u001b[49m\u001b[47m \u001b[30m\u001b[49m\u001b[47m \u001b[30m\u001b[49m\u001b[47m \u001b[30m\u001b[49m\u001b[47m \u001b[30m\u001b[49m\u001b[47m \u001b[30m\u001b[49m\u001b[47m \u001b[30m\u001b[49m\u001b[47m \u001b[30m\u001b[49m\u001b[47m \u001b[30m\u001b[49m\u001b[47m \u001b[30m\u001b[49m\u001b[47m \u001b[30m\u001b[49m\u001b[47m \u001b[30m\u001b[49m\u001b[47m \u001b[30m\u001b[49m\u001b[47m \u001b[30m\u001b[49m\u001b[47m \u001b[30m\u001b[49m\u001b[47m \u001b[30m\u001b[49m\u001b[47m \u001b[30m\u001b[49m\u001b[47m \u001b[30m\u001b[49m\u001b[47m \u001b[30m\u001b[49m\u001b[47m \u001b[30m\u001b[49m\u001b[47m \u001b[30m\u001b[49m\u001b[47m \u001b[30m\u001b[49m\u001b[47m \u001b[30m\u001b[49m\u001b[47m \u001b[30m\u001b[49m\u001b[47m \u001b[30m\u001b[49m\u001b[47m \u001b[30m\u001b[49m\u001b[47m \u001b[30m\u001b[49m\u001b[47m \u001b[30m\u001b[49m\u001b[47m \u001b[30m\u001b[49m\u001b[47m \u001b[30m\u001b[49m\u001b[47m \u001b[30m\u001b[49m\u001b[47m \u001b[30m\u001b[49m\u001b[47m \u001b[30m\u001b[49m\u001b[47m \u001b[30m\u001b[49m\u001b[47m \u001b[30m\u001b[49m\u001b[47m \u001b[30m\u001b[49m\u001b[47m \u001b[30m\u001b[49m\u001b[47m \u001b[30m\u001b[49m\u001b[47m \u001b[30m\u001b[49m\u001b[47m \u001b[30m\u001b[49m\u001b[47m \u001b[30m\u001b[49m\u001b[47m \u001b[30m\u001b[49m\u001b[47m \u001b[30m\u001b[49m\u001b[47m \u001b[30m\u001b[49m\u001b[47m \u001b[30m\u001b[49m\u001b[47m \u001b[30m\u001b[49m\u001b[47m \u001b[30m\u001b[49m\u001b[47m \u001b[30m\u001b[49m\u001b[47m \u001b[30m\u001b[49m\u001b[47m \u001b[30m\u001b[49m\u001b[47m \u001b[30m\u001b[49m\u001b[47m \u001b[30m\u001b[49m\u001b[47m \u001b[30m\u001b[49m\u001b[47m \u001b[30m\u001b[49m\u001b[47m \u001b[30m\u001b[49m\u001b[47m \u001b[30m\u001b[49m\u001b[47m \u001b[30m\u001b[49m\u001b[47m \u001b[30m\u001b[49m\u001b[47m \u001b[30m\u001b[49m\u001b[47m \u001b[30m\u001b[49m\u001b[47m \u001b[30m\u001b[49m\u001b[47m \u001b[30m\u001b[49m\u001b[47m \u001b[30m\u001b[49m\u001b[47m \u001b[30m\u001b[49m\u001b[47m \u001b[30m\u001b[49m\u001b[47m \u001b[30m\u001b[49m\u001b[47m \u001b[30m\u001b[49m\u001b[47m \u001b[30m\u001b[49m\u001b[47m \u001b[30m\u001b[49m\u001b[47m \u001b[30m\u001b[49m\u001b[47m \u001b[30m\u001b[49m\u001b[47m \u001b[30m\u001b[49m\u001b[47m \u001b[30m\u001b[49m\u001b[47m \u001b[30m\u001b[49m\u001b[47m \u001b[30m\u001b[49m\u001b[47m \u001b[30m\u001b[49m\u001b[47m \u001b[30m\u001b[49m\u001b[47m \u001b[30m\u001b[49m\n",
            "Subread 19\t \u001b[47m \u001b[30m\u001b[49m\u001b[47m \u001b[30m\u001b[49m\u001b[47m \u001b[30m\u001b[49m\u001b[47m \u001b[30m\u001b[49m\u001b[47m \u001b[30m\u001b[49m\u001b[47m \u001b[30m\u001b[49m\u001b[47m \u001b[30m\u001b[49m\u001b[47m \u001b[30m\u001b[49m\u001b[47m \u001b[30m\u001b[49m\u001b[47m \u001b[30m\u001b[49m\u001b[47m \u001b[30m\u001b[49m\u001b[47m \u001b[30m\u001b[49m\u001b[47m \u001b[30m\u001b[49m\u001b[47m \u001b[30m\u001b[49m\u001b[47m \u001b[30m\u001b[49m\u001b[47m \u001b[30m\u001b[49m\u001b[47m \u001b[30m\u001b[49m\u001b[47m \u001b[30m\u001b[49m\u001b[47m \u001b[30m\u001b[49m\u001b[47m \u001b[30m\u001b[49m\u001b[47m \u001b[30m\u001b[49m\u001b[47m \u001b[30m\u001b[49m\u001b[47m \u001b[30m\u001b[49m\u001b[47m \u001b[30m\u001b[49m\u001b[47m \u001b[30m\u001b[49m\u001b[47m \u001b[30m\u001b[49m\u001b[47m \u001b[30m\u001b[49m\u001b[47m \u001b[30m\u001b[49m\u001b[47m \u001b[30m\u001b[49m\u001b[47m \u001b[30m\u001b[49m\u001b[47m \u001b[30m\u001b[49m\u001b[47m \u001b[30m\u001b[49m\u001b[47m \u001b[30m\u001b[49m\u001b[47m \u001b[30m\u001b[49m\u001b[47m \u001b[30m\u001b[49m\u001b[47m \u001b[30m\u001b[49m\u001b[47m \u001b[30m\u001b[49m\u001b[47m \u001b[30m\u001b[49m\u001b[47m \u001b[30m\u001b[49m\u001b[47m \u001b[30m\u001b[49m\u001b[47m \u001b[30m\u001b[49m\u001b[47m \u001b[30m\u001b[49m\u001b[47m \u001b[30m\u001b[49m\u001b[47m \u001b[30m\u001b[49m\u001b[47m \u001b[30m\u001b[49m\u001b[47m \u001b[30m\u001b[49m\u001b[47m \u001b[30m\u001b[49m\u001b[47m \u001b[30m\u001b[49m\u001b[47m \u001b[30m\u001b[49m\u001b[47m \u001b[30m\u001b[49m\u001b[47m \u001b[30m\u001b[49m\u001b[47m \u001b[30m\u001b[49m\u001b[47m \u001b[30m\u001b[49m\u001b[47m \u001b[30m\u001b[49m\u001b[47m \u001b[30m\u001b[49m\u001b[47m \u001b[30m\u001b[49m\u001b[47m \u001b[30m\u001b[49m\u001b[47m \u001b[30m\u001b[49m\u001b[47m \u001b[30m\u001b[49m\u001b[47m \u001b[30m\u001b[49m\u001b[47m \u001b[30m\u001b[49m\u001b[47m \u001b[30m\u001b[49m\u001b[47m \u001b[30m\u001b[49m\u001b[47m \u001b[30m\u001b[49m\u001b[47m \u001b[30m\u001b[49m\u001b[47m \u001b[30m\u001b[49m\u001b[47m \u001b[30m\u001b[49m\u001b[47m \u001b[30m\u001b[49m\u001b[47m \u001b[30m\u001b[49m\u001b[47m \u001b[30m\u001b[49m\u001b[47m \u001b[30m\u001b[49m\u001b[47m \u001b[30m\u001b[49m\u001b[47m \u001b[30m\u001b[49m\u001b[47m \u001b[30m\u001b[49m\u001b[47m \u001b[30m\u001b[49m\u001b[47m \u001b[30m\u001b[49m\u001b[47m \u001b[30m\u001b[49m\u001b[47m \u001b[30m\u001b[49m\u001b[47m \u001b[30m\u001b[49m\u001b[47m \u001b[30m\u001b[49m\u001b[47m \u001b[30m\u001b[49m\u001b[47m \u001b[30m\u001b[49m\u001b[47m \u001b[30m\u001b[49m\u001b[47m \u001b[30m\u001b[49m\u001b[47m \u001b[30m\u001b[49m\u001b[47m \u001b[30m\u001b[49m\u001b[47m \u001b[30m\u001b[49m\u001b[47m \u001b[30m\u001b[49m\u001b[47m \u001b[30m\u001b[49m\u001b[47m \u001b[30m\u001b[49m\u001b[47m \u001b[30m\u001b[49m\u001b[47m \u001b[30m\u001b[49m\u001b[47m \u001b[30m\u001b[49m\u001b[47m \u001b[30m\u001b[49m\u001b[47m \u001b[30m\u001b[49m\u001b[47m \u001b[30m\u001b[49m\u001b[47m \u001b[30m\u001b[49m\u001b[47m \u001b[30m\u001b[49m\u001b[47m \u001b[30m\u001b[49m\u001b[47m \u001b[30m\u001b[49m\n",
            "Subread 20\t \u001b[47m \u001b[30m\u001b[49m\u001b[47m \u001b[30m\u001b[49m\u001b[47m \u001b[30m\u001b[49m\u001b[47m \u001b[30m\u001b[49m\u001b[47m \u001b[30m\u001b[49m\u001b[47m \u001b[30m\u001b[49m\u001b[47m \u001b[30m\u001b[49m\u001b[47m \u001b[30m\u001b[49m\u001b[47m \u001b[30m\u001b[49m\u001b[47m \u001b[30m\u001b[49m\u001b[47m \u001b[30m\u001b[49m\u001b[47m \u001b[30m\u001b[49m\u001b[47m \u001b[30m\u001b[49m\u001b[47m \u001b[30m\u001b[49m\u001b[47m \u001b[30m\u001b[49m\u001b[47m \u001b[30m\u001b[49m\u001b[47m \u001b[30m\u001b[49m\u001b[47m \u001b[30m\u001b[49m\u001b[47m \u001b[30m\u001b[49m\u001b[47m \u001b[30m\u001b[49m\u001b[47m \u001b[30m\u001b[49m\u001b[47m \u001b[30m\u001b[49m\u001b[47m \u001b[30m\u001b[49m\u001b[47m \u001b[30m\u001b[49m\u001b[47m \u001b[30m\u001b[49m\u001b[47m \u001b[30m\u001b[49m\u001b[47m \u001b[30m\u001b[49m\u001b[47m \u001b[30m\u001b[49m\u001b[47m \u001b[30m\u001b[49m\u001b[47m \u001b[30m\u001b[49m\u001b[47m \u001b[30m\u001b[49m\u001b[47m \u001b[30m\u001b[49m\u001b[47m \u001b[30m\u001b[49m\u001b[47m \u001b[30m\u001b[49m\u001b[47m \u001b[30m\u001b[49m\u001b[47m \u001b[30m\u001b[49m\u001b[47m \u001b[30m\u001b[49m\u001b[47m \u001b[30m\u001b[49m\u001b[47m \u001b[30m\u001b[49m\u001b[47m \u001b[30m\u001b[49m\u001b[47m \u001b[30m\u001b[49m\u001b[47m \u001b[30m\u001b[49m\u001b[47m \u001b[30m\u001b[49m\u001b[47m \u001b[30m\u001b[49m\u001b[47m \u001b[30m\u001b[49m\u001b[47m \u001b[30m\u001b[49m\u001b[47m \u001b[30m\u001b[49m\u001b[47m \u001b[30m\u001b[49m\u001b[47m \u001b[30m\u001b[49m\u001b[47m \u001b[30m\u001b[49m\u001b[47m \u001b[30m\u001b[49m\u001b[47m \u001b[30m\u001b[49m\u001b[47m \u001b[30m\u001b[49m\u001b[47m \u001b[30m\u001b[49m\u001b[47m \u001b[30m\u001b[49m\u001b[47m \u001b[30m\u001b[49m\u001b[47m \u001b[30m\u001b[49m\u001b[47m \u001b[30m\u001b[49m\u001b[47m \u001b[30m\u001b[49m\u001b[47m \u001b[30m\u001b[49m\u001b[47m \u001b[30m\u001b[49m\u001b[47m \u001b[30m\u001b[49m\u001b[47m \u001b[30m\u001b[49m\u001b[47m \u001b[30m\u001b[49m\u001b[47m \u001b[30m\u001b[49m\u001b[47m \u001b[30m\u001b[49m\u001b[47m \u001b[30m\u001b[49m\u001b[47m \u001b[30m\u001b[49m\u001b[47m \u001b[30m\u001b[49m\u001b[47m \u001b[30m\u001b[49m\u001b[47m \u001b[30m\u001b[49m\u001b[47m \u001b[30m\u001b[49m\u001b[47m \u001b[30m\u001b[49m\u001b[47m \u001b[30m\u001b[49m\u001b[47m \u001b[30m\u001b[49m\u001b[47m \u001b[30m\u001b[49m\u001b[47m \u001b[30m\u001b[49m\u001b[47m \u001b[30m\u001b[49m\u001b[47m \u001b[30m\u001b[49m\u001b[47m \u001b[30m\u001b[49m\u001b[47m \u001b[30m\u001b[49m\u001b[47m \u001b[30m\u001b[49m\u001b[47m \u001b[30m\u001b[49m\u001b[47m \u001b[30m\u001b[49m\u001b[47m \u001b[30m\u001b[49m\u001b[47m \u001b[30m\u001b[49m\u001b[47m \u001b[30m\u001b[49m\u001b[47m \u001b[30m\u001b[49m\u001b[47m \u001b[30m\u001b[49m\u001b[47m \u001b[30m\u001b[49m\u001b[47m \u001b[30m\u001b[49m\u001b[47m \u001b[30m\u001b[49m\u001b[47m \u001b[30m\u001b[49m\u001b[47m \u001b[30m\u001b[49m\u001b[47m \u001b[30m\u001b[49m\u001b[47m \u001b[30m\u001b[49m\u001b[47m \u001b[30m\u001b[49m\u001b[47m \u001b[30m\u001b[49m\u001b[47m \u001b[30m\u001b[49m\u001b[47m \u001b[30m\u001b[49m\n",
            "ccs:\t\t \u001b[31mT\u001b[30m\u001b[49m\u001b[31mT\u001b[30m\u001b[49m\u001b[31mT\u001b[30m\u001b[49m\u001b[31mT\u001b[30m\u001b[49m\u001b[33mG\u001b[30m\u001b[49m\u001b[34mC\u001b[30m\u001b[49m\u001b[31mT\u001b[30m\u001b[49m\u001b[34mC\u001b[30m\u001b[49m\u001b[31mT\u001b[30m\u001b[49m\u001b[47m \u001b[30m\u001b[49m\u001b[31mT\u001b[30m\u001b[49m\u001b[31mT\u001b[30m\u001b[49m\u001b[31mT\u001b[30m\u001b[49m\u001b[33mG\u001b[30m\u001b[49m\u001b[47m \u001b[30m\u001b[49m\u001b[33mG\u001b[30m\u001b[49m\u001b[47m \u001b[30m\u001b[49m\u001b[31mT\u001b[30m\u001b[49m\u001b[31mT\u001b[30m\u001b[49m\u001b[31mT\u001b[30m\u001b[49m\u001b[33mG\u001b[30m\u001b[49m\u001b[47m \u001b[30m\u001b[49m\u001b[47m \u001b[30m\u001b[49m\u001b[47m \u001b[30m\u001b[49m\u001b[31mT\u001b[30m\u001b[49m\u001b[31mT\u001b[30m\u001b[49m\u001b[31mT\u001b[30m\u001b[49m\u001b[31mT\u001b[30m\u001b[49m\u001b[31mT\u001b[30m\u001b[49m\u001b[31mT\u001b[30m\u001b[49m\u001b[32mA\u001b[30m\u001b[49m\u001b[32mA\u001b[30m\u001b[49m\u001b[47m \u001b[30m\u001b[49m\u001b[31mT\u001b[30m\u001b[49m\u001b[31mT\u001b[30m\u001b[49m\u001b[34mC\u001b[30m\u001b[49m\u001b[34mC\u001b[30m\u001b[49m\u001b[47m \u001b[30m\u001b[49m\u001b[32mA\u001b[30m\u001b[49m\u001b[47m \u001b[30m\u001b[49m\u001b[31mT\u001b[30m\u001b[49m\u001b[34mC\u001b[30m\u001b[49m\u001b[31mT\u001b[30m\u001b[49m\u001b[34mC\u001b[30m\u001b[49m\u001b[34mC\u001b[30m\u001b[49m\u001b[31mT\u001b[30m\u001b[49m\u001b[34mC\u001b[30m\u001b[49m\u001b[31mT\u001b[30m\u001b[49m\u001b[33mG\u001b[30m\u001b[49m\u001b[33mG\u001b[30m\u001b[49m\u001b[47m \u001b[30m\u001b[49m\u001b[31mT\u001b[30m\u001b[49m\u001b[47m \u001b[30m\u001b[49m\u001b[33mG\u001b[30m\u001b[49m\u001b[33mG\u001b[30m\u001b[49m\u001b[34mC\u001b[30m\u001b[49m\u001b[31mT\u001b[30m\u001b[49m\u001b[32mA\u001b[30m\u001b[49m\u001b[32mA\u001b[30m\u001b[49m\u001b[32mA\u001b[30m\u001b[49m\u001b[32mA\u001b[30m\u001b[49m\u001b[33mG\u001b[30m\u001b[49m\u001b[32mA\u001b[30m\u001b[49m\u001b[31mT\u001b[30m\u001b[49m\u001b[31mT\u001b[30m\u001b[49m\u001b[32mA\u001b[30m\u001b[49m\u001b[31mT\u001b[30m\u001b[49m\u001b[31mT\u001b[30m\u001b[49m\u001b[32mA\u001b[30m\u001b[49m\u001b[32mA\u001b[30m\u001b[49m\u001b[31mT\u001b[30m\u001b[49m\u001b[32mA\u001b[30m\u001b[49m\u001b[47m \u001b[30m\u001b[49m\u001b[31mT\u001b[30m\u001b[49m\u001b[32mA\u001b[30m\u001b[49m\u001b[32mA\u001b[30m\u001b[49m\u001b[47m \u001b[30m\u001b[49m\u001b[47m \u001b[30m\u001b[49m\u001b[31mT\u001b[30m\u001b[49m\u001b[47m \u001b[30m\u001b[49m\u001b[31mT\u001b[30m\u001b[49m\u001b[34mC\u001b[30m\u001b[49m\u001b[47m \u001b[30m\u001b[49m\u001b[31mT\u001b[30m\u001b[49m\u001b[31mT\u001b[30m\u001b[49m\u001b[31mT\u001b[30m\u001b[49m\u001b[31mT\u001b[30m\u001b[49m\u001b[47m \u001b[30m\u001b[49m\u001b[31mT\u001b[30m\u001b[49m\u001b[34mC\u001b[30m\u001b[49m\u001b[47m \u001b[30m\u001b[49m\u001b[31mT\u001b[30m\u001b[49m\u001b[31mT\u001b[30m\u001b[49m\u001b[31mT\u001b[30m\u001b[49m\u001b[47m \u001b[30m\u001b[49m\u001b[34mC\u001b[30m\u001b[49m\u001b[47m \u001b[30m\u001b[49m\u001b[32mA\u001b[30m\u001b[49m\u001b[34mC\u001b[30m\u001b[49m\u001b[32mA\u001b[30m\u001b[49m\n",
            "prediction:\t \u001b[31mT\u001b[30m\u001b[49m\u001b[31mT\u001b[30m\u001b[49m\u001b[31mT\u001b[30m\u001b[49m\u001b[31mT\u001b[30m\u001b[49m\u001b[33mG\u001b[30m\u001b[49m\u001b[34mC\u001b[30m\u001b[49m\u001b[31mT\u001b[30m\u001b[49m\u001b[34mC\u001b[30m\u001b[49m\u001b[31mT\u001b[30m\u001b[49m\u001b[47m \u001b[30m\u001b[49m\u001b[31mT\u001b[30m\u001b[49m\u001b[31mT\u001b[30m\u001b[49m\u001b[31mT\u001b[30m\u001b[49m\u001b[33mG\u001b[30m\u001b[49m\u001b[47m \u001b[30m\u001b[49m\u001b[33mG\u001b[30m\u001b[49m\u001b[47m \u001b[30m\u001b[49m\u001b[31mT\u001b[30m\u001b[49m\u001b[31mT\u001b[30m\u001b[49m\u001b[31mT\u001b[30m\u001b[49m\u001b[33mG\u001b[30m\u001b[49m\u001b[47m \u001b[30m\u001b[49m\u001b[47m \u001b[30m\u001b[49m\u001b[47m \u001b[30m\u001b[49m\u001b[31mT\u001b[30m\u001b[49m\u001b[31mT\u001b[30m\u001b[49m\u001b[31mT\u001b[30m\u001b[49m\u001b[31mT\u001b[30m\u001b[49m\u001b[31mT\u001b[30m\u001b[49m\u001b[31mT\u001b[30m\u001b[49m\u001b[32mA\u001b[30m\u001b[49m\u001b[32mA\u001b[30m\u001b[49m\u001b[47m \u001b[30m\u001b[49m\u001b[31mT\u001b[30m\u001b[49m\u001b[31mT\u001b[30m\u001b[49m\u001b[34mC\u001b[30m\u001b[49m\u001b[34mC\u001b[30m\u001b[49m\u001b[47m \u001b[30m\u001b[49m\u001b[32mA\u001b[30m\u001b[49m\u001b[47m \u001b[30m\u001b[49m\u001b[31mT\u001b[30m\u001b[49m\u001b[34mC\u001b[30m\u001b[49m\u001b[31mT\u001b[30m\u001b[49m\u001b[34mC\u001b[30m\u001b[49m\u001b[34mC\u001b[30m\u001b[49m\u001b[31mT\u001b[30m\u001b[49m\u001b[34mC\u001b[30m\u001b[49m\u001b[31mT\u001b[30m\u001b[49m\u001b[33mG\u001b[30m\u001b[49m\u001b[33mG\u001b[30m\u001b[49m\u001b[47m \u001b[30m\u001b[49m\u001b[31mT\u001b[30m\u001b[49m\u001b[47m \u001b[30m\u001b[49m\u001b[33mG\u001b[30m\u001b[49m\u001b[33mG\u001b[30m\u001b[49m\u001b[34mC\u001b[30m\u001b[49m\u001b[31mT\u001b[30m\u001b[49m\u001b[32mA\u001b[30m\u001b[49m\u001b[32mA\u001b[30m\u001b[49m\u001b[32mA\u001b[30m\u001b[49m\u001b[32mA\u001b[30m\u001b[49m\u001b[33mG\u001b[30m\u001b[49m\u001b[32mA\u001b[30m\u001b[49m\u001b[31mT\u001b[30m\u001b[49m\u001b[31mT\u001b[30m\u001b[49m\u001b[32mA\u001b[30m\u001b[49m\u001b[31mT\u001b[30m\u001b[49m\u001b[31mT\u001b[30m\u001b[49m\u001b[32mA\u001b[30m\u001b[49m\u001b[32mA\u001b[30m\u001b[49m\u001b[31mT\u001b[30m\u001b[49m\u001b[32mA\u001b[30m\u001b[49m\u001b[47m \u001b[30m\u001b[49m\u001b[31mT\u001b[30m\u001b[49m\u001b[32mA\u001b[30m\u001b[49m\u001b[32mA\u001b[30m\u001b[49m\u001b[47m \u001b[30m\u001b[49m\u001b[47m \u001b[30m\u001b[49m\u001b[31mT\u001b[30m\u001b[49m\u001b[47m \u001b[30m\u001b[49m\u001b[31mT\u001b[30m\u001b[49m\u001b[34mC\u001b[30m\u001b[49m\u001b[47m \u001b[30m\u001b[49m\u001b[31mT\u001b[30m\u001b[49m\u001b[31mT\u001b[30m\u001b[49m\u001b[31mT\u001b[30m\u001b[49m\u001b[31mT\u001b[30m\u001b[49m\u001b[47m \u001b[30m\u001b[49m\u001b[31mT\u001b[30m\u001b[49m\u001b[34mC\u001b[30m\u001b[49m\u001b[47m \u001b[30m\u001b[49m\u001b[31mT\u001b[30m\u001b[49m\u001b[31mT\u001b[30m\u001b[49m\u001b[31mT\u001b[30m\u001b[49m\u001b[47m \u001b[30m\u001b[49m\u001b[34mC\u001b[30m\u001b[49m\u001b[47m \u001b[30m\u001b[49m\u001b[32mA\u001b[30m\u001b[49m\u001b[34mC\u001b[30m\u001b[49m\u001b[32mA\u001b[30m\u001b[49m\n",
            "label:\t\t \u001b[31mT\u001b[30m\u001b[49m\u001b[31mT\u001b[30m\u001b[49m\u001b[31mT\u001b[30m\u001b[49m\u001b[31mT\u001b[30m\u001b[49m\u001b[33mG\u001b[30m\u001b[49m\u001b[34mC\u001b[30m\u001b[49m\u001b[31mT\u001b[30m\u001b[49m\u001b[34mC\u001b[30m\u001b[49m\u001b[31mT\u001b[30m\u001b[49m\u001b[47m \u001b[30m\u001b[49m\u001b[31mT\u001b[30m\u001b[49m\u001b[31mT\u001b[30m\u001b[49m\u001b[31mT\u001b[30m\u001b[49m\u001b[33mG\u001b[30m\u001b[49m\u001b[47m \u001b[30m\u001b[49m\u001b[33mG\u001b[30m\u001b[49m\u001b[47m \u001b[30m\u001b[49m\u001b[31mT\u001b[30m\u001b[49m\u001b[31mT\u001b[30m\u001b[49m\u001b[31mT\u001b[30m\u001b[49m\u001b[33mG\u001b[30m\u001b[49m\u001b[47m \u001b[30m\u001b[49m\u001b[47m \u001b[30m\u001b[49m\u001b[47m \u001b[30m\u001b[49m\u001b[31mT\u001b[30m\u001b[49m\u001b[31mT\u001b[30m\u001b[49m\u001b[31mT\u001b[30m\u001b[49m\u001b[31mT\u001b[30m\u001b[49m\u001b[31mT\u001b[30m\u001b[49m\u001b[31mT\u001b[30m\u001b[49m\u001b[32mA\u001b[30m\u001b[49m\u001b[32mA\u001b[30m\u001b[49m\u001b[47m \u001b[30m\u001b[49m\u001b[31mT\u001b[30m\u001b[49m\u001b[31mT\u001b[30m\u001b[49m\u001b[34mC\u001b[30m\u001b[49m\u001b[34mC\u001b[30m\u001b[49m\u001b[47m \u001b[30m\u001b[49m\u001b[32mA\u001b[30m\u001b[49m\u001b[47m \u001b[30m\u001b[49m\u001b[31mT\u001b[30m\u001b[49m\u001b[34mC\u001b[30m\u001b[49m\u001b[31mT\u001b[30m\u001b[49m\u001b[34mC\u001b[30m\u001b[49m\u001b[34mC\u001b[30m\u001b[49m\u001b[31mT\u001b[30m\u001b[49m\u001b[34mC\u001b[30m\u001b[49m\u001b[31mT\u001b[30m\u001b[49m\u001b[33mG\u001b[30m\u001b[49m\u001b[33mG\u001b[30m\u001b[49m\u001b[47m \u001b[30m\u001b[49m\u001b[31mT\u001b[30m\u001b[49m\u001b[47m \u001b[30m\u001b[49m\u001b[33mG\u001b[30m\u001b[49m\u001b[33mG\u001b[30m\u001b[49m\u001b[34mC\u001b[30m\u001b[49m\u001b[31mT\u001b[30m\u001b[49m\u001b[32mA\u001b[30m\u001b[49m\u001b[32mA\u001b[30m\u001b[49m\u001b[32mA\u001b[30m\u001b[49m\u001b[32mA\u001b[30m\u001b[49m\u001b[33mG\u001b[30m\u001b[49m\u001b[32mA\u001b[30m\u001b[49m\u001b[31mT\u001b[30m\u001b[49m\u001b[31mT\u001b[30m\u001b[49m\u001b[32mA\u001b[30m\u001b[49m\u001b[31mT\u001b[30m\u001b[49m\u001b[31mT\u001b[30m\u001b[49m\u001b[32mA\u001b[30m\u001b[49m\u001b[32mA\u001b[30m\u001b[49m\u001b[31mT\u001b[30m\u001b[49m\u001b[32mA\u001b[30m\u001b[49m\u001b[47m \u001b[30m\u001b[49m\u001b[31mT\u001b[30m\u001b[49m\u001b[32mA\u001b[30m\u001b[49m\u001b[32mA\u001b[30m\u001b[49m\u001b[47m \u001b[30m\u001b[49m\u001b[47m \u001b[30m\u001b[49m\u001b[31mT\u001b[30m\u001b[49m\u001b[47m \u001b[30m\u001b[49m\u001b[31mT\u001b[30m\u001b[49m\u001b[34mC\u001b[30m\u001b[49m\u001b[47m \u001b[30m\u001b[49m\u001b[31mT\u001b[30m\u001b[49m\u001b[31mT\u001b[30m\u001b[49m\u001b[31mT\u001b[30m\u001b[49m\u001b[31mT\u001b[30m\u001b[49m\u001b[47m \u001b[30m\u001b[49m\u001b[31mT\u001b[30m\u001b[49m\u001b[34mC\u001b[30m\u001b[49m\u001b[47m \u001b[30m\u001b[49m\u001b[31mT\u001b[30m\u001b[49m\u001b[31mT\u001b[30m\u001b[49m\u001b[31mT\u001b[30m\u001b[49m\u001b[47m \u001b[30m\u001b[49m\u001b[34mC\u001b[30m\u001b[49m\u001b[47m \u001b[30m\u001b[49m\u001b[32mA\u001b[30m\u001b[49m\u001b[34mC\u001b[30m\u001b[49m\u001b[32mA\u001b[30m\u001b[49m\n",
            "\n",
            "\n"
          ]
        }
      ],
      "source": [
        "show_example(batch, example_i, ypreds=y_preds)"
      ]
    }
  ],
  "metadata": {
    "colab": {
      "collapsed_sections": [],
      "last_runtime": {
        "build_target": "//experimental/users/danielecook/py_colab:dec_py_colab",
        "kind": "private"
      },
      "provenance": [
        {
          "file_id": "1k4wjUp5-A0_8NMHmwxmF_O8uuJ_qFOnt",
          "timestamp": 1665073292602
        },
        {
          "file_id": "/piper/depot/google3/learning/genomics/deepconsensus/opensource_only/g3doc/notebooks/Inspecting_DeepConsensus_examples_and_running_model.ipynb",
          "timestamp": 1665024306548
        }
      ],
      "toc_visible": true
    },
    "kernelspec": {
      "display_name": "Python 3",
      "name": "python3"
    },
    "language_info": {
      "name": "python"
    }
  },
  "nbformat": 4,
  "nbformat_minor": 0
}
